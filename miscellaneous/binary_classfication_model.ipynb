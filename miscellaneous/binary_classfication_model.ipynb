{
 "cells": [
  {
   "cell_type": "code",
   "execution_count": 1,
   "id": "5699cdb1",
   "metadata": {},
   "outputs": [],
   "source": [
    "import pandas as pd\n",
    "from statsmodels.tsa.stattools import adfuller\n",
    "import os\n",
    "import statsmodels.api as sm\n",
    "from statsmodels.tsa.api import VAR\n",
    "from statsmodels.stats.stattools import durbin_watson\n",
    "from sklearn.metrics import mean_squared_error\n",
    "from statsmodels.tsa.stattools import grangercausalitytests\n",
    "import numpy as np\n",
    "import matplotlib.pyplot as plt\n",
    "\n",
    "from sklearn.utils import shuffle\n",
    "from sklearn.model_selection import train_test_split\n",
    "from sklearn.linear_model import LogisticRegression\n",
    "from pmdarima.arima import auto_arima\n",
    "from sklearn.metrics import confusion_matrix"
   ]
  },
  {
   "cell_type": "code",
   "execution_count": 2,
   "id": "6b01a94a",
   "metadata": {},
   "outputs": [],
   "source": [
    "curr_path = os.getcwd()\n",
    "input_path = os.path.join(curr_path,'cleaned_data.xlsx')\n",
    "\n",
    "data = pd.read_excel(\n",
    "    input_path,\n",
    "    engine='openpyxl',\n",
    ")"
   ]
  },
  {
   "cell_type": "code",
   "execution_count": 3,
   "id": "a741a9c9",
   "metadata": {
    "scrolled": false
   },
   "outputs": [
    {
     "data": {
      "text/html": [
       "<div>\n",
       "<style scoped>\n",
       "    .dataframe tbody tr th:only-of-type {\n",
       "        vertical-align: middle;\n",
       "    }\n",
       "\n",
       "    .dataframe tbody tr th {\n",
       "        vertical-align: top;\n",
       "    }\n",
       "\n",
       "    .dataframe thead th {\n",
       "        text-align: right;\n",
       "    }\n",
       "</style>\n",
       "<table border=\"1\" class=\"dataframe\">\n",
       "  <thead>\n",
       "    <tr style=\"text-align: right;\">\n",
       "      <th></th>\n",
       "      <th>Date</th>\n",
       "      <th>SP500-EPS-Index</th>\n",
       "      <th>SP500-Price</th>\n",
       "      <th>UnemploymentRate</th>\n",
       "      <th>IndustrialProduction</th>\n",
       "      <th>HousingSales</th>\n",
       "      <th>USDollarIndex</th>\n",
       "      <th>GS10</th>\n",
       "      <th>VolumeOfTotalRetailTradeSales</th>\n",
       "      <th>IsExpanding</th>\n",
       "    </tr>\n",
       "  </thead>\n",
       "  <tbody>\n",
       "    <tr>\n",
       "      <th>0</th>\n",
       "      <td>1969-08-01</td>\n",
       "      <td>100.000000</td>\n",
       "      <td>94.18</td>\n",
       "      <td>3.5</td>\n",
       "      <td>NaN</td>\n",
       "      <td>24900</td>\n",
       "      <td>NaN</td>\n",
       "      <td>6.69</td>\n",
       "      <td>1.129686</td>\n",
       "      <td>0</td>\n",
       "    </tr>\n",
       "    <tr>\n",
       "      <th>1</th>\n",
       "      <td>1969-09-01</td>\n",
       "      <td>100.287869</td>\n",
       "      <td>94.51</td>\n",
       "      <td>3.7</td>\n",
       "      <td>NaN</td>\n",
       "      <td>26000</td>\n",
       "      <td>NaN</td>\n",
       "      <td>7.16</td>\n",
       "      <td>1.129686</td>\n",
       "      <td>0</td>\n",
       "    </tr>\n",
       "    <tr>\n",
       "      <th>2</th>\n",
       "      <td>1969-10-01</td>\n",
       "      <td>99.682710</td>\n",
       "      <td>95.52</td>\n",
       "      <td>3.7</td>\n",
       "      <td>NaN</td>\n",
       "      <td>24400</td>\n",
       "      <td>NaN</td>\n",
       "      <td>7.10</td>\n",
       "      <td>1.129686</td>\n",
       "      <td>0</td>\n",
       "    </tr>\n",
       "    <tr>\n",
       "      <th>3</th>\n",
       "      <td>1969-11-01</td>\n",
       "      <td>99.067314</td>\n",
       "      <td>96.21</td>\n",
       "      <td>3.5</td>\n",
       "      <td>NaN</td>\n",
       "      <td>24900</td>\n",
       "      <td>NaN</td>\n",
       "      <td>7.14</td>\n",
       "      <td>-0.711920</td>\n",
       "      <td>0</td>\n",
       "    </tr>\n",
       "    <tr>\n",
       "      <th>4</th>\n",
       "      <td>1969-12-01</td>\n",
       "      <td>98.459021</td>\n",
       "      <td>91.11</td>\n",
       "      <td>3.5</td>\n",
       "      <td>NaN</td>\n",
       "      <td>25100</td>\n",
       "      <td>NaN</td>\n",
       "      <td>7.65</td>\n",
       "      <td>-0.711920</td>\n",
       "      <td>0</td>\n",
       "    </tr>\n",
       "    <tr>\n",
       "      <th>...</th>\n",
       "      <td>...</td>\n",
       "      <td>...</td>\n",
       "      <td>...</td>\n",
       "      <td>...</td>\n",
       "      <td>...</td>\n",
       "      <td>...</td>\n",
       "      <td>...</td>\n",
       "      <td>...</td>\n",
       "      <td>...</td>\n",
       "      <td>...</td>\n",
       "    </tr>\n",
       "    <tr>\n",
       "      <th>615</th>\n",
       "      <td>2020-11-01</td>\n",
       "      <td>1626.577454</td>\n",
       "      <td>3548.99</td>\n",
       "      <td>6.7</td>\n",
       "      <td>96.6509</td>\n",
       "      <td>350800</td>\n",
       "      <td>89.303234</td>\n",
       "      <td>0.87</td>\n",
       "      <td>NaN</td>\n",
       "      <td>0</td>\n",
       "    </tr>\n",
       "    <tr>\n",
       "      <th>616</th>\n",
       "      <td>2020-12-01</td>\n",
       "      <td>1603.047015</td>\n",
       "      <td>3695.31</td>\n",
       "      <td>6.7</td>\n",
       "      <td>97.3233</td>\n",
       "      <td>365300</td>\n",
       "      <td>87.330234</td>\n",
       "      <td>0.93</td>\n",
       "      <td>NaN</td>\n",
       "      <td>0</td>\n",
       "    </tr>\n",
       "    <tr>\n",
       "      <th>617</th>\n",
       "      <td>2021-01-01</td>\n",
       "      <td>1603.279871</td>\n",
       "      <td>3793.75</td>\n",
       "      <td>6.3</td>\n",
       "      <td>98.7911</td>\n",
       "      <td>373200</td>\n",
       "      <td>86.921252</td>\n",
       "      <td>1.08</td>\n",
       "      <td>NaN</td>\n",
       "      <td>0</td>\n",
       "    </tr>\n",
       "    <tr>\n",
       "      <th>618</th>\n",
       "      <td>2021-02-01</td>\n",
       "      <td>1602.994143</td>\n",
       "      <td>3883.43</td>\n",
       "      <td>6.2</td>\n",
       "      <td>94.9946</td>\n",
       "      <td>362000</td>\n",
       "      <td>87.187175</td>\n",
       "      <td>1.26</td>\n",
       "      <td>NaN</td>\n",
       "      <td>0</td>\n",
       "    </tr>\n",
       "    <tr>\n",
       "      <th>619</th>\n",
       "      <td>2021-03-01</td>\n",
       "      <td>1603.291856</td>\n",
       "      <td>3910.51</td>\n",
       "      <td>6.0</td>\n",
       "      <td>98.2512</td>\n",
       "      <td>359600</td>\n",
       "      <td>88.075612</td>\n",
       "      <td>1.61</td>\n",
       "      <td>NaN</td>\n",
       "      <td>0</td>\n",
       "    </tr>\n",
       "  </tbody>\n",
       "</table>\n",
       "<p>620 rows × 10 columns</p>\n",
       "</div>"
      ],
      "text/plain": [
       "          Date  SP500-EPS-Index  SP500-Price  UnemploymentRate  \\\n",
       "0   1969-08-01       100.000000        94.18               3.5   \n",
       "1   1969-09-01       100.287869        94.51               3.7   \n",
       "2   1969-10-01        99.682710        95.52               3.7   \n",
       "3   1969-11-01        99.067314        96.21               3.5   \n",
       "4   1969-12-01        98.459021        91.11               3.5   \n",
       "..         ...              ...          ...               ...   \n",
       "615 2020-11-01      1626.577454      3548.99               6.7   \n",
       "616 2020-12-01      1603.047015      3695.31               6.7   \n",
       "617 2021-01-01      1603.279871      3793.75               6.3   \n",
       "618 2021-02-01      1602.994143      3883.43               6.2   \n",
       "619 2021-03-01      1603.291856      3910.51               6.0   \n",
       "\n",
       "     IndustrialProduction  HousingSales  USDollarIndex  GS10  \\\n",
       "0                     NaN         24900            NaN  6.69   \n",
       "1                     NaN         26000            NaN  7.16   \n",
       "2                     NaN         24400            NaN  7.10   \n",
       "3                     NaN         24900            NaN  7.14   \n",
       "4                     NaN         25100            NaN  7.65   \n",
       "..                    ...           ...            ...   ...   \n",
       "615               96.6509        350800      89.303234  0.87   \n",
       "616               97.3233        365300      87.330234  0.93   \n",
       "617               98.7911        373200      86.921252  1.08   \n",
       "618               94.9946        362000      87.187175  1.26   \n",
       "619               98.2512        359600      88.075612  1.61   \n",
       "\n",
       "     VolumeOfTotalRetailTradeSales  IsExpanding  \n",
       "0                         1.129686            0  \n",
       "1                         1.129686            0  \n",
       "2                         1.129686            0  \n",
       "3                        -0.711920            0  \n",
       "4                        -0.711920            0  \n",
       "..                             ...          ...  \n",
       "615                            NaN            0  \n",
       "616                            NaN            0  \n",
       "617                            NaN            0  \n",
       "618                            NaN            0  \n",
       "619                            NaN            0  \n",
       "\n",
       "[620 rows x 10 columns]"
      ]
     },
     "execution_count": 3,
     "metadata": {},
     "output_type": "execute_result"
    }
   ],
   "source": [
    "data"
   ]
  },
  {
   "cell_type": "code",
   "execution_count": 4,
   "id": "fbcc9b55",
   "metadata": {},
   "outputs": [],
   "source": [
    "new_data = data.copy(deep = True)"
   ]
  },
  {
   "cell_type": "markdown",
   "id": "6dd1d51d",
   "metadata": {},
   "source": [
    "### With .diff()"
   ]
  },
  {
   "cell_type": "code",
   "execution_count": 5,
   "id": "a575520d",
   "metadata": {},
   "outputs": [],
   "source": [
    "new_data = new_data.dropna(how = 'any')\n",
    "new_data = shuffle(new_data)\n",
    "y = new_data['IsExpanding']\n",
    "X = new_data.drop(['SP500-EPS-Index', 'Date', 'IsExpanding'], axis = 1)\n",
    "X = X.diff()"
   ]
  },
  {
   "cell_type": "code",
   "execution_count": 6,
   "id": "a9dba21a",
   "metadata": {},
   "outputs": [
    {
     "data": {
      "text/html": [
       "<div>\n",
       "<style scoped>\n",
       "    .dataframe tbody tr th:only-of-type {\n",
       "        vertical-align: middle;\n",
       "    }\n",
       "\n",
       "    .dataframe tbody tr th {\n",
       "        vertical-align: top;\n",
       "    }\n",
       "\n",
       "    .dataframe thead th {\n",
       "        text-align: right;\n",
       "    }\n",
       "</style>\n",
       "<table border=\"1\" class=\"dataframe\">\n",
       "  <thead>\n",
       "    <tr style=\"text-align: right;\">\n",
       "      <th></th>\n",
       "      <th>SP500-Price</th>\n",
       "      <th>UnemploymentRate</th>\n",
       "      <th>IndustrialProduction</th>\n",
       "      <th>HousingSales</th>\n",
       "      <th>USDollarIndex</th>\n",
       "      <th>GS10</th>\n",
       "      <th>VolumeOfTotalRetailTradeSales</th>\n",
       "    </tr>\n",
       "  </thead>\n",
       "  <tbody>\n",
       "    <tr>\n",
       "      <th>83</th>\n",
       "      <td>-79.90</td>\n",
       "      <td>0.7</td>\n",
       "      <td>-10.9118</td>\n",
       "      <td>-40100.0</td>\n",
       "      <td>-24.9191</td>\n",
       "      <td>-2.54</td>\n",
       "      <td>0.768376</td>\n",
       "    </tr>\n",
       "    <tr>\n",
       "      <th>407</th>\n",
       "      <td>888.34</td>\n",
       "      <td>-1.6</td>\n",
       "      <td>52.1304</td>\n",
       "      <td>145600.0</td>\n",
       "      <td>-13.5446</td>\n",
       "      <td>-3.85</td>\n",
       "      <td>2.204325</td>\n",
       "    </tr>\n",
       "    <tr>\n",
       "      <th>295</th>\n",
       "      <td>-528.73</td>\n",
       "      <td>0.3</td>\n",
       "      <td>-27.1785</td>\n",
       "      <td>-57900.0</td>\n",
       "      <td>-2.4544</td>\n",
       "      <td>2.50</td>\n",
       "      <td>-0.734466</td>\n",
       "    </tr>\n",
       "    <tr>\n",
       "      <th>218</th>\n",
       "      <td>-183.61</td>\n",
       "      <td>-0.5</td>\n",
       "      <td>-8.4645</td>\n",
       "      <td>-25800.0</td>\n",
       "      <td>5.8924</td>\n",
       "      <td>3.04</td>\n",
       "      <td>-2.205315</td>\n",
       "    </tr>\n",
       "    <tr>\n",
       "      <th>270</th>\n",
       "      <td>132.36</td>\n",
       "      <td>1.4</td>\n",
       "      <td>2.4229</td>\n",
       "      <td>10700.0</td>\n",
       "      <td>-9.0702</td>\n",
       "      <td>-2.18</td>\n",
       "      <td>1.432272</td>\n",
       "    </tr>\n",
       "    <tr>\n",
       "      <th>...</th>\n",
       "      <td>...</td>\n",
       "      <td>...</td>\n",
       "      <td>...</td>\n",
       "      <td>...</td>\n",
       "      <td>...</td>\n",
       "      <td>...</td>\n",
       "      <td>...</td>\n",
       "    </tr>\n",
       "    <tr>\n",
       "      <th>259</th>\n",
       "      <td>268.38</td>\n",
       "      <td>0.9</td>\n",
       "      <td>10.3605</td>\n",
       "      <td>66400.0</td>\n",
       "      <td>-5.8613</td>\n",
       "      <td>-0.30</td>\n",
       "      <td>-0.293001</td>\n",
       "    </tr>\n",
       "    <tr>\n",
       "      <th>168</th>\n",
       "      <td>-209.88</td>\n",
       "      <td>2.7</td>\n",
       "      <td>-10.5853</td>\n",
       "      <td>-45700.0</td>\n",
       "      <td>35.3012</td>\n",
       "      <td>3.74</td>\n",
       "      <td>1.233097</td>\n",
       "    </tr>\n",
       "    <tr>\n",
       "      <th>56</th>\n",
       "      <td>-69.94</td>\n",
       "      <td>-4.4</td>\n",
       "      <td>-4.9097</td>\n",
       "      <td>-41100.0</td>\n",
       "      <td>-23.5357</td>\n",
       "      <td>-4.34</td>\n",
       "      <td>-1.707529</td>\n",
       "    </tr>\n",
       "    <tr>\n",
       "      <th>343</th>\n",
       "      <td>984.37</td>\n",
       "      <td>-0.4</td>\n",
       "      <td>42.8350</td>\n",
       "      <td>117000.0</td>\n",
       "      <td>-2.0091</td>\n",
       "      <td>-1.86</td>\n",
       "      <td>1.277588</td>\n",
       "    </tr>\n",
       "    <tr>\n",
       "      <th>222</th>\n",
       "      <td>-818.73</td>\n",
       "      <td>1.0</td>\n",
       "      <td>-26.8376</td>\n",
       "      <td>-41800.0</td>\n",
       "      <td>-7.3603</td>\n",
       "      <td>2.56</td>\n",
       "      <td>-1.456786</td>\n",
       "    </tr>\n",
       "  </tbody>\n",
       "</table>\n",
       "<p>543 rows × 7 columns</p>\n",
       "</div>"
      ],
      "text/plain": [
       "     SP500-Price  UnemploymentRate  IndustrialProduction  HousingSales  \\\n",
       "83        -79.90               0.7              -10.9118      -40100.0   \n",
       "407       888.34              -1.6               52.1304      145600.0   \n",
       "295      -528.73               0.3              -27.1785      -57900.0   \n",
       "218      -183.61              -0.5               -8.4645      -25800.0   \n",
       "270       132.36               1.4                2.4229       10700.0   \n",
       "..           ...               ...                   ...           ...   \n",
       "259       268.38               0.9               10.3605       66400.0   \n",
       "168      -209.88               2.7              -10.5853      -45700.0   \n",
       "56        -69.94              -4.4               -4.9097      -41100.0   \n",
       "343       984.37              -0.4               42.8350      117000.0   \n",
       "222      -818.73               1.0              -26.8376      -41800.0   \n",
       "\n",
       "     USDollarIndex  GS10  VolumeOfTotalRetailTradeSales  \n",
       "83        -24.9191 -2.54                       0.768376  \n",
       "407       -13.5446 -3.85                       2.204325  \n",
       "295        -2.4544  2.50                      -0.734466  \n",
       "218         5.8924  3.04                      -2.205315  \n",
       "270        -9.0702 -2.18                       1.432272  \n",
       "..             ...   ...                            ...  \n",
       "259        -5.8613 -0.30                      -0.293001  \n",
       "168        35.3012  3.74                       1.233097  \n",
       "56        -23.5357 -4.34                      -1.707529  \n",
       "343        -2.0091 -1.86                       1.277588  \n",
       "222        -7.3603  2.56                      -1.456786  \n",
       "\n",
       "[543 rows x 7 columns]"
      ]
     },
     "execution_count": 6,
     "metadata": {},
     "output_type": "execute_result"
    }
   ],
   "source": [
    "X = X.dropna(how = 'any')\n",
    "X"
   ]
  },
  {
   "cell_type": "code",
   "execution_count": 7,
   "id": "c35c238f",
   "metadata": {},
   "outputs": [
    {
     "data": {
      "text/plain": [
       "83     1\n",
       "407    1\n",
       "295    1\n",
       "218    1\n",
       "270    1\n",
       "      ..\n",
       "259    0\n",
       "168    1\n",
       "56     1\n",
       "343    0\n",
       "222    1\n",
       "Name: IsExpanding, Length: 543, dtype: int64"
      ]
     },
     "execution_count": 7,
     "metadata": {},
     "output_type": "execute_result"
    }
   ],
   "source": [
    "y = y[1:]\n",
    "y"
   ]
  },
  {
   "cell_type": "code",
   "execution_count": 8,
   "id": "9affd1f6",
   "metadata": {},
   "outputs": [],
   "source": [
    "# train test split\n",
    "X_train, X_test, y_train, y_test = train_test_split(X, y, test_size=0.2)"
   ]
  },
  {
   "cell_type": "code",
   "execution_count": 9,
   "id": "720c1823",
   "metadata": {},
   "outputs": [],
   "source": [
    "# logistic regression\n",
    "clf = LogisticRegression(random_state=0).fit(X_train, y_train)"
   ]
  },
  {
   "cell_type": "code",
   "execution_count": 10,
   "id": "e23ed2d3",
   "metadata": {},
   "outputs": [],
   "source": [
    "# predicted value\n",
    "y_pred = clf.predict(X_test)"
   ]
  },
  {
   "cell_type": "code",
   "execution_count": 11,
   "id": "ad6cfcde",
   "metadata": {},
   "outputs": [
    {
     "data": {
      "text/plain": [
       "60"
      ]
     },
     "execution_count": 11,
     "metadata": {},
     "output_type": "execute_result"
    }
   ],
   "source": [
    "sum(y_test != y_pred)"
   ]
  },
  {
   "cell_type": "code",
   "execution_count": 12,
   "id": "9a810eb8",
   "metadata": {},
   "outputs": [
    {
     "data": {
      "text/plain": [
       "array([[24, 19],\n",
       "       [41, 25]], dtype=int64)"
      ]
     },
     "execution_count": 12,
     "metadata": {},
     "output_type": "execute_result"
    }
   ],
   "source": [
    "confusion_matrix(y_test, y_pred)"
   ]
  },
  {
   "cell_type": "code",
   "execution_count": 13,
   "id": "455a5fd2",
   "metadata": {},
   "outputs": [
    {
     "data": {
      "text/plain": [
       "0.4495412844036697"
      ]
     },
     "execution_count": 13,
     "metadata": {},
     "output_type": "execute_result"
    }
   ],
   "source": [
    "# acc\n",
    "1 - sum(y_test != y_pred) / len(y_pred)"
   ]
  },
  {
   "cell_type": "markdown",
   "id": "c6a79277",
   "metadata": {},
   "source": [
    "### Without .diff()"
   ]
  },
  {
   "cell_type": "code",
   "execution_count": 14,
   "id": "953242f4",
   "metadata": {},
   "outputs": [],
   "source": [
    "new_data_nd = data.copy(deep = True)\n",
    "new_data_nd = new_data_nd.dropna(how = 'any')\n",
    "new_data_nd = shuffle(new_data_nd)\n",
    "y_nd = new_data_nd['IsExpanding']\n",
    "X_nd = new_data_nd.drop(['SP500-EPS-Index', 'Date', 'IsExpanding'], axis = 1)"
   ]
  },
  {
   "cell_type": "code",
   "execution_count": 15,
   "id": "7a92b4c6",
   "metadata": {},
   "outputs": [],
   "source": [
    "X_train_nd, X_test_nd, y_train_nd, y_test_nd = train_test_split(X_nd, y_nd, test_size=0.2)"
   ]
  },
  {
   "cell_type": "code",
   "execution_count": 16,
   "id": "500c605b",
   "metadata": {},
   "outputs": [],
   "source": [
    "clf = LogisticRegression(random_state=0).fit(X_train_nd, y_train_nd)"
   ]
  },
  {
   "cell_type": "code",
   "execution_count": 17,
   "id": "2a34c893",
   "metadata": {},
   "outputs": [],
   "source": [
    "y_pred_nd = clf.predict(X_test_nd)"
   ]
  },
  {
   "cell_type": "code",
   "execution_count": 18,
   "id": "5687b382",
   "metadata": {},
   "outputs": [
    {
     "data": {
      "text/plain": [
       "array([[ 0, 33],\n",
       "       [ 0, 76]], dtype=int64)"
      ]
     },
     "execution_count": 18,
     "metadata": {},
     "output_type": "execute_result"
    }
   ],
   "source": [
    "confusion_matrix(y_test_nd, y_pred_nd)"
   ]
  },
  {
   "cell_type": "code",
   "execution_count": 19,
   "id": "df995198",
   "metadata": {},
   "outputs": [
    {
     "data": {
      "text/plain": [
       "0.6972477064220184"
      ]
     },
     "execution_count": 19,
     "metadata": {},
     "output_type": "execute_result"
    }
   ],
   "source": [
    "# acc\n",
    "1 - sum(y_test_nd != y_pred_nd) / len(y_pred_nd)"
   ]
  },
  {
   "cell_type": "markdown",
   "id": "ab3dab7b",
   "metadata": {},
   "source": [
    "### AUTO-ARIMA"
   ]
  },
  {
   "cell_type": "code",
   "execution_count": 20,
   "id": "d3db4d8e",
   "metadata": {},
   "outputs": [],
   "source": [
    "y = data['SP500-EPS-Index']"
   ]
  },
  {
   "cell_type": "code",
   "execution_count": 21,
   "id": "7778e88d",
   "metadata": {},
   "outputs": [],
   "source": [
    "arima_model = auto_arima(y[:600], max_p=10, max_d=4, max_q=10, seasonal = False)"
   ]
  },
  {
   "cell_type": "code",
   "execution_count": 22,
   "id": "955228bc",
   "metadata": {},
   "outputs": [
    {
     "data": {
      "text/html": [
       "<table class=\"simpletable\">\n",
       "<caption>SARIMAX Results</caption>\n",
       "<tr>\n",
       "  <th>Dep. Variable:</th>           <td>y</td>        <th>  No. Observations:  </th>    <td>600</td>   \n",
       "</tr>\n",
       "<tr>\n",
       "  <th>Model:</th>           <td>SARIMAX(2, 1, 5)</td> <th>  Log Likelihood     </th> <td>-2390.659</td>\n",
       "</tr>\n",
       "<tr>\n",
       "  <th>Date:</th>            <td>Tue, 12 Oct 2021</td> <th>  AIC                </th> <td>4799.317</td> \n",
       "</tr>\n",
       "<tr>\n",
       "  <th>Time:</th>                <td>23:27:00</td>     <th>  BIC                </th> <td>4838.875</td> \n",
       "</tr>\n",
       "<tr>\n",
       "  <th>Sample:</th>                  <td>0</td>        <th>  HQIC               </th> <td>4814.718</td> \n",
       "</tr>\n",
       "<tr>\n",
       "  <th></th>                      <td> - 600</td>      <th>                     </th>     <td> </td>    \n",
       "</tr>\n",
       "<tr>\n",
       "  <th>Covariance Type:</th>        <td>opg</td>       <th>                     </th>     <td> </td>    \n",
       "</tr>\n",
       "</table>\n",
       "<table class=\"simpletable\">\n",
       "<tr>\n",
       "      <td></td>         <th>coef</th>     <th>std err</th>      <th>z</th>      <th>P>|z|</th>  <th>[0.025</th>    <th>0.975]</th>  \n",
       "</tr>\n",
       "<tr>\n",
       "  <th>intercept</th> <td>    0.4071</td> <td>    0.546</td> <td>    0.745</td> <td> 0.456</td> <td>   -0.664</td> <td>    1.478</td>\n",
       "</tr>\n",
       "<tr>\n",
       "  <th>ar.L1</th>     <td>    1.6271</td> <td>    0.027</td> <td>   59.808</td> <td> 0.000</td> <td>    1.574</td> <td>    1.680</td>\n",
       "</tr>\n",
       "<tr>\n",
       "  <th>ar.L2</th>     <td>   -0.7959</td> <td>    0.025</td> <td>  -31.592</td> <td> 0.000</td> <td>   -0.845</td> <td>   -0.747</td>\n",
       "</tr>\n",
       "<tr>\n",
       "  <th>ma.L1</th>     <td>   -0.7481</td> <td>    0.045</td> <td>  -16.688</td> <td> 0.000</td> <td>   -0.836</td> <td>   -0.660</td>\n",
       "</tr>\n",
       "<tr>\n",
       "  <th>ma.L2</th>     <td>    0.0824</td> <td>    0.040</td> <td>    2.078</td> <td> 0.038</td> <td>    0.005</td> <td>    0.160</td>\n",
       "</tr>\n",
       "<tr>\n",
       "  <th>ma.L3</th>     <td>   -0.1980</td> <td>    0.019</td> <td>  -10.357</td> <td> 0.000</td> <td>   -0.236</td> <td>   -0.161</td>\n",
       "</tr>\n",
       "<tr>\n",
       "  <th>ma.L4</th>     <td>    0.4585</td> <td>    0.024</td> <td>   18.909</td> <td> 0.000</td> <td>    0.411</td> <td>    0.506</td>\n",
       "</tr>\n",
       "<tr>\n",
       "  <th>ma.L5</th>     <td>    0.1627</td> <td>    0.032</td> <td>    5.158</td> <td> 0.000</td> <td>    0.101</td> <td>    0.225</td>\n",
       "</tr>\n",
       "<tr>\n",
       "  <th>sigma2</th>    <td>  171.2359</td> <td>    1.850</td> <td>   92.548</td> <td> 0.000</td> <td>  167.609</td> <td>  174.862</td>\n",
       "</tr>\n",
       "</table>\n",
       "<table class=\"simpletable\">\n",
       "<tr>\n",
       "  <th>Ljung-Box (L1) (Q):</th>      <td>0.11</td>  <th>  Jarque-Bera (JB):  </th> <td>190795.20</td>\n",
       "</tr>\n",
       "<tr>\n",
       "  <th>Prob(Q):</th>                 <td>0.74</td>  <th>  Prob(JB):          </th>   <td>0.00</td>   \n",
       "</tr>\n",
       "<tr>\n",
       "  <th>Heteroskedasticity (H):</th> <td>358.98</td> <th>  Skew:              </th>   <td>1.43</td>   \n",
       "</tr>\n",
       "<tr>\n",
       "  <th>Prob(H) (two-sided):</th>     <td>0.00</td>  <th>  Kurtosis:          </th>   <td>90.39</td>  \n",
       "</tr>\n",
       "</table><br/><br/>Warnings:<br/>[1] Covariance matrix calculated using the outer product of gradients (complex-step)."
      ],
      "text/plain": [
       "<class 'statsmodels.iolib.summary.Summary'>\n",
       "\"\"\"\n",
       "                               SARIMAX Results                                \n",
       "==============================================================================\n",
       "Dep. Variable:                      y   No. Observations:                  600\n",
       "Model:               SARIMAX(2, 1, 5)   Log Likelihood               -2390.659\n",
       "Date:                Tue, 12 Oct 2021   AIC                           4799.317\n",
       "Time:                        23:27:00   BIC                           4838.875\n",
       "Sample:                             0   HQIC                          4814.718\n",
       "                                - 600                                         \n",
       "Covariance Type:                  opg                                         \n",
       "==============================================================================\n",
       "                 coef    std err          z      P>|z|      [0.025      0.975]\n",
       "------------------------------------------------------------------------------\n",
       "intercept      0.4071      0.546      0.745      0.456      -0.664       1.478\n",
       "ar.L1          1.6271      0.027     59.808      0.000       1.574       1.680\n",
       "ar.L2         -0.7959      0.025    -31.592      0.000      -0.845      -0.747\n",
       "ma.L1         -0.7481      0.045    -16.688      0.000      -0.836      -0.660\n",
       "ma.L2          0.0824      0.040      2.078      0.038       0.005       0.160\n",
       "ma.L3         -0.1980      0.019    -10.357      0.000      -0.236      -0.161\n",
       "ma.L4          0.4585      0.024     18.909      0.000       0.411       0.506\n",
       "ma.L5          0.1627      0.032      5.158      0.000       0.101       0.225\n",
       "sigma2       171.2359      1.850     92.548      0.000     167.609     174.862\n",
       "===================================================================================\n",
       "Ljung-Box (L1) (Q):                   0.11   Jarque-Bera (JB):            190795.20\n",
       "Prob(Q):                              0.74   Prob(JB):                         0.00\n",
       "Heteroskedasticity (H):             358.98   Skew:                             1.43\n",
       "Prob(H) (two-sided):                  0.00   Kurtosis:                        90.39\n",
       "===================================================================================\n",
       "\n",
       "Warnings:\n",
       "[1] Covariance matrix calculated using the outer product of gradients (complex-step).\n",
       "\"\"\""
      ]
     },
     "execution_count": 22,
     "metadata": {},
     "output_type": "execute_result"
    }
   ],
   "source": [
    "arima_model.summary()"
   ]
  },
  {
   "cell_type": "code",
   "execution_count": 23,
   "id": "273fed0d",
   "metadata": {},
   "outputs": [],
   "source": [
    "eps_pred = arima_model.predict(n_periods = 20)"
   ]
  },
  {
   "cell_type": "code",
   "execution_count": 24,
   "id": "abf02f53",
   "metadata": {},
   "outputs": [
    {
     "data": {
      "text/plain": [
       "[<matplotlib.lines.Line2D at 0x1cc0c6287f0>]"
      ]
     },
     "execution_count": 24,
     "metadata": {},
     "output_type": "execute_result"
    },
    {
     "data": {
      "image/png": "[encoded data removed]",
      "text/plain": [
       "<Figure size 432x288 with 1 Axes>"
      ]
     },
     "metadata": {
      "needs_background": "light"
     },
     "output_type": "display_data"
    }
   ],
   "source": [
    "plt.plot(data['Date'][600:],eps_pred, color = 'red')  # predicted value\n",
    "plt.plot(data['Date'][600:], y[600:])                 # true value"
   ]
  }
 ],
 "metadata": {
  "kernelspec": {
   "display_name": "Python 3",
   "language": "python",
   "name": "python3"
  },
  "language_info": {
   "codemirror_mode": {
    "name": "ipython",
    "version": 3
   },
   "file_extension": ".py",
   "mimetype": "text/x-python",
   "name": "python",
   "nbconvert_exporter": "python",
   "pygments_lexer": "ipython3",
   "version": "3.8.3"
  }
 },
 "nbformat": 4,
 "nbformat_minor": 5
}
