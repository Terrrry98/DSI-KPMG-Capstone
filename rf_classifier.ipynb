{
 "cells": [
  {
   "cell_type": "code",
   "execution_count": 2,
   "id": "96fa4d7b",
   "metadata": {},
   "outputs": [],
   "source": [
    "import pandas as pd\n",
    "from pandas import concat\n",
    "import os\n",
    "import numpy as np\n",
    "import matplotlib.pyplot as plt\n",
    "from sklearn.preprocessing import StandardScaler, MinMaxScaler\n",
    "from sklearn.metrics import mean_squared_error\n",
    "#from keras.models import Sequential\n",
    "#from keras.layers import Dense, Dropout, Flatten, LSTM\n",
    "#from keras.layers.convolutional import Conv2D, MaxPooling2D, AveragePooling2D\n",
    "#from keras import backend as K\n",
    "from sklearn.ensemble import RandomForestClassifier\n",
    "from scipy.signal import argrelextrema\n",
    "from sklearn.metrics import confusion_matrix"
   ]
  },
  {
   "cell_type": "code",
   "execution_count": 134,
   "id": "cc3a7ea6",
   "metadata": {},
   "outputs": [],
   "source": [
    "class AutoRF():\n",
    "    \n",
    "    '''\n",
    "    Vector Autoregression model\n",
    "\n",
    "    Attributes\n",
    "    ----------\n",
    "    self.data_backup: dataframe, a backup copy of the input dataset\n",
    "    self.data: dataframe, the main dataset worked on\n",
    "    self.n: int, length (unit in months) of target to predict\n",
    "    self.df_result: dataframe, stores the predicted target and the true target\n",
    "    self.lag: int, number of past months used to predict the target\n",
    "    self.rmse: rounded RMSE of the prediction\n",
    "    self.target: str, name of target variable\n",
    "    self.model: record a CNN trained model\n",
    "    self.train_result: record model fit result loss\n",
    "    \n",
    "    Params\n",
    "    ----------\n",
    "    data_name: str, name of the dataset. Notice the input dataset must contain a column named 'Date'\n",
    "    target_name: str, name of target variable\n",
    "    drop_cols: list of strings, names of columns to drop\n",
    "    '''\n",
    "    \n",
    "    \n",
    "    \n",
    "    \n",
    "    def __init__(self, data_name, target_name, drop_cols=['Date']):   \n",
    "        #import data\n",
    "        curr_path = os.getcwd()\n",
    "        input_path = os.path.join(curr_path, data_name)\n",
    "        data = pd.read_excel(input_path, index_col=0)\n",
    "        \n",
    "        #drop columns and na\n",
    "        data.drop(drop_cols, axis=1, inplace=True)\n",
    "        data.dropna(inplace = True)\n",
    "        # data.reset_index(drop=True, inplace=True)\n",
    "        \n",
    "        #set attributes\n",
    "        self.data = data\n",
    " \n",
    "        self.n = 0\n",
    "        self.df_result = 0\n",
    "        self.lag = 0\n",
    "        self.rmse = 0\n",
    "        self.target = target_name\n",
    "        self.n_features = len(data.columns) - 1\n",
    "        self.model = 0\n",
    "        self.train_result = 0\n",
    "\n",
    "    def preprocess(self, dataset):\n",
    "        ilocs_min = argrelextrema(dataset['SP500-EPS-Index'].values, np.less_equal, mode = 'wrap', order = 12)[0]\n",
    "        ilocs_max = argrelextrema(dataset['SP500-EPS-Index'].values, np.greater_equal, mode = 'wrap', order = 12)[0]\n",
    "        \n",
    "        # encode expanding period as 1, contracting period as 0\n",
    "        is_expanding = []\n",
    "        i = 0\n",
    "        is_expanding.extend(np.repeat(0, ilocs_min[i]))\n",
    "\n",
    "        while i < len(ilocs_min) - 1:\n",
    "            num_expanding = ilocs_max[i] - ilocs_min[i]\n",
    "            num_contracting = ilocs_min[i + 1] - ilocs_max[i]\n",
    "            is_expanding.extend(np.repeat(1, num_expanding))\n",
    "            is_expanding.extend(np.repeat(0, num_contracting))\n",
    "            i += 1\n",
    "\n",
    "        is_expanding.extend(np.repeat(1, ilocs_max[i] - ilocs_min[i]))\n",
    "        is_expanding.extend(np.repeat(0, dataset.shape[0] - ilocs_max[i]))\n",
    "        dataset.insert(0, 'IsExpanding', is_expanding)\n",
    "        return dataset\n",
    "    \n",
    "    def print_date_range(self):\n",
    "        #Print Range of Date column\n",
    "        print('Date Range: ', self.data_backup['Date'].iloc[0], '--', self.data_backup['Date'].iloc[-1])\n",
    "    \n",
    "    # convert series to supervised learning\n",
    "\n",
    "    \n",
    "    \n",
    "    def series_to_supervised(self, data, n_in=1, n_out=1, dropnan=True, if_target=True):\n",
    "        n_vars = 1 if type(data) is list else data.shape[1]\n",
    "        df = pd.DataFrame(data)\n",
    "        df_without_target = df.loc[:, df.columns[1:]]\n",
    "        cols, names = list(), list()\n",
    "        if if_target:\n",
    "            for i in range(n_in, 0, -1):\n",
    "                cols.append(df.shift(i))\n",
    "                names += [('var%d(t-%d)' % (j+1, i)) for j in range(n_vars)]\n",
    "            for i in range(0, n_out):\n",
    "                cols.append(df.shift(-i))\n",
    "                if i == 0:\n",
    "                    names += [('var%d(t)' % (j+1)) for j in range(n_vars)]\n",
    "                else:\n",
    "                    names += [('var%d(t+%d)' % (j+1, i)) for j in range(n_vars)]\n",
    "            agg = concat(cols, axis=1)\n",
    "            agg.columns = names\n",
    "        else:\n",
    "            for i in range(n_in, 0, -1):\n",
    "                cols.append(df_without_target.shift(i))\n",
    "                names += [('var%d(t-%d)' % (j+1, i)) for j in range(1, n_vars)]\n",
    "            for i in range(0, n_out):\n",
    "                cols.append(df.shift(-i))\n",
    "                if i == 0:\n",
    "                    names += [('var%d(t)' % (j+1)) for j in range(n_vars)]\n",
    "                else:\n",
    "                    names += [('var%d(t+%d)' % (j+1, i)) for j in range(n_vars)]\n",
    "            agg = concat(cols, axis=1)\n",
    "            agg.columns = names\n",
    "        if dropnan:\n",
    "            agg.dropna(inplace=True)\n",
    "        return agg\n",
    "    \n",
    "    \n",
    "    \n",
    "\n",
    "    def run(self, pred_begin_date, n, lags=3, leads = 1): \n",
    "        ''' Run CNN\n",
    "        \n",
    "        Params\n",
    "        ----------\n",
    "        pred_begin_date: date, the begin date of prediction\n",
    "        n: int, length of prediction (unit in months)      \n",
    "        lag: int, num of past months to consider\n",
    "        if_target: boolean, whether to include target as a predictor\n",
    "        '''\n",
    "        self.data = self.preprocess(self.data)\n",
    "        self.data.drop('SP500-EPS-Index', axis=1, inplace=True)\n",
    "        self.data.dropna(inplace = True)\n",
    "\n",
    "        # flatten data\n",
    "        reframed = self.series_to_supervised(self.data, lags, leads, True, False)\n",
    "        # drop columns we don't want to predict\n",
    "        reframed.drop(reframed.columns[range(reframed.shape[1] - self.n_features, reframed.shape[1])], axis=1, inplace=True)\n",
    "        reframed.drop(reframed.columns[range(reframed.shape[1]-1-(self.n_features+1)*(leads-1), reframed.shape[1]-1)], axis=1, inplace=True)\n",
    "        #print(reframed.columns)\n",
    "        \n",
    "        values = reframed.values\n",
    "        self.n = n\n",
    "\n",
    "        test_date_begin = self.data.index.get_loc(pred_begin_date) - lags\n",
    "    \n",
    "        train = values[:test_date_begin, :]\n",
    "        test = values[test_date_begin: test_date_begin+self.n, :]\n",
    "\n",
    "\n",
    "        # split into input and outputs\n",
    "        train_X, train_y = train[:, :-1], train[:, -1]\n",
    "        test_X, test_y = test[:, :-1], test[:, -1]\n",
    "        # reshape input to be 3D [samples, timesteps, features]\n",
    "        #train_X = train_X.reshape((train_X.shape[0], 1, train_X.shape[1]))\n",
    "        #test_X = test_X.reshape((test_X.shape[0], 1, test_X.shape[1]))\n",
    "        print(train_X.shape, train_y.shape, test_X.shape, test_y.shape)\n",
    "\n",
    "        # create and fit the LSTM network\n",
    "        model = RandomForestClassifier(max_depth=5)\n",
    "        \n",
    "        result = model.fit(train_X, train_y)\n",
    "        self.model = model\n",
    "        self.train_result = result\n",
    "        \n",
    "        pred_y = self.model.predict(test_X)\n",
    "        \n",
    "        # reverse standardization\n",
    "        #test_X = test_X.reshape((test_X.shape[0], 1, test_X.shape[1]))\n",
    "\n",
    "        # invert scaling for forecast\n",
    "        #test_X = test_X.reshape((test_X.shape[0], test_X.shape[2]))\n",
    "        pred_y = pred_y.reshape((len(pred_y), 1))\n",
    "        \n",
    "        # invert scaling for actual\n",
    "\n",
    "        test_y = test_y.reshape((len(test_y), 1))\n",
    "        \n",
    "        #print(len(pred_y), len(test_y))\n",
    "        \n",
    "        # calculate RMSE\n",
    "        rmse = np.sqrt(mean_squared_error(pred_y, test_y))\n",
    "        print('Test RMSE: %.3f' % rmse)\n",
    "\n",
    "\n",
    "        df_result = pd.DataFrame(pred_y, columns=[self.target + '_pred'])\n",
    "        df_result[self.target] = test_y\n",
    "        ### TODO modify range\n",
    "\n",
    "        df_result['Date'] = self.data.index[test_date_begin + lags:  test_date_begin+lags+n]\n",
    "        df_result.set_index(['Date'],inplace=True)\n",
    "\n",
    "        self.df_result = df_result\n",
    "        self.rmse = round(rmse,2)\n",
    "        \n",
    "        #####################\n",
    "        self.train_X = train_X\n",
    "        self.train_y = train_y"
   ]
  },
  {
   "cell_type": "code",
   "execution_count": 140,
   "id": "9493fdd8",
   "metadata": {},
   "outputs": [
    {
     "name": "stdout",
     "output_type": "stream",
     "text": [
      "(560, 84) (560,) (36, 84) (36,)\n",
      "Test RMSE: 0.000\n"
     ]
    },
    {
     "data": {
      "text/plain": [
       "<AxesSubplot:xlabel='Date'>"
      ]
     },
     "execution_count": 140,
     "metadata": {},
     "output_type": "execute_result"
    },
    {
     "data": {
      "image/png": "[encoded data removed]",
      "text/plain": [
       "<Figure size 432x288 with 1 Axes>"
      ]
     },
     "metadata": {
      "needs_background": "light"
     },
     "output_type": "display_data"
    }
   ],
   "source": [
    "rf_model = AutoRF(data_name='test.xlsx', target_name='IsExpanding', drop_cols=['GovernmentBudgetBalance'])\n",
    "d = '2016-10-01 00:00:00'\n",
    "n = 36\n",
    "l = 6\n",
    "lead = 3\n",
    "rf_model.run(pred_begin_date=d, n=n, lags=l, leads=lead)\n",
    "rf_model.df_result.plot()"
   ]
  },
  {
   "cell_type": "markdown",
   "id": "48c9dd3a",
   "metadata": {},
   "source": [
    "### including target variables"
   ]
  },
  {
   "cell_type": "code",
   "execution_count": 141,
   "id": "88e92ff7",
   "metadata": {},
   "outputs": [
    {
     "data": {
      "text/plain": [
       "array([[175,   1],\n",
       "       [  7, 377]], dtype=int64)"
      ]
     },
     "execution_count": 141,
     "metadata": {},
     "output_type": "execute_result"
    }
   ],
   "source": [
    "# train accuracy\n",
    "train_y_pred = rf_model.model.predict(rf_model.train_X)\n",
    "confusion_matrix(train_y_pred, rf_model.train_y)"
   ]
  },
  {
   "cell_type": "code",
   "execution_count": 142,
   "id": "68596be2",
   "metadata": {},
   "outputs": [
    {
     "data": {
      "text/plain": [
       "<matplotlib.collections.PathCollection at 0x276a041aa90>"
      ]
     },
     "execution_count": 142,
     "metadata": {},
     "output_type": "execute_result"
    },
    {
     "data": {
      "image/png": "[encoded data removed]",
      "text/plain": [
       "<Figure size 1296x288 with 1 Axes>"
      ]
     },
     "metadata": {
      "needs_background": "light"
     },
     "output_type": "display_data"
    }
   ],
   "source": [
    "# plot\n",
    "plt.figure(figsize=(18, 4))\n",
    "plt.scatter(list(range(len(train_y_pred))), train_y_pred, alpha = 0.9, marker = 10)\n",
    "plt.scatter(list(range(len(rf_model.train_y))), rf_model.train_y, alpha = 0.3, marker = 11)"
   ]
  },
  {
   "cell_type": "code",
   "execution_count": 143,
   "id": "6c6f8b4c",
   "metadata": {},
   "outputs": [
    {
     "data": {
      "text/plain": [
       "[<matplotlib.lines.Line2D at 0x276a046afd0>]"
      ]
     },
     "execution_count": 143,
     "metadata": {},
     "output_type": "execute_result"
    },
    {
     "data": {
      "image/png": "[encoded data removed]",
      "text/plain": [
       "<Figure size 1296x288 with 1 Axes>"
      ]
     },
     "metadata": {
      "needs_background": "light"
     },
     "output_type": "display_data"
    }
   ],
   "source": [
    "plt.figure(figsize=(18, 4))\n",
    "plt.plot(train_y_pred)\n",
    "plt.plot(rf_model.train_y)"
   ]
  },
  {
   "cell_type": "code",
   "execution_count": null,
   "id": "5b685603",
   "metadata": {},
   "outputs": [],
   "source": []
  },
  {
   "cell_type": "markdown",
   "id": "1f9980d6",
   "metadata": {},
   "source": [
    "### Not including target variable"
   ]
  },
  {
   "cell_type": "code",
   "execution_count": 95,
   "id": "00833a2f",
   "metadata": {},
   "outputs": [
    {
     "name": "stdout",
     "output_type": "stream",
     "text": [
      "(602, 168) (602,) (5, 168) (5,)\n",
      "Test RMSE: 0.000\n"
     ]
    },
    {
     "data": {
      "text/plain": [
       "<AxesSubplot:xlabel='Date'>"
      ]
     },
     "execution_count": 95,
     "metadata": {},
     "output_type": "execute_result"
    },
    {
     "data": {
      "image/png": "[encoded data removed]",
      "text/plain": [
       "<Figure size 432x288 with 1 Axes>"
      ]
     },
     "metadata": {
      "needs_background": "light"
     },
     "output_type": "display_data"
    }
   ],
   "source": [
    "rf_model = AutoRF(data_name='test.xlsx', target_name='IsExpanding', drop_cols=['GovernmentBudgetBalance'])\n",
    "d = '2020-10-01 00:00:00'\n",
    "n = 5\n",
    "l = 12\n",
    "rf_model.run(pred_begin_date=d, n=n, lags=l)\n",
    "rf_model.df_result.plot()"
   ]
  },
  {
   "cell_type": "code",
   "execution_count": 96,
   "id": "92c20893",
   "metadata": {},
   "outputs": [
    {
     "data": {
      "text/plain": [
       "array([[181,   0],\n",
       "       [  7, 414]], dtype=int64)"
      ]
     },
     "execution_count": 96,
     "metadata": {},
     "output_type": "execute_result"
    }
   ],
   "source": [
    "train_y_pred = rf_model.model.predict(rf_model.train_X)\n",
    "confusion_matrix(train_y_pred, rf_model.train_y)"
   ]
  },
  {
   "cell_type": "code",
   "execution_count": 97,
   "id": "c4adeabd",
   "metadata": {},
   "outputs": [
    {
     "data": {
      "text/plain": [
       "<matplotlib.collections.PathCollection at 0x2769abc4760>"
      ]
     },
     "execution_count": 97,
     "metadata": {},
     "output_type": "execute_result"
    },
    {
     "data": {
      "image/png": "[encoded data removed]",
      "text/plain": [
       "<Figure size 1296x288 with 1 Axes>"
      ]
     },
     "metadata": {
      "needs_background": "light"
     },
     "output_type": "display_data"
    }
   ],
   "source": [
    "plt.figure(figsize=(18, 4))\n",
    "plt.scatter(list(range(len(train_y_pred))), train_y_pred, alpha = 0.9, marker = 10)\n",
    "plt.scatter(list(range(len(rf_model.train_y))), rf_model.train_y, alpha = 0.3, marker = 11)"
   ]
  },
  {
   "cell_type": "code",
   "execution_count": 98,
   "id": "fa506ee8",
   "metadata": {},
   "outputs": [
    {
     "data": {
      "text/plain": [
       "[<matplotlib.lines.Line2D at 0x2769aa93370>]"
      ]
     },
     "execution_count": 98,
     "metadata": {},
     "output_type": "execute_result"
    },
    {
     "data": {
      "image/png": "[encoded data removed]",
      "text/plain": [
       "<Figure size 1296x288 with 1 Axes>"
      ]
     },
     "metadata": {
      "needs_background": "light"
     },
     "output_type": "display_data"
    }
   ],
   "source": [
    "plt.figure(figsize=(18, 4))\n",
    "plt.plot(train_y_pred)\n",
    "plt.plot(rf_model.train_y)"
   ]
  },
  {
   "cell_type": "code",
   "execution_count": null,
   "id": "38970ad2",
   "metadata": {},
   "outputs": [],
   "source": []
  },
  {
   "cell_type": "markdown",
   "id": "f610c707",
   "metadata": {},
   "source": [
    "### Test data"
   ]
  },
  {
   "cell_type": "code",
   "execution_count": 100,
   "id": "bba651ee",
   "metadata": {},
   "outputs": [
    {
     "data": {
      "text/plain": [
       "Index(['var2(t-1)', 'var3(t-1)', 'var4(t-1)', 'var5(t-1)', 'var6(t-1)',\n",
       "       'var7(t-1)', 'var8(t-1)', 'var9(t-1)', 'var10(t-1)', 'var11(t-1)',\n",
       "       'var12(t-1)', 'var13(t-1)', 'var14(t-1)', 'var15(t-1)', 'var1(t)',\n",
       "       'var2(t)', 'var3(t)', 'var4(t)', 'var5(t)', 'var6(t)', 'var7(t)',\n",
       "       'var8(t)', 'var9(t)', 'var10(t)', 'var11(t)', 'var12(t)', 'var13(t)',\n",
       "       'var14(t)', 'var15(t)', 'var1(t+1)', 'var2(t+1)', 'var3(t+1)',\n",
       "       'var4(t+1)', 'var5(t+1)', 'var6(t+1)', 'var7(t+1)', 'var8(t+1)',\n",
       "       'var9(t+1)', 'var10(t+1)', 'var11(t+1)', 'var12(t+1)', 'var13(t+1)',\n",
       "       'var14(t+1)', 'var15(t+1)'],\n",
       "      dtype='object')"
      ]
     },
     "execution_count": 100,
     "metadata": {},
     "output_type": "execute_result"
    }
   ],
   "source": [
    "window_data = rf_model.series_to_supervised(rf_model.data, 1, 2, True, False)\n",
    "window_data.drop(window_data.columns[range(window_data.shape[1] - rf_model.n_features, window_data.shape[1])], axis=1, inplace=True)\n",
    "\n",
    "\n",
    "values = window_data.values\n",
    "\n",
    "\n",
    "d2 = '2016-10-01 00:00:00'\n",
    "n2 = 48\n",
    "test_date_begin = rf_model.data.index.get_loc(d2) - l\n",
    "\n",
    "train = values[:test_date_begin, :]\n",
    "test = values[test_date_begin: test_date_begin+n2, :]\n",
    "\n",
    "\n",
    "# split into input and outputs\n",
    "train_X, train_y = train[:, :-1], train[:, -1]\n",
    "test_X, test_y = test[:, :-1], test[:, -1]"
   ]
  },
  {
   "cell_type": "code",
   "execution_count": 81,
   "id": "32324274",
   "metadata": {},
   "outputs": [
    {
     "data": {
      "text/plain": [
       "array([[10,  0],\n",
       "       [ 0, 38]], dtype=int64)"
      ]
     },
     "execution_count": 81,
     "metadata": {},
     "output_type": "execute_result"
    }
   ],
   "source": [
    "test_y_pred = rf_model.model.predict(test_X)\n",
    "confusion_matrix(test_y_pred, test_y)"
   ]
  },
  {
   "cell_type": "code",
   "execution_count": 82,
   "id": "433a7cb9",
   "metadata": {},
   "outputs": [
    {
     "data": {
      "text/plain": [
       "array([1., 1., 1., 1., 1., 1., 1., 1., 1., 1., 1., 1., 1., 1., 1., 1., 1.,\n",
       "       1., 1., 1., 1., 1., 1., 1., 1., 1., 1., 1., 1., 1., 1., 1., 1., 1.,\n",
       "       1., 1., 1., 1., 0., 0., 0., 0., 0., 0., 0., 0., 0., 0.])"
      ]
     },
     "execution_count": 82,
     "metadata": {},
     "output_type": "execute_result"
    }
   ],
   "source": [
    "test_y_pred"
   ]
  }
 ],
 "metadata": {
  "kernelspec": {
   "display_name": "Python 3",
   "language": "python",
   "name": "python3"
  },
  "language_info": {
   "codemirror_mode": {
    "name": "ipython",
    "version": 3
   },
   "file_extension": ".py",
   "mimetype": "text/x-python",
   "name": "python",
   "nbconvert_exporter": "python",
   "pygments_lexer": "ipython3",
   "version": "3.8.8"
  }
 },
 "nbformat": 4,
 "nbformat_minor": 5
}
