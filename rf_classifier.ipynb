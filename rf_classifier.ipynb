{
 "cells": [
  {
   "cell_type": "code",
<<<<<<< HEAD
   "execution_count": 1,
   "id": "0d5a6a8b",
=======
   "execution_count": 118,
   "id": "96fa4d7b",
>>>>>>> e32d42bdcc7d4a5fb7ac7fdacbbead90932dd697
   "metadata": {},
   "outputs": [],
   "source": [
    "import pandas as pd\n",
    "from pandas import concat\n",
    "import os\n",
    "import numpy as np\n",
    "import matplotlib.pyplot as plt\n",
    "from sklearn.preprocessing import StandardScaler, MinMaxScaler\n",
    "from sklearn.metrics import mean_squared_error\n",
    "from keras.models import Sequential\n",
    "from keras.layers import Dense, Dropout, Flatten, LSTM\n",
    "from keras.layers.convolutional import Conv2D, MaxPooling2D, AveragePooling2D\n",
    "from keras import backend as K\n",
    "from sklearn.ensemble import RandomForestClassifier\n",
    "from scipy.signal import argrelextrema\n",
    "from sklearn.metrics import confusion_matrix"
   ]
  },
  {
   "cell_type": "code",
<<<<<<< HEAD
   "execution_count": 2,
   "id": "fa10f256",
=======
   "execution_count": 119,
   "id": "cc3a7ea6",
>>>>>>> e32d42bdcc7d4a5fb7ac7fdacbbead90932dd697
   "metadata": {},
   "outputs": [],
   "source": [
    "class AutoRF():\n",
    "    \n",
    "    '''\n",
<<<<<<< HEAD
    "    Random Forest Model\n",
    "\n",
    "    Attributes\n",
    "    ----------\n",
    "    \n",
    "    Params\n",
    "    ----------\n",
    "\n",
=======
    "    Vector Autoregression model\n",
    "\n",
    "    Attributes\n",
    "    ----------\n",
    "    self.data_backup: dataframe, a backup copy of the input dataset\n",
    "    self.data: dataframe, the main dataset worked on\n",
    "    self.n: int, length (unit in months) of target to predict\n",
    "    self.df_result: dataframe, stores the predicted target and the true target\n",
    "    self.lag: int, number of past months used to predict the target\n",
    "    self.rmse: rounded RMSE of the prediction\n",
    "    self.target: str, name of target variable\n",
    "    self.model: record a CNN trained model\n",
    "    self.train_result: record model fit result loss\n",
    "    \n",
    "    Params\n",
    "    ----------\n",
    "    data_name: str, name of the dataset. Notice the input dataset must contain a column named 'Date'\n",
    "    target_name: str, name of target variable\n",
    "    drop_cols: list of strings, names of columns to drop\n",
>>>>>>> e32d42bdcc7d4a5fb7ac7fdacbbead90932dd697
    "    '''\n",
    "    \n",
    "    \n",
    "    \n",
    "    \n",
    "    def __init__(self, data_name, target_name, drop_cols=['Date']):   \n",
    "        #import data\n",
    "        curr_path = os.getcwd()\n",
    "        input_path = os.path.join(curr_path, data_name)\n",
    "        data = pd.read_excel(input_path, index_col=0)\n",
    "        \n",
    "        #drop columns and na\n",
    "        data.drop(drop_cols, axis=1, inplace=True)\n",
    "        data.dropna(inplace = True)\n",
    "        # data.reset_index(drop=True, inplace=True)\n",
    "        \n",
    "        #set attributes\n",
    "        self.data = data\n",
    " \n",
    "        self.n = 0\n",
    "        self.df_result = 0\n",
    "        self.lag = 0\n",
    "        self.rmse = 0\n",
    "        self.target = target_name\n",
    "        self.n_features = len(data.columns) - 1\n",
    "        self.model = 0\n",
    "        self.train_result = 0\n",
    "\n",
    "    def preprocess(self, dataset):\n",
    "        ilocs_min = argrelextrema(dataset['SP500-EPS-Index'].values, np.less_equal, mode = 'wrap', order = 12)[0]\n",
    "        ilocs_max = argrelextrema(dataset['SP500-EPS-Index'].values, np.greater_equal, mode = 'wrap', order = 12)[0]\n",
    "        \n",
    "        # encode expanding period as 1, contracting period as 0\n",
    "        is_expanding = []\n",
    "        i = 0\n",
    "        is_expanding.extend(np.repeat(0, ilocs_min[i]))\n",
    "\n",
    "        while i < len(ilocs_min) - 1:\n",
    "            num_expanding = ilocs_max[i] - ilocs_min[i]\n",
    "            num_contracting = ilocs_min[i + 1] - ilocs_max[i]\n",
    "            is_expanding.extend(np.repeat(1, num_expanding))\n",
    "            is_expanding.extend(np.repeat(0, num_contracting))\n",
    "            i += 1\n",
    "\n",
    "        is_expanding.extend(np.repeat(1, ilocs_max[i] - ilocs_min[i]))\n",
    "        is_expanding.extend(np.repeat(0, dataset.shape[0] - ilocs_max[i]))\n",
    "        dataset.insert(0, 'IsExpanding', is_expanding)\n",
    "        return dataset\n",
<<<<<<< HEAD
    "  \n",
    "    # convert series to supervised learning\n",
    "    def series_to_supervised(self, data, n_in=1, n_out=1, dropnan=True, if_target=True):\n",
    "        n_vars = 1 if type(data) is list else data.shape[1]\n",
    "        df = pd.DataFrame(data)\n",
    "        df_without_target = df.loc[:, df.columns[1:]]\n",
    "\n",
    "        cols, names = list(), list()\n",
    "        # input sequence (t-n, ... t-1)\n",
    "        if if_target:\n",
    "            for i in range(n_in, 0, -1):\n",
    "                cols.append(df.shift(i))\n",
    "                names += [('var%d(t-%d)' % (j+1, i)) for j in range(n_vars)]\n",
    "            # forecast sequence (t, t+1, ... t+n)\n",
    "            for i in range(0, n_out):\n",
    "                cols.append(df.shift(-i))\n",
    "                if i == 0:\n",
    "                    names += [('var%d(t)' % (j+1)) for j in range(n_vars)]\n",
    "                else:\n",
    "                    names += [('var%d(t+%d)' % (j+1, i)) for j in range(n_vars)]\n",
    "            agg = concat(cols, axis=1)\n",
    "            agg.columns = names\n",
    "        else:\n",
    "            # input sequence (t-n, ... t-1)\n",
    "            for i in range(n_in, 0, -1):\n",
    "                cols.append(df_without_target.shift(i))\n",
    "                names += [('var%d(t-%d)' % (j+1, i)) for j in range(1, n_vars)]\n",
    "            # forecast sequence (t, t+1, ... t+n)\n",
    "            for i in range(0, n_out):\n",
    "                cols.append(df.shift(-i))\n",
    "                if i == 0:\n",
    "                    names += [('var%d(t)' % (j+1)) for j in range(n_vars)]\n",
    "                else:\n",
    "                    names += [('var%d(t+%d)' % (j+1, i)) for j in range(n_vars)]\n",
    "            agg = concat(cols, axis=1)\n",
    "            agg.columns = names\n",
    "            \n",
=======
    "    \n",
    "    def print_date_range(self):\n",
    "        #Print Range of Date column\n",
    "        print('Date Range: ', self.data_backup['Date'].iloc[0], '--', self.data_backup['Date'].iloc[-1])\n",
    "    \n",
    "    # convert series to supervised learning\n",
    "    def series_to_supervised(self, data, n_in=1, n_out=1, dropnan=True):\n",
    "        n_vars = 1 if type(data) is list else data.shape[1]\n",
    "        df = pd.DataFrame(data)\n",
    "        cols, names = list(), list()\n",
    "        # input sequence (t-n, ... t-1)\n",
    "        for i in range(n_in, 0, -1):\n",
    "            cols.append(df.shift(i))\n",
    "            names += [('var%d(t-%d)' % (j+1, i)) for j in range(n_vars)]\n",
    "        # forecast sequence (t, t+1, ... t+n)\n",
    "        for i in range(0, n_out):\n",
    "            cols.append(df.shift(-i))\n",
    "            if i == 0:\n",
    "                names += [('var%d(t)' % (j+1)) for j in range(n_vars)]\n",
    "            else:\n",
    "                names += [('var%d(t+%d)' % (j+1, i)) for j in range(n_vars)]\n",
    "        # put it all together\n",
    "        agg = concat(cols, axis=1)\n",
    "        agg.columns = names\n",
>>>>>>> e32d42bdcc7d4a5fb7ac7fdacbbead90932dd697
    "        # drop rows with NaN values\n",
    "        if dropnan:\n",
    "            agg.dropna(inplace=True)\n",
    "        return agg\n",
    "    \n",
    "\n",
<<<<<<< HEAD
    "    def run(self, pred_begin_date, n, lags=3, leading=1, if_target=True): \n",
    "        ''' Run RF\n",
=======
    "    def run(self, pred_begin_date, n, lags=3): \n",
    "        ''' Run CNN\n",
>>>>>>> e32d42bdcc7d4a5fb7ac7fdacbbead90932dd697
    "        \n",
    "        Params\n",
    "        ----------\n",
    "        pred_begin_date: date, the begin date of prediction\n",
    "        n: int, length of prediction (unit in months)      \n",
    "        lag: int, num of past months to consider\n",
    "        if_target: boolean, whether to include target as a predictor\n",
    "        '''\n",
    "        self.data = self.preprocess(self.data)\n",
    "        self.data.drop('SP500-EPS-Index', axis=1, inplace=True)\n",
    "        self.data.dropna(inplace = True)\n",
<<<<<<< HEAD
    "        \n",
    "        \n",
    "        # flatten data\n",
    "        reframed = self.series_to_supervised(self.data, lags, leading, True, if_target)\n",
    "        print(reframed.columns)\n",
    "        # drop columns we don't want to predict\n",
    "        reframed.drop(reframed.columns[range(reframed.shape[1] - self.n_features, reframed.shape[1])], axis=1, inplace=True)\n",
    "\n",
=======
    "\n",
    "        # flatten data\n",
    "        reframed = self.series_to_supervised(self.data, lags, 1)\n",
    "        # drop columns we don't want to predict\n",
    "        reframed.drop(reframed.columns[range(reframed.shape[1] - self.n_features, reframed.shape[1])], axis=1, inplace=True)\n",
    "        \n",
>>>>>>> e32d42bdcc7d4a5fb7ac7fdacbbead90932dd697
    "        values = reframed.values\n",
    "        self.n = n\n",
    "\n",
    "        test_date_begin = self.data.index.get_loc(pred_begin_date) - lags\n",
    "    \n",
    "        train = values[:test_date_begin, :]\n",
    "        test = values[test_date_begin: test_date_begin+self.n, :]\n",
    "\n",
    "\n",
    "        # split into input and outputs\n",
<<<<<<< HEAD
    "        \n",
    "        train_X, train_y = train[:, :-1], train[:, -1]\n",
    "        test_X, test_y = test[:, :-1], test[:, -1]\n",
    "        \n",
    "        #train_X, train_y = train[:, 1:-1], train[:, -1]\n",
    "        #test_X, test_y = test[:, 1:-1], test[:, -1]\n",
    "        \n",
=======
    "        train_X, train_y = train[:, :-1], train[:, -1]\n",
    "        test_X, test_y = test[:, :-1], test[:, -1]\n",
    "        # reshape input to be 3D [samples, timesteps, features]\n",
    "        #train_X = train_X.reshape((train_X.shape[0], 1, train_X.shape[1]))\n",
    "        #test_X = test_X.reshape((test_X.shape[0], 1, test_X.shape[1]))\n",
>>>>>>> e32d42bdcc7d4a5fb7ac7fdacbbead90932dd697
    "        print(train_X.shape, train_y.shape, test_X.shape, test_y.shape)\n",
    "\n",
    "        # create and fit the LSTM network\n",
    "        model = RandomForestClassifier(max_depth=2, random_state=0)\n",
    "        \n",
    "        result = model.fit(train_X, train_y)\n",
    "        self.model = model\n",
    "        self.train_result = result\n",
    "        \n",
    "        pred_y = self.model.predict(test_X)\n",
    "        \n",
    "        # reverse standardization\n",
    "        #test_X = test_X.reshape((test_X.shape[0], 1, test_X.shape[1]))\n",
    "\n",
    "        # invert scaling for forecast\n",
    "        #test_X = test_X.reshape((test_X.shape[0], test_X.shape[2]))\n",
    "        pred_y = pred_y.reshape((len(pred_y), 1))\n",
    "        \n",
    "        # invert scaling for actual\n",
<<<<<<< HEAD
    "        test_y = test_y.reshape((len(test_y), 1))\n",
    "        \n",
=======
    "\n",
    "        test_y = test_y.reshape((len(test_y), 1))\n",
    "\n",
>>>>>>> e32d42bdcc7d4a5fb7ac7fdacbbead90932dd697
    "        # calculate RMSE\n",
    "        rmse = np.sqrt(mean_squared_error(pred_y, test_y))\n",
    "        print('Test RMSE: %.3f' % rmse)\n",
    "\n",
    "\n",
    "        df_result = pd.DataFrame(pred_y, columns=[self.target + '_pred'])\n",
<<<<<<< HEAD
    "        df_result[self.target] = test_y\n",
=======
    "        df_result[self.target] = pred_y\n",
>>>>>>> e32d42bdcc7d4a5fb7ac7fdacbbead90932dd697
    "\n",
    "        ### TODO modify range\n",
    "\n",
    "        df_result['Date'] = self.data.index[test_date_begin + lags:  test_date_begin+lags+n]\n",
    "        df_result.set_index(['Date'],inplace=True)\n",
    "\n",
    "        self.df_result = df_result\n",
    "        self.rmse = round(rmse,2)"
   ]
  },
  {
   "cell_type": "code",
<<<<<<< HEAD
   "execution_count": 4,
   "id": "8af1a9ab",
=======
   "execution_count": 128,
   "id": "9493fdd8",
>>>>>>> e32d42bdcc7d4a5fb7ac7fdacbbead90932dd697
   "metadata": {},
   "outputs": [
    {
     "name": "stdout",
     "output_type": "stream",
     "text": [
<<<<<<< HEAD
      "Index(['var1(t-1)', 'var2(t-1)', 'var3(t-1)', 'var4(t-1)', 'var5(t-1)',\n",
      "       'var6(t-1)', 'var7(t-1)', 'var8(t-1)', 'var9(t-1)', 'var10(t-1)',\n",
      "       'var11(t-1)', 'var12(t-1)', 'var13(t-1)', 'var14(t-1)', 'var15(t-1)',\n",
      "       'var16(t-1)', 'var1(t)', 'var2(t)', 'var3(t)', 'var4(t)', 'var5(t)',\n",
      "       'var6(t)', 'var7(t)', 'var8(t)', 'var9(t)', 'var10(t)', 'var11(t)',\n",
      "       'var12(t)', 'var13(t)', 'var14(t)', 'var15(t)', 'var16(t)', 'var1(t+1)',\n",
      "       'var2(t+1)', 'var3(t+1)', 'var4(t+1)', 'var5(t+1)', 'var6(t+1)',\n",
      "       'var7(t+1)', 'var8(t+1)', 'var9(t+1)', 'var10(t+1)', 'var11(t+1)',\n",
      "       'var12(t+1)', 'var13(t+1)', 'var14(t+1)', 'var15(t+1)', 'var16(t+1)'],\n",
      "      dtype='object')\n",
      "(457, 32) (457,) (120, 32) (120,)\n",
      "Test RMSE: 0.438\n"
=======
      "(343, 12) (343,) (120, 12) (120,)\n",
      "Test RMSE: 0.204\n"
>>>>>>> e32d42bdcc7d4a5fb7ac7fdacbbead90932dd697
     ]
    },
    {
     "data": {
      "text/plain": [
       "<AxesSubplot:xlabel='Date'>"
      ]
     },
<<<<<<< HEAD
     "execution_count": 4,
=======
     "execution_count": 128,
>>>>>>> e32d42bdcc7d4a5fb7ac7fdacbbead90932dd697
     "metadata": {},
     "output_type": "execute_result"
    },
    {
     "data": {
<<<<<<< HEAD
      "image/png": "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\n",
=======
      "image/png": "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\n",
>>>>>>> e32d42bdcc7d4a5fb7ac7fdacbbead90932dd697
      "text/plain": [
       "<Figure size 432x288 with 1 Axes>"
      ]
     },
     "metadata": {
      "needs_background": "light"
     },
     "output_type": "display_data"
    }
   ],
   "source": [
<<<<<<< HEAD
    "rf_model = AutoRF(data_name='test.xlsx', target_name='IsExpanding', drop_cols=[])\n",
    "d = '2007-10-01 00:00:00'\n",
    "n = 120\n",
    "l = 1\n",
    "rf_model.run(pred_begin_date=d, n=n, lags=l,leading=2,if_target=True)\n",
=======
    "rf_model = AutoRF(data_name='merged_data_1020.xlsx', target_name='IsExpanding', drop_cols=['SP500-Price','gdp','ManufacturingNewOrders','ConstructionSpending','GS10'])\n",
    "d = '2007-10-01 00:00:00'\n",
    "n = 120\n",
    "l = 1\n",
    "rf_model.run(pred_begin_date=d, n=n, lags=l)\n",
>>>>>>> e32d42bdcc7d4a5fb7ac7fdacbbead90932dd697
    "rf_model.df_result.plot()"
   ]
  },
  {
   "cell_type": "code",
<<<<<<< HEAD
   "execution_count": 66,
   "id": "e5edbc81",
=======
   "execution_count": 129,
   "id": "f5c1e179",
>>>>>>> e32d42bdcc7d4a5fb7ac7fdacbbead90932dd697
   "metadata": {},
   "outputs": [
    {
     "data": {
      "text/plain": [
<<<<<<< HEAD
       "array([[ 2,  4],\n",
       "       [39, 75]], dtype=int64)"
      ]
     },
     "execution_count": 66,
=======
       "array([[42,  0],\n",
       "       [ 0, 78]], dtype=int64)"
      ]
     },
     "execution_count": 129,
>>>>>>> e32d42bdcc7d4a5fb7ac7fdacbbead90932dd697
     "metadata": {},
     "output_type": "execute_result"
    }
   ],
   "source": [
    "confusion_matrix(rf_model.df_result['IsExpanding_pred'], rf_model.df_result['IsExpanding'])"
   ]
<<<<<<< HEAD
  },
  {
   "cell_type": "code",
   "execution_count": null,
   "id": "142e8bd8",
   "metadata": {},
   "outputs": [],
   "source": [
    "test"
   ]
=======
>>>>>>> e32d42bdcc7d4a5fb7ac7fdacbbead90932dd697
  }
 ],
 "metadata": {
  "kernelspec": {
<<<<<<< HEAD
   "display_name": "Python 3",
=======
   "display_name": "Python 3 (ipykernel)",
>>>>>>> e32d42bdcc7d4a5fb7ac7fdacbbead90932dd697
   "language": "python",
   "name": "python3"
  },
  "language_info": {
   "codemirror_mode": {
    "name": "ipython",
    "version": 3
   },
   "file_extension": ".py",
   "mimetype": "text/x-python",
   "name": "python",
   "nbconvert_exporter": "python",
   "pygments_lexer": "ipython3",
<<<<<<< HEAD
   "version": "3.8.8"
=======
   "version": "3.8.12"
>>>>>>> e32d42bdcc7d4a5fb7ac7fdacbbead90932dd697
  }
 },
 "nbformat": 4,
 "nbformat_minor": 5
}
