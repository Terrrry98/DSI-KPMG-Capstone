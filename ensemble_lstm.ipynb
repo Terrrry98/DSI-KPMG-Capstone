{
 "cells": [
  {
   "cell_type": "code",
   "execution_count": 1,
   "metadata": {},
   "outputs": [],
   "source": [
    "import pandas as pd\n",
    "from pandas import concat\n",
    "import os\n",
    "import numpy as np\n",
    "import matplotlib.pyplot as plt\n",
    "from sklearn.preprocessing import StandardScaler, MinMaxScaler\n",
    "from sklearn.metrics import mean_squared_error\n",
    "from keras.models import Sequential\n",
    "from keras.layers import Dense, Dropout, Flatten, LSTM\n",
    "from keras import backend as K\n",
    "\n",
    "import tensorflow as tf"
   ]
  },
  {
   "cell_type": "code",
   "execution_count": 5,
   "metadata": {},
   "outputs": [],
   "source": [
    "class AutoLSTM():\n",
    "    \n",
    "    '''\n",
    "    Vector Autoregression model\n",
    "\n",
    "    Attributes\n",
    "    ----------\n",
    "    self.data_backup: dataframe, a backup copy of the input dataset\n",
    "    self.data: dataframe, the main dataset worked on\n",
    "    self.n: int, length (unit in months) of target to predict\n",
    "    self.df_result: dataframe, stores the predicted target and the true target\n",
    "    self.lag: int, number of past months used to predict the target\n",
    "    self.rmse: rounded RMSE of the prediction\n",
    "    self.target: str, name of target variable\n",
    "    self.model: record a CNN trained model\n",
    "    self.train_result: record model fit result loss\n",
    "    \n",
    "    Params\n",
    "    ----------\n",
    "    data_name: str, name of the dataset. Notice the input dataset must contain a column named 'Date'\n",
    "    target_name: str, name of target variable\n",
    "    drop_cols: list of strings, names of columns to drop\n",
    "    '''\n",
    "    def __init__(self, data_name, target_name, drop_cols=['Date']):   \n",
    "        #import data\n",
    "        curr_path = os.getcwd()\n",
    "        input_path = os.path.join(curr_path, data_name)\n",
    "        data = pd.read_excel(input_path, index_col=0)\n",
    "        \n",
    "        #drop columns and na\n",
    "        data.drop(drop_cols, axis=1, inplace=True)\n",
    "        data.dropna(inplace = True)\n",
    "        # data.reset_index(drop=True, inplace=True)\n",
    "        \n",
    "        #set attributes\n",
    "        self.data = data\n",
    " \n",
    "        self.n = 0\n",
    "        self.df_result = 0\n",
    "        self.lag = 0\n",
    "        self.rmse = 0\n",
    "        self.target = target_name\n",
    "        self.n_features = len(data.columns) - 1\n",
    "        self.model = 0\n",
    "        self.train_result = 0\n",
    "\n",
    "    \n",
    "    def print_date_range(self):\n",
    "        #Print Range of Date column\n",
    "        print('Date Range: ', self.data_backup['Date'].iloc[0], '--', self.data_backup['Date'].iloc[-1])\n",
    "    \n",
    "    # convert series to supervised learning\n",
    "    def series_to_supervised(self, data, n_in=1, n_out=1, dropnan=True, if_target=True):\n",
    "        n_vars = 1 if type(data) is list else data.shape[1]\n",
    "        df = pd.DataFrame(data)\n",
    "        df_without_target = df.loc[:, df.columns[1:]]\n",
    "        cols, names = list(), list()\n",
    "        if if_target:\n",
    "            for i in range(n_in, 0, -1):\n",
    "                cols.append(df.shift(i))\n",
    "                names += [('var%d(t-%d)' % (j+1, i)) for j in range(n_vars)]\n",
    "            for i in range(0, n_out):\n",
    "                cols.append(df.shift(-i))\n",
    "                if i == 0:\n",
    "                    names += [('var%d(t)' % (j+1)) for j in range(n_vars)]\n",
    "                else:\n",
    "                    names += [('var%d(t+%d)' % (j+1, i)) for j in range(n_vars)]\n",
    "            agg = concat(cols, axis=1)\n",
    "            agg.columns = names\n",
    "        else:\n",
    "            for i in range(n_in, 0, -1):\n",
    "                cols.append(df_without_target.shift(i))\n",
    "                names += [('var%d(t-%d)' % (j+1, i)) for j in range(1, n_vars)]\n",
    "            for i in range(0, n_out):\n",
    "                cols.append(df.shift(-i))\n",
    "                if i == 0:\n",
    "                    names += [('var%d(t)' % (j+1)) for j in range(n_vars)]\n",
    "                else:\n",
    "                    names += [('var%d(t+%d)' % (j+1, i)) for j in range(n_vars)]\n",
    "            agg = concat(cols, axis=1)\n",
    "            agg.columns = names\n",
    "        if dropnan:\n",
    "            agg.dropna(inplace=True)\n",
    "        return agg\n",
    "    \n",
    "\n",
    "    def run(self, timearray, use_target=True, lags=[], leads=[]): \n",
    "        ''' Run CNN\n",
    "        \n",
    "        Params\n",
    "        ----------\n",
    "        pred_begin_date: date, the begin date of prediction\n",
    "        n: int, length of prediction (unit in months)      \n",
    "        lag: int, num of past months to consider\n",
    "        if_target: boolean, whether to include target as a predictor\n",
    "        '''\n",
    "\n",
    "        # normalize features\n",
    "        scaler = MinMaxScaler(feature_range=(0, 1))\n",
    "        scaled = scaler.fit_transform(self.data)\n",
    "\n",
    "        pred_y_list = []\n",
    "        true_y_list = []\n",
    "        n = 1\n",
    "        n_loop = 2\n",
    "\n",
    "        for i in range(len(timearray)):\n",
    "\n",
    "            pred_begin_date = timearray[i]\n",
    "            lag = lags[i]\n",
    "            lead = leads[i]\n",
    "\n",
    "            # flatten data\n",
    "            reframed = self.series_to_supervised(scaled, lag, lead, True, use_target)\n",
    "            # drop columns we don't want to predict\n",
    "            reframed.drop(reframed.columns[range(reframed.shape[1] - self.n_features, reframed.shape[1])], axis=1, inplace=True)\n",
    "            reframed.drop(reframed.columns[range(reframed.shape[1] - 1 - (lead - 1) * (self.n_features + 1), reframed.shape[1]-1)], axis=1, inplace=True)\n",
    "\n",
    "            values = reframed.values\n",
    "            self.n = n\n",
    "\n",
    "            test_date_begin = self.data.index.get_loc(pred_begin_date) - lag - lead + 1\n",
    "\n",
    "            train = values[:test_date_begin, :]\n",
    "            test = values[test_date_begin: test_date_begin+self.n, :]\n",
    "\n",
    "\n",
    "            # split into input and outputs\n",
    "            train_X, train_y = train[:, :-1], train[:, -1]\n",
    "            test_X, test_y = test[:, :-1], test[:, -1]\n",
    "            # reshape input to be 3D [samples, timesteps, features]\n",
    "            train_X = train_X.reshape((train_X.shape[0], 1, train_X.shape[1]))\n",
    "            test_X = test_X.reshape((test_X.shape[0], 1, test_X.shape[1]))\n",
    "            # print(train_X.shape, train_y.shape, test_X.shape, test_y.shape)\n",
    "\n",
    "            # create and fit the LSTM network\n",
    "            model = Sequential()\n",
    "            model.add(LSTM(50, input_shape=(train_X.shape[1], train_X.shape[2])))\n",
    "            model.add(Dropout(0.1))\n",
    "            model.add(Dense(1))\n",
    "            \n",
    "            def root_mean_squared_error(y_true, y_pred):\n",
    "                return K.sqrt(K.mean(K.square(y_pred - y_true), axis=-1))\n",
    "            model.compile(optimizer='adam', loss=root_mean_squared_error)\n",
    "            \n",
    "            result = model.fit(train_X, train_y, verbose=0, validation_data=(test_X, test_y), epochs=25, batch_size=72)\n",
    "            self.model = model\n",
    "            self.train_result = result\n",
    "            \n",
    "            pred_y = self.model.predict(test_X)\n",
    "\n",
    "            # reverse standardization\n",
    "            #test_X = test_X.reshape((test_X.shape[0], 1, test_X.shape[1]))\n",
    "\n",
    "            # invert scaling for forecast\n",
    "            test_X = test_X.reshape((test_X.shape[0], test_X.shape[2]))\n",
    "            pred_y = pred_y.reshape((len(pred_y), 1))\n",
    "\n",
    "            inv_yhat = np.concatenate((pred_y, test_X[:, 1:self.n_features+1]), axis=1)\n",
    "            inv_yhat = scaler.inverse_transform(inv_yhat)\n",
    "            inv_yhat = inv_yhat[:,0]\n",
    "            # invert scaling for actual\n",
    "\n",
    "            test_y = test_y.reshape((len(test_y), 1))\n",
    "            inv_y = np.concatenate((test_y, test_X[:, 1:self.n_features+1]), axis=1)\n",
    "            inv_y = scaler.inverse_transform(inv_y)\n",
    "            inv_y = inv_y[:,0]\n",
    "\n",
    "            pred_y_list.append(inv_yhat)\n",
    "            true_y_list.append(inv_y[0])\n",
    "\n",
    "\n",
    "        df_result = pd.DataFrame(pred_y_list, columns=[self.target + '_pred'])\n",
    "        df_result[self.target] = true_y_list\n",
    "        df_result['Date'] = timearray\n",
    "        df_result.set_index(['Date'],inplace=True)\n",
    "        self.df_result=df_result\n",
    "        \n",
    "        # calculate RMSE\n",
    "        rmse = np.sqrt(mean_squared_error(pred_y_list, true_y_list))\n",
    "        print('Test RMSE: %.3f' % rmse)\n",
    "        self.rmse = round(rmse,2)"
   ]
  },
  {
   "cell_type": "code",
   "execution_count": 11,
   "metadata": {},
   "outputs": [
    {
     "name": "stdout",
     "output_type": "stream",
     "text": [
      "Test RMSE: 205.972\n"
     ]
    },
    {
     "data": {
      "text/plain": [
       "<AxesSubplot:xlabel='Date'>"
      ]
     },
     "execution_count": 11,
     "metadata": {},
     "output_type": "execute_result"
    },
    {
     "data": {
      "image/png": "[encoded data removed]",
      "text/plain": [
       "<Figure size 432x288 with 1 Axes>"
      ]
     },
     "metadata": {
      "needs_background": "light"
     },
     "output_type": "display_data"
    }
   ],
   "source": [
    "seed_value= 42\n",
    "tf.random.set_seed(seed_value)\n",
    "d = np.arange ('2018-05', '2020-05', np.timedelta64 (1,'M'), dtype='datetime64')\n",
    "d=d.astype('datetime64[D]')\n",
    "lags = [24]*24\n",
    "leads = range(1,len(d)+1)\n",
    "lstm_model = AutoLSTM(data_name='data_1107.xlsx', target_name='SP500-EPS-Index', drop_cols=[])\n",
    "lstm_model.run(timearray=d, use_target=True, lags=lags, leads=leads)\n",
    "lstm_model.df_result.plot()"
   ]
  },
  {
   "cell_type": "code",
   "execution_count": 21,
   "metadata": {},
   "outputs": [
    {
     "name": "stdout",
     "output_type": "stream",
     "text": [
      "205.53752237066269\n"
     ]
    },
    {
     "data": {
      "image/png": "[encoded data removed]",
      "text/plain": [
       "<Figure size 432x288 with 1 Axes>"
      ]
     },
     "metadata": {
      "needs_background": "light"
     },
     "output_type": "display_data"
    }
   ],
   "source": [
    "from scipy.signal import savgol_filter\n",
    "\n",
    "x = lstm_model.df_result['SP500-EPS-Index']\n",
    "y = lstm_model.df_result['SP500-EPS-Index_pred']\n",
    "yhat = savgol_filter(y, 23, 2) # window size 51, polynomial order 3\n",
    "print(np.sqrt(mean_squared_error(yhat, x)))\n",
    "\n",
    "plt.plot(range(24),x)\n",
    "plt.plot(range(24),yhat, color='red')\n",
    "plt.show()"
   ]
  },
  {
   "cell_type": "code",
   "execution_count": null,
   "metadata": {},
   "outputs": [],
   "source": []
  }
 ],
 "metadata": {
  "interpreter": {
   "hash": "fd53dda3d3c61acc3ee06693d4a656bef830000d416ebf6a576b61408f80737f"
  },
  "kernelspec": {
   "display_name": "Python 3.7.4 64-bit",
   "language": "python",
   "name": "python3"
  },
  "language_info": {
   "codemirror_mode": {
    "name": "ipython",
    "version": 3
   },
   "file_extension": ".py",
   "mimetype": "text/x-python",
   "name": "python",
   "nbconvert_exporter": "python",
   "pygments_lexer": "ipython3",
   "version": "3.8.5"
  },
  "orig_nbformat": 4
 },
 "nbformat": 4,
 "nbformat_minor": 2
}
