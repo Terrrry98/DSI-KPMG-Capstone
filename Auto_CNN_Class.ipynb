{
 "cells": [
  {
   "cell_type": "code",
   "execution_count": 2,
   "id": "52ae0cc0",
   "metadata": {},
   "outputs": [],
   "source": [
    "import pandas as pd\n",
    "import os\n",
    "import numpy as np\n",
    "import matplotlib.pyplot as plt\n",
    "from sklearn.preprocessing import StandardScaler\n",
    "from sklearn.metrics import mean_squared_error\n",
    "from keras.models import Sequential\n",
    "from keras.layers import Dense, Dropout, Flatten\n",
    "from keras.layers.convolutional import Conv2D, MaxPooling2D, AveragePooling2D\n",
    "from keras import backend as K\n"
   ]
  },
  {
   "cell_type": "code",
   "execution_count": 3,
   "id": "ff15347d",
   "metadata": {},
   "outputs": [],
   "source": [
    "class AutoCNN():\n",
    "    \n",
    "    '''\n",
    "    Vector Autoregression model\n",
    "\n",
    "    Attributes\n",
    "    ----------\n",
    "    self.data_backup: dataframe, a backup copy of the input dataset\n",
    "    self.data: dataframe, the main dataset worked on\n",
    "    self.n: int, length (unit in months) of target to predict\n",
    "    self.df_result: dataframe, stores the predicted target and the true target\n",
    "    self.lag: int, number of past months used to predict the target\n",
    "    self.rmse: rounded RMSE of the prediction\n",
    "    self.target: str, name of target variable\n",
    "    self.model: record a CNN trained model\n",
    "    self.train_result: record model fit result loss\n",
    "    \n",
    "    Params\n",
    "    ----------\n",
    "    data_name: str, name of the dataset. Notice the input dataset must contain a column named 'Date'\n",
    "    target_name: str, name of target variable\n",
    "    drop_cols: list of strings, names of columns to drop\n",
    "    '''\n",
    "    def __init__(self, data_name, target_name, drop_cols=['Date']):   \n",
    "        #import data\n",
    "        curr_path = os.getcwd()\n",
    "        input_path = os.path.join(curr_path, data_name)\n",
    "        data = pd.read_excel(input_path, engine='openpyxl',)\n",
    "        \n",
    "        #drop columns and na\n",
    "        drop_cols.remove('Date')\n",
    "        data.drop(drop_cols, axis=1, inplace=True)\n",
    "        data.dropna(inplace = True)\n",
    "        data.reset_index(drop=True, inplace=True)\n",
    "        \n",
    "        #set attributes\n",
    "        self.data_backup = data.copy(deep=False)\n",
    "        self.data = data.drop(['Date'], axis=1)\n",
    "        \n",
    "        self.n = 0\n",
    "        self.df_result = 0\n",
    "        self.lag = 0\n",
    "        self.column_name = []\n",
    "        self.rmse = 0\n",
    "        self.target = target_name\n",
    "        self.n_features = 0\n",
    "        self.model = 0\n",
    "        self.train_result = 0\n",
    "\n",
    "    \n",
    "    def print_date_range(self):\n",
    "        #Print Range of Date column\n",
    "        print('Date Range: ', self.data_backup['Date'].iloc[0], '--', self.data_backup['Date'].iloc[-1])\n",
    "    \n",
    "    def flatten_data(self, lag=3, if_target=True):\n",
    "        ''' Standardize predictors (excluding target itself) and flatten time series dataset\n",
    "        \n",
    "        Params\n",
    "        ----------\n",
    "        lag: int, num of past months to consider\n",
    "        if_target: boolean, whether to include target as a predictor\n",
    "        \n",
    "        Return\n",
    "        ----------\n",
    "        flattened dataset\n",
    "        '''\n",
    "        \n",
    "        #standardize\n",
    "        #withouty = self.data.drop([self.target],axis=1)\n",
    "        #normalizeddata = (withouty - withouty.mean()) / withouty.std()\n",
    "        #normalizeddata[self.target] = self.data[self.target]\n",
    "        #self.data = normalizeddata\n",
    "        \n",
    "        new_data = self.data.copy()\n",
    "        self.lag = lag\n",
    "        \n",
    "        for i in range(self.data.shape[1]):\n",
    "            new_data.columns.values[i] = new_data.columns.values[i] + '_'  + str(0)\n",
    "            \n",
    "        for n in range(lag):\n",
    "            fill_data = self.data.shift(periods = n+1)\n",
    "            fill_data = fill_data.iloc[n+1:, :]\n",
    "            new_data = new_data.iloc[1:, :]\n",
    "            new_data = pd.concat([fill_data, new_data], axis=1)\n",
    "            # rename added columns\n",
    "            for i in range(self.data.shape[1]):\n",
    "                new_data.columns.values[i] = self.data.columns.values[i][:-2] + '_'  + str(n+1)\n",
    "\n",
    "            #exclude target itself from predictors\n",
    "            if not if_target:\n",
    "                name = self.target + '_' + str(n+1)\n",
    "                new_data.drop([name], axis=1, inplace=True)\n",
    "                \n",
    "        self.data = new_data\n",
    "        self.n_features = int(self.data.shape[1]//(lag+1))\n",
    "        \n",
    "    \n",
    "        \n",
    "    def run(self, pred_begin_date, n, if_target=True, lags=3): \n",
    "        ''' Run CNN\n",
    "        \n",
    "        Params\n",
    "        ----------\n",
    "        pred_begin_date: date, the begin date of prediction\n",
    "        n: int, length of prediction (unit in months)      \n",
    "        lag: int, num of past months to consider\n",
    "        if_target: boolean, whether to include target as a predictor\n",
    "        '''\n",
    "        #flatten dataset\n",
    "        self.flatten_data(lags, if_target=if_target)\n",
    "        \n",
    "        #set attributes\n",
    "        self.n = n\n",
    "        test_date_begin = self.data_backup.index[self.data_backup['Date'] == pred_begin_date].tolist()[0] - lags\n",
    "        train = pd.concat([self.data.iloc[:test_date_begin], self.data.iloc[test_date_begin+n+lags:]], axis=0)\n",
    "        test = self.data.iloc[test_date_begin:test_date_begin+n]\n",
    "        train.reset_index(drop=True, inplace=True)\n",
    "        test.reset_index(drop=True, inplace=True)\n",
    "        \n",
    "\n",
    "        \n",
    "        # find train_y, train_x and test_y, test_x\n",
    "        train_y = train[self.target + '_0']\n",
    "        train_x = train.loc[:, self.data.columns[:int(self.n_features*self.lag)]]\n",
    "        test_y = test[self.target + '_0']\n",
    "        test_x = test.loc[:, self.data.columns[:int(self.n_features*self.lag)]]\n",
    "\n",
    "        \n",
    "        # reshape data and normalize data\n",
    "        train_x = np.array(train_x).reshape(len(train_x), self.lag, self.n_features, 1)\n",
    "        test_x = np.array(test_x).reshape(len(test_x), self.lag, self.n_features, 1)\n",
    "        \n",
    "        \n",
    "        #build CNN model\n",
    "        model = Sequential()\n",
    "        model.add(Conv2D(filters = 32, \n",
    "                         input_shape = ((self.lag, self.n_features,1)),\n",
    "                         data_format = 'channels_last',\n",
    "                         kernel_size=(2,2), \n",
    "                         strides=(1,1),   \n",
    "                         activation='relu'))\n",
    "        #model.add(MaxPooling2D(pool_size=(2, 1)))\n",
    "        #model.add(AveragePooling2D(pool_size=(2,1)))\n",
    "        model.add(Flatten())\n",
    "        model.add(Dense(45, activation='relu'))\n",
    "        model.add(Dense(1))\n",
    "        \n",
    "        def root_mean_squared_error(y_true, y_pred):\n",
    "            return K.sqrt(K.mean(K.square(y_pred - y_true), axis=-1))\n",
    "        model.compile(optimizer='adam', loss=root_mean_squared_error)\n",
    "        \n",
    "        result = model.fit(train_x, train_y, verbose=0, validation_data=(test_x, test_y), epochs=20)\n",
    "        self.model = model\n",
    "        self.train_result = result\n",
    "\n",
    "        \n",
    "        pred_y = self.model.predict(test_x)\n",
    "        df_result = pd.DataFrame(pred_y, columns=[self.target + '_pred'])\n",
    "        df_result[self.target] = test_y.values\n",
    "        df_result['Date'] = self.data_backup['Date'][test_date_begin+self.lag:test_date_begin+self.n+self.lag].values\n",
    "        df_result.set_index(['Date'],inplace=True)\n",
    "        self.df_result = df_result\n",
    "        rmse = mean_squared_error(df_result[self.target + '_pred'], df_result[self.target], squared=False)\n",
    "        print('RMSE: ', round(rmse,2))\n",
    "        self.rmse = round(rmse,2)"
   ]
  },
  {
   "cell_type": "code",
   "execution_count": 22,
   "id": "b14db431",
   "metadata": {
    "scrolled": true
   },
   "outputs": [
    {
     "name": "stdout",
     "output_type": "stream",
     "text": [
      "RMSE:  428.39\n"
     ]
    },
    {
     "data": {
      "text/plain": [
       "<AxesSubplot:xlabel='Date'>"
      ]
     },
     "execution_count": 22,
     "metadata": {},
     "output_type": "execute_result"
    },
    {
     "data": {
      "image/png": "[encoded data removed]",
      "text/plain": [
       "<Figure size 432x288 with 1 Axes>"
      ]
     },
     "metadata": {
      "needs_background": "light"
     },
     "output_type": "display_data"
    }
   ],
   "source": [
    "cnn_model = AutoCNN(data_name='test.xlsx', target_name='SP500-EPS-Index', drop_cols=['Date'])\n",
    "d = '2015-01-01 00:00:00'\n",
    "n = 24\n",
    "l = 12\n",
    "cnn_model.run(pred_begin_date=d, n=n, lags=l, if_target=False)\n",
    "cnn_model.df_result.plot()\n",
    "\n",
    "\n",
    "#cnn_model = AutoCNN(data_name='merged_data_1020.xlsx', target_name='SP500-EPS-Index', drop_cols=['Date','SP500-Price','gdp','ManufacturingNewOrders','ConstructionSpending'])\n",
    "#cnn_model.run(pred_begin_date=d, n=n, lags=l, if_target=False)\n",
    "#cnn_model.df_result.plot()"
   ]
  },
  {
   "cell_type": "code",
   "execution_count": 17,
   "id": "f0d33c7b",
   "metadata": {},
   "outputs": [
    {
     "name": "stdout",
     "output_type": "stream",
     "text": [
      "RMSE:  88.55\n"
     ]
    },
    {
     "data": {
      "text/plain": [
       "<AxesSubplot:xlabel='Date'>"
      ]
     },
     "execution_count": 17,
     "metadata": {},
     "output_type": "execute_result"
    },
    {
     "data": {
      "image/png": "[encoded data removed]",
      "text/plain": [
       "<Figure size 432x288 with 1 Axes>"
      ]
     },
     "metadata": {
      "needs_background": "light"
     },
     "output_type": "display_data"
    }
   ],
   "source": [
    "cnn_model = AutoCNN(data_name='test.xlsx', target_name='SP500-EPS-Index', drop_cols=['Date'])\n",
    "d = '2015-01-01 00:00:00'\n",
    "n = 24\n",
    "l = 12\n",
    "cnn_model.run(pred_begin_date=d, n=n, lags=l, if_target=True)\n",
    "cnn_model.df_result.plot()"
   ]
  },
  {
   "cell_type": "code",
   "execution_count": null,
   "id": "89605631",
   "metadata": {},
   "outputs": [],
   "source": []
  }
 ],
 "metadata": {
  "kernelspec": {
   "display_name": "Python 3",
   "language": "python",
   "name": "python3"
  },
  "language_info": {
   "codemirror_mode": {
    "name": "ipython",
    "version": 3
   },
   "file_extension": ".py",
   "mimetype": "text/x-python",
   "name": "python",
   "nbconvert_exporter": "python",
   "pygments_lexer": "ipython3",
   "version": "3.8.8"
  }
 },
 "nbformat": 4,
 "nbformat_minor": 5
}
