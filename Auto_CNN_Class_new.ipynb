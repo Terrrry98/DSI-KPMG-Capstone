{
 "cells": [
  {
   "cell_type": "code",
   "execution_count": 5,
   "id": "9d20f790",
   "metadata": {},
   "outputs": [],
   "source": [
    "import pandas as pd\n",
    "from pandas import concat\n",
    "import os\n",
    "import numpy as np\n",
    "import matplotlib.pyplot as plt\n",
    "from sklearn.preprocessing import StandardScaler, MinMaxScaler\n",
    "from sklearn.metrics import mean_squared_error\n",
    "from keras.models import Sequential\n",
    "from keras.layers import Dense, Dropout, Flatten\n",
    "from keras import backend as K\n",
    "from keras.layers.convolutional import Conv2D, MaxPooling2D, AveragePooling2D"
   ]
  },
  {
   "cell_type": "code",
   "execution_count": 6,
   "id": "ca949ea0",
   "metadata": {},
   "outputs": [],
   "source": [
    "class AutoCNN():\n",
    "    \n",
    "    '''\n",
    "    Vector Autoregression model\n",
    "\n",
    "    Attributes\n",
    "    ----------\n",
    "    self.data_backup: dataframe, a backup copy of the input dataset\n",
    "    self.data: dataframe, the main dataset worked on\n",
    "    self.n: int, length (unit in months) of target to predict\n",
    "    self.df_result: dataframe, stores the predicted target and the true target\n",
    "    self.lag: int, number of past months used to predict the target\n",
    "    self.rmse: rounded RMSE of the prediction\n",
    "    self.target: str, name of target variable\n",
    "    self.model: record a CNN trained model\n",
    "    self.train_result: record model fit result loss\n",
    "    \n",
    "    Params\n",
    "    ----------\n",
    "    data_name: str, name of the dataset. Notice the input dataset must contain a column named 'Date'\n",
    "    target_name: str, name of target variable\n",
    "    drop_cols: list of strings, names of columns to drop\n",
    "    '''\n",
    "    def __init__(self, data_name, target_name, drop_cols=['Date']):   \n",
    "        #import data\n",
    "        curr_path = os.getcwd()\n",
    "        input_path = os.path.join(curr_path, data_name)\n",
    "        data = pd.read_excel(input_path, index_col=0)\n",
    "        \n",
    "        #drop columns and na\n",
    "        data.drop(drop_cols, axis=1, inplace=True)\n",
    "        data.dropna(inplace = True)\n",
    "        # data.reset_index(drop=True, inplace=True)\n",
    "        \n",
    "        #set attributes\n",
    "        self.data = data\n",
    "        self.n = 0\n",
    "        self.df_result = 0\n",
    "        self.lag = 0\n",
    "        self.column_name = []\n",
    "        self.rmse = 0\n",
    "        self.target = target_name\n",
    "        self.n_features = len(data.columns) - 1\n",
    "        self.model = 0\n",
    "        self.train_result = 0\n",
    "        \n",
    "        \n",
    "    def series_to_supervised(self, data, n_in=1, n_out=1, dropnan=True, if_target=True):\n",
    "        n_vars = 1 if type(data) is list else data.shape[1]\n",
    "        df = pd.DataFrame(data)\n",
    "        df_without_target = df.loc[:, df.columns[1:]]\n",
    "        cols, names = list(), list()\n",
    "        if if_target:\n",
    "            for i in range(n_in, 0, -1):\n",
    "                cols.append(df.shift(i))\n",
    "                names += [('var%d(t-%d)' % (j+1, i)) for j in range(n_vars)]\n",
    "            for i in range(0, n_out):\n",
    "                cols.append(df.shift(-i))\n",
    "                if i == 0:\n",
    "                    names += [('var%d(t)' % (j+1)) for j in range(n_vars)]\n",
    "                else:\n",
    "                    names += [('var%d(t+%d)' % (j+1, i)) for j in range(n_vars)]\n",
    "            agg = concat(cols, axis=1)\n",
    "            agg.columns = names\n",
    "        else:\n",
    "            for i in range(n_in, 0, -1):\n",
    "                cols.append(df_without_target.shift(i))\n",
    "                names += [('var%d(t-%d)' % (j+1, i)) for j in range(1, n_vars)]\n",
    "            for i in range(0, n_out):\n",
    "                cols.append(df.shift(-i))\n",
    "                if i == 0:\n",
    "                    names += [('var%d(t)' % (j+1)) for j in range(n_vars)]\n",
    "                else:\n",
    "                    names += [('var%d(t+%d)' % (j+1, i)) for j in range(n_vars)]\n",
    "            agg = concat(cols, axis=1)\n",
    "            agg.columns = names\n",
    "        if dropnan:\n",
    "            agg.dropna(inplace=True)\n",
    "        return agg\n",
    "    \n",
    "\n",
    "    def run(self, pred_begin_date, n, use_target=True, lags=3, leads=1): \n",
    "        ''' Run CNN\n",
    "        \n",
    "        Params\n",
    "        ----------\n",
    "        pred_begin_date: date, the begin date of prediction\n",
    "        n: int, length of prediction (unit in months)      \n",
    "        lag: int, num of past months to consider\n",
    "        if_target: boolean, whether to include target as a predictor\n",
    "        '''\n",
    "\n",
    "        # normalize features\n",
    "        scaler = MinMaxScaler(feature_range=(0, 1))\n",
    "        scaled = scaler.fit_transform(self.data)\n",
    "        # flatten data\n",
    "        reframed = self.series_to_supervised(scaled, lags, leads, True, use_target)\n",
    "        # drop columns we don't want to predict\n",
    "        reframed.drop(reframed.columns[range(reframed.shape[1] - self.n_features, reframed.shape[1])], axis=1, inplace=True)\n",
    "        reframed.drop(reframed.columns[range(reframed.shape[1] - 1 - (leads - 1) * (self.n_features + 1), reframed.shape[1]-1)], axis=1, inplace=True)\n",
    "        \n",
    "        values = reframed.values\n",
    "        self.n = n\n",
    "\n",
    "        test_date_begin = self.data.index.get_loc(pred_begin_date) - lags - leads + 1\n",
    "        \n",
    "        train = values[:test_date_begin, :]\n",
    "        test = values[test_date_begin: test_date_begin+self.n, :]\n",
    "\n",
    "        # split into input and outputs\n",
    "        train_X, train_y = train[:, :-1], train[:, -1]\n",
    "        test_X, test_y = test[:, :-1], test[:, -1]\n",
    "                \n",
    "        # reshape data and normalize data\n",
    "        if use_target:\n",
    "            features  = self.n_features+1\n",
    "            train_X_reshaped = np.array(train_X).reshape(len(train_X), lags, self.n_features+1, 1)\n",
    "            test_X_reshaped = np.array(test_X).reshape(len(test_X), lags, self.n_features+1, 1)\n",
    "        else:\n",
    "            features = self.n_features\n",
    "            train_X_reshaped = np.array(train_X).reshape(len(train_X), lags, self.n_features, 1)\n",
    "            test_X_reshaped = np.array(test_X).reshape(len(test_X), lags, self.n_features, 1)            \n",
    "\n",
    "        #build CNN model\n",
    "        model = Sequential()\n",
    "        model.add(Conv2D(filters = 32, \n",
    "                         input_shape = ((lags, features,1)),\n",
    "                         data_format = 'channels_last',\n",
    "                         kernel_size=(2,2), \n",
    "                         strides=(1,1),   \n",
    "                         activation='relu'))\n",
    "        #model.add(MaxPooling2D(pool_size=(2, 1)))\n",
    "        #model.add(AveragePooling2D(pool_size=(2,1)))\n",
    "        model.add(Flatten())\n",
    "        model.add(Dense(45, activation='relu'))\n",
    "        model.add(Dense(1))\n",
    "        \n",
    "        def root_mean_squared_error(y_true, y_pred):\n",
    "            return K.sqrt(K.mean(K.square(y_pred - y_true), axis=-1))\n",
    "        model.compile(optimizer='adam', loss=root_mean_squared_error)\n",
    "        \n",
    "        result = model.fit(train_X_reshaped, train_y, verbose=0, validation_data=(test_X_reshaped, test_y), epochs=20)\n",
    "        self.model = model\n",
    "        self.train_result = result\n",
    "        \n",
    "        pred_y = self.model.predict(test_X_reshaped)\n",
    "        pred_y = pred_y.reshape((len(pred_y), 1))\n",
    "        \n",
    "        if use_target:\n",
    "            inv_yhat = np.concatenate((pred_y, test_X[:, 1:features]), axis=1)\n",
    "        else:\n",
    "            inv_yhat = np.concatenate((pred_y, test_X[:, :features]), axis=1)\n",
    "        \n",
    "        inv_yhat = scaler.inverse_transform(inv_yhat)\n",
    "        inv_yhat = inv_yhat[:,0]\n",
    "        # invert scaling for actual\n",
    "\n",
    "        test_y = test_y.reshape((len(test_y), 1))\n",
    "        inv_y = np.concatenate((test_y, test_X[:, 1:self.n_features+1]), axis=1)\n",
    "        inv_y = scaler.inverse_transform(inv_y)\n",
    "        inv_y = inv_y[:,0]\n",
    "        # calculate RMSE\n",
    "        rmse = np.sqrt(mean_squared_error(inv_y, inv_yhat))\n",
    "        print('Test RMSE: %.3f' % rmse)\n",
    "\n",
    "        df_result = pd.DataFrame(inv_yhat, columns=[self.target + '_pred'])\n",
    "        df_result[self.target] = inv_y\n",
    "\n",
    "        ### TODO modify range\n",
    "\n",
    "        df_result['Date'] = self.data.index[test_date_begin + lags+leads-1:  test_date_begin+lags+n+leads-1]\n",
    "        df_result.set_index(['Date'],inplace=True)\n",
    "\n",
    "        self.df_result = df_result\n",
    "        self.rmse = round(rmse,2)  "
   ]
  },
  {
   "cell_type": "code",
   "execution_count": 7,
   "id": "cacf9ae4",
   "metadata": {},
   "outputs": [
    {
     "name": "stdout",
     "output_type": "stream",
     "text": [
      "Test RMSE: 132.468\n"
     ]
    },
    {
     "data": {
      "text/plain": [
       "<AxesSubplot:xlabel='Date'>"
      ]
     },
     "execution_count": 7,
     "metadata": {},
     "output_type": "execute_result"
    },
    {
     "data": {
      "image/png": "[encoded data removed]",
      "text/plain": [
       "<Figure size 432x288 with 1 Axes>"
      ]
     },
     "metadata": {
      "needs_background": "light"
     },
     "output_type": "display_data"
    }
   ],
   "source": [
    "cnn_model = AutoCNN(data_name='data_1107.xlsx', target_name='SP500-EPS-Index', drop_cols=[])\n",
    "d = '2008-05-01 00:00:00'\n",
    "n = 24\n",
    "lag = 2\n",
    "lead = 1\n",
    "cnn_model.run(pred_begin_date=d, n=n, use_target=True, lags=lag, leads=lead)\n",
    "cnn_model.df_result.plot()"
   ]
  },
  {
   "cell_type": "code",
   "execution_count": 8,
   "id": "4d87fb02",
   "metadata": {},
   "outputs": [
    {
     "name": "stdout",
     "output_type": "stream",
     "text": [
      "Test RMSE: 348.857\n"
     ]
    },
    {
     "data": {
      "text/plain": [
       "<AxesSubplot:xlabel='Date'>"
      ]
     },
     "execution_count": 8,
     "metadata": {},
     "output_type": "execute_result"
    },
    {
     "data": {
      "image/png": "[encoded data removed]",
      "text/plain": [
       "<Figure size 432x288 with 1 Axes>"
      ]
     },
     "metadata": {
      "needs_background": "light"
     },
     "output_type": "display_data"
    }
   ],
   "source": [
    "cnn_model = AutoCNN(data_name='data_1107.xlsx', target_name='SP500-EPS-Index', drop_cols=[])\n",
    "d = '2008-05-01 00:00:00'\n",
    "n = 24\n",
    "l = 12\n",
    "cnn_model.run(pred_begin_date=d, n=n, use_target=True, lags=l)\n",
    "cnn_model.df_result.plot()"
   ]
  }
 ],
 "metadata": {
  "kernelspec": {
   "display_name": "Python 3",
   "language": "python",
   "name": "python3"
  },
  "language_info": {
   "codemirror_mode": {
    "name": "ipython",
    "version": 3
   },
   "file_extension": ".py",
   "mimetype": "text/x-python",
   "name": "python",
   "nbconvert_exporter": "python",
   "pygments_lexer": "ipython3",
   "version": "3.8.8"
  }
 },
 "nbformat": 4,
 "nbformat_minor": 5
}
