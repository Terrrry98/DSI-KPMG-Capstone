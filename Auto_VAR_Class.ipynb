{
 "cells": [
  {
   "cell_type": "code",
   "execution_count": 1,
   "id": "22af7a4f",
   "metadata": {},
   "outputs": [],
   "source": [
    "import pandas as pd\n",
    "import os\n",
    "from statsmodels.tsa.stattools import adfuller\n",
    "from statsmodels.tsa.api import VAR as api_var\n",
    "from sklearn.metrics import mean_squared_error\n",
    "from statsmodels.tsa.stattools import grangercausalitytests\n",
    "import numpy as np"
   ]
  },
  {
   "cell_type": "code",
   "execution_count": 2,
   "id": "1d03477f",
   "metadata": {},
   "outputs": [],
   "source": [
    "class AutoVAR():\n",
    "    \n",
    "    '''\n",
    "    Vector Autoregression model\n",
    "\n",
    "    Attributes\n",
    "    ----------\n",
    "    self.data_backup: dataframe, a backup copy of the input dataset\n",
    "    self.data: dataframe, the main dataset worked on\n",
    "    self.n: int, length (unit in months) of target to predict\n",
    "    self.df_result: dataframe, stores the predicted target and the true target\n",
    "    self.lag: int, number of past months used to predict the target\n",
    "    self.column_name: list of str, names of columns used to predict the target\n",
    "    self.rmse: rounded RMSE of the prediction\n",
    "    self.target: str, name of target variable\n",
    "    \n",
    "    Params\n",
    "    ----------\n",
    "    data_name: str, name of the dataset. Notice the input dataset must contain a column named 'Date.'\n",
    "    target_name: str, name of target variable\n",
    "    drop_cols: list of strings, names of columns to drop\n",
    "    '''\n",
    "    def __init__(self, data_name, target_name, drop_cols=['Date']):   \n",
    "        #import data\n",
    "        curr_path = os.getcwd()\n",
    "        input_path = os.path.join(curr_path, data_name)\n",
    "        data = pd.read_excel(input_path, engine='openpyxl',)\n",
    "        \n",
    "        #drop columns and na\n",
    "        drop_cols.remove('Date')\n",
    "        data.drop(drop_cols, axis=1, inplace=True)\n",
    "        data.dropna(inplace = True)\n",
    "        data.reset_index(drop=True, inplace=True)\n",
    "        \n",
    "        #set attributes\n",
    "        self.data_backup = data.copy(deep=False)\n",
    "        self.data = data.drop(['Date'], axis=1)\n",
    "        \n",
    "        self.n = 0\n",
    "        self.df_result = 0\n",
    "        self.lag = 0\n",
    "        self.column_name = []\n",
    "        self.rmse = 0\n",
    "        self.target = target_name\n",
    "\n",
    "        \n",
    "    def print_date_range(self):\n",
    "        #Print Range of Date column\n",
    "        print('Date Range: ', self.data_backup['Date'].iloc[0], '--', self.data_backup['Date'].iloc[-1])\n",
    "        \n",
    "    def grangers_causation_matrix(self, data, variables, maxlag, test='ssr_chi2test', verbose=False):\n",
    "        '''Calculate Granger causation matrix. Function borrowed from \n",
    "        https://stackoverflow.com/questions/58005681/is-it-possible-to-run-a-vector-autoregression-analysis-on-a-large-gdp-data-with\n",
    "        \n",
    "        Parameters\n",
    "        ----------\n",
    "        data: dataframe, dataframe to calculate causation matrix on\n",
    "        variable: list of str, column names of data\n",
    "        maxlag: int, number of past months used to predict the target\n",
    "        \n",
    "        Returns\n",
    "        -------\n",
    "        df: Granger causation matrix\n",
    "        '''\n",
    "        df = pd.DataFrame(np.zeros((len(variables), len(variables))), columns=variables, index=variables)\n",
    "        for c in df.columns:\n",
    "            for r in df.index:\n",
    "                test_result = grangercausalitytests(data[[r, c]], maxlag=maxlag, verbose=False)\n",
    "                p_values = [round(test_result[i+1][0][test][1],4) for i in range(maxlag)]\n",
    "                if verbose: print(f'Y = {r}, X = {c}, P Values = {p_values}')\n",
    "                min_p_value = np.min(p_values)\n",
    "                df.loc[r, c] = min_p_value\n",
    "        df.columns = [var + '_x' for var in variables]\n",
    "        df.index = [var + '_y' for var in variables]\n",
    "        return df\n",
    "    \n",
    "    def run(self, pred_begin_date, n, maxlag=12, if_gc=False):\n",
    "        '''run VAR, apply stationary test and choose lag order by AIC test\n",
    "        \n",
    "        Parameters\n",
    "        ----------\n",
    "        pred_begin_date: date, the begin date of prediction\n",
    "        n: int, length (unit in months) of prediction\n",
    "        maxlag: max lag order allowed\n",
    "        if_gc: boolean, whether using granger causality test for filtering predictors\n",
    "        \n",
    "        '''\n",
    "            \n",
    "        #set attributes\n",
    "        self.n = n\n",
    "        test_date_begin = self.data_backup.index[self.data_backup['Date'] == pred_begin_date].tolist()[0]\n",
    "        df_train, df_test = self.data.iloc[:test_date_begin], self.data.iloc[test_date_begin:test_date_begin+n]\n",
    "        \n",
    "        # apply difference method to df_train\n",
    "        df_train_trans = df_train.diff().dropna()\n",
    "        \n",
    "        #drop columns still unstable after differencing\n",
    "        for col in df_train_trans.columns:\n",
    "            result = adfuller(df_train_trans[col].values)\n",
    "            if result[1] > 0.05:\n",
    "                df_train_trans.drop([col], axis=1, inplace=True)\n",
    "                print('for stationary, dropped: ', col)\n",
    "\n",
    "        # Use AIC to find Lag Order and then fit model\n",
    "        model = api_var(df_train_trans.values)\n",
    "        AIC_lst = []\n",
    "        for i in range(1, maxlag):\n",
    "            result = model.fit(i)\n",
    "            AIC_lst.append(result.aic)\n",
    "        lags = np.argmin(AIC_lst) + 1\n",
    "        results = model.fit(maxlags=lags, ic='aic')\n",
    "        \n",
    "        if if_gc:\n",
    "            #drop unnecessary columns based on granger_causation\n",
    "            gc_mat = self.grangers_causation_matrix(df_train_trans, variables = df_train_trans.columns, maxlag = lags)\n",
    "            target_idx = gc_mat.columns.get_loc(self.target + '_x')\n",
    "            col_idx = (gc_mat.iloc[[target_idx]]>0.05).values[0]\n",
    "            dropped_col_names = gc_mat.columns.values[col_idx].tolist()\n",
    "            dropped_col_names.remove(self.target + '_x')\n",
    "            dropped_col_names = [i[:-2] for i in dropped_col_names]\n",
    "            \n",
    "            while len(dropped_col_names) != 0:\n",
    "                \n",
    "                print('by granger causation matrix, dropped: ', dropped_col_names, '\\n')#Refit and Predict\n",
    "                df_train_trans = df_train_trans.drop(dropped_col_names, axis=1)\n",
    "                model = api_var(df_train_trans.values)\n",
    "                AIC_lst = []\n",
    "                for i in range(1, maxlag):\n",
    "                    result = model.fit(i)\n",
    "                    AIC_lst.append(result.aic)\n",
    "                lags = np.argmin(AIC_lst) + 1\n",
    "                gc_mat = self.grangers_causation_matrix(df_train_trans, variables = df_train_trans.columns, maxlag = lags)\n",
    "                target_idx = gc_mat.columns.get_loc(self.target + '_x')\n",
    "                col_idx = (gc_mat.iloc[[target_idx]]>0.05).values[0]\n",
    "                dropped_col_names = gc_mat.columns.values[col_idx].tolist()\n",
    "                dropped_col_names.remove(self.target + '_x')\n",
    "                dropped_col_names = [i[:-2] for i in dropped_col_names]\n",
    "            \n",
    "        results = model.fit(maxlags=lags, ic='aic')\n",
    "        self.lag = lags\n",
    "        \n",
    "        df_test_trans = self.data.diff().dropna()[test_date_begin-1:test_date_begin+n-1].reindex()        \n",
    "        data_pred = results.forecast(y=df_train_trans.values[-lags:], steps= n)\n",
    "        df_forecast = (pd.DataFrame(data_pred, index=df_test.index, columns=df_train_trans.columns + '_pred'))\n",
    "        self.column_name = df_train_trans.columns.values\n",
    "        \n",
    "        df_forecast.reset_index(drop=True, inplace=True)\n",
    "        df_test_trans.reset_index(drop=True, inplace=True)\n",
    "        df_result = pd.concat([df_forecast[self.target + '_pred'], df_test_trans[self.target].dropna()], axis=1)\n",
    "\n",
    "        #detransformation and calculate RMSE\n",
    "        df_result[self.target + '_pred'] = df_train[self.target].iloc[-1] + df_result[self.target + '_pred'].cumsum()\n",
    "        df_result[self.target] = df_train[self.target].iloc[-1] + df_result[self.target].cumsum()\n",
    "        df_result['Date'] = self.data_backup['Date'][test_date_begin:test_date_begin+self.n].values\n",
    "        df_result.set_index(['Date'],inplace=True)\n",
    "        self.df_result = df_result\n",
    "        rmse2 = mean_squared_error(df_result[self.target + '_pred'], df_result[self.target], squared=False)\n",
    "        self.rmse = rmse2\n",
    "        print('RMSE: ', round(rmse2,2))"
   ]
  },
  {
   "cell_type": "code",
   "execution_count": 3,
   "id": "587377a1",
   "metadata": {},
   "outputs": [
    {
     "name": "stdout",
     "output_type": "stream",
     "text": [
      "Date Range:  1979-02-01 00:00:00 -- 2019-10-01 00:00:00\n"
     ]
    }
   ],
   "source": [
    "var_model = AutoVAR(data_name='merged_data_1020.xlsx', target_name='SP500-EPS-Index', drop_cols=['Date','SP500-Price','gdp','ManufacturingNewOrders','ConstructionSpending'])\n",
    "var_model.print_date_range()"
   ]
  },
  {
   "cell_type": "code",
   "execution_count": 4,
   "id": "cc4fff33",
   "metadata": {},
   "outputs": [
    {
     "name": "stdout",
     "output_type": "stream",
     "text": [
      "for stationary, dropped:  M2\n",
      "RMSE:  29.76\n"
     ]
    },
    {
     "data": {
      "text/plain": [
       "Text(0.5, 1.0, 'VAR Performance')"
      ]
     },
     "execution_count": 4,
     "metadata": {},
     "output_type": "execute_result"
    },
    {
     "data": {
      "image/png": "[encoded data removed]",
      "text/plain": [
       "<Figure size 432x288 with 1 Axes>"
      ]
     },
     "metadata": {
      "needs_background": "light"
     },
     "output_type": "display_data"
    }
   ],
   "source": [
    "d = '2018-10-01 00:00:00'\n",
    "n = 6\n",
    "l = 15\n",
    "var_model.run(pred_begin_date=d, n=n, maxlag=l, if_gc=False)\n",
    "ax1 = var_model.df_result.plot()\n",
    "ax1.set_title('VAR Performance')\n"
   ]
  },
  {
   "cell_type": "code",
   "execution_count": 5,
   "id": "c6f22c7e",
   "metadata": {},
   "outputs": [
    {
     "name": "stdout",
     "output_type": "stream",
     "text": [
      "for stationary, dropped:  M2\n",
      "RMSE:  17.32\n",
      "for stationary, dropped:  M2\n",
      "RMSE:  15.23\n",
      "for stationary, dropped:  M2\n",
      "RMSE:  12.45\n",
      "for stationary, dropped:  M2\n",
      "RMSE:  12.78\n",
      "for stationary, dropped:  M2\n",
      "RMSE:  19.86\n",
      "for stationary, dropped:  M2\n",
      "RMSE:  29.76\n",
      "for stationary, dropped:  M2\n",
      "RMSE:  39.67\n",
      "for stationary, dropped:  M2\n",
      "RMSE:  47.04\n",
      "for stationary, dropped:  M2\n",
      "RMSE:  52.76\n",
      "for stationary, dropped:  M2\n",
      "RMSE:  61.18\n",
      "for stationary, dropped:  M2\n",
      "RMSE:  74.49\n",
      "for stationary, dropped:  M2\n",
      "RMSE:  91.17\n",
      "for stationary, dropped:  M2\n",
      "RMSE:  100.89\n"
     ]
    }
   ],
   "source": [
    "rmse_list = []\n",
    "for n in range(1,14):\n",
    "    d = '2018-10-01 00:00:00'\n",
    "    l = 15\n",
    "    var_model.run(pred_begin_date=d, n=n, maxlag=l, if_gc=False)\n",
    "    rmse_list.append(var_model.rmse)"
   ]
  },
  {
   "cell_type": "code",
   "execution_count": 6,
   "id": "bdd18661",
   "metadata": {},
   "outputs": [
    {
     "data": {
      "text/plain": [
       "Text(0.5, 0, 'Length of months to predict')"
      ]
     },
     "execution_count": 6,
     "metadata": {},
     "output_type": "execute_result"
    },
    {
     "data": {
      "image/png": "[encoded data removed]",
      "text/plain": [
       "<Figure size 432x288 with 1 Axes>"
      ]
     },
     "metadata": {
      "needs_background": "light"
     },
     "output_type": "display_data"
    }
   ],
   "source": [
    "import matplotlib.pyplot as plt\n",
    "plt.plot(range(1,14),rmse_list)\n",
    "plt.title('RMSE v.s. Length of months to predict')\n",
    "plt.ylabel('RMSE')\n",
    "plt.xlabel(\"Length of months to predict\")"
   ]
  }
 ],
 "metadata": {
  "kernelspec": {
   "display_name": "Python 3",
   "language": "python",
   "name": "python3"
  },
  "language_info": {
   "codemirror_mode": {
    "name": "ipython",
    "version": 3
   },
   "file_extension": ".py",
   "mimetype": "text/x-python",
   "name": "python",
   "nbconvert_exporter": "python",
   "pygments_lexer": "ipython3",
   "version": "3.8.8"
  }
 },
 "nbformat": 4,
 "nbformat_minor": 5
}
