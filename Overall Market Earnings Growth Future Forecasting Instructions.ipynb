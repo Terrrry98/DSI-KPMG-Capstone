{
 "cells": [
  {
   "cell_type": "markdown",
   "metadata": {
    "id": "XA-SQZ5qDQs3"
   },
   "source": [
    "# S&P 500 Index Prediction\n",
    "Workflow:\n",
    "1. Load the raw data. Transform and save it locally for train\n",
    "1. Import the three model file and specify the training dataset to train and predict ad-hoc.\n",
    "2. Retrieve the prediction result from the three models for the next 24 months and apply the ensemble rule.\n",
    "3. Visualize the ensembled result for the final presentation."
   ]
  },
  {
   "cell_type": "markdown",
   "metadata": {
    "id": "57RTPNKjEO6W"
   },
   "source": [
    "## 0. Prepare the environment\n",
    "Import the neccesary libraries and model files saved seperately as a .py file."
   ]
  },
  {
   "cell_type": "code",
   "execution_count": 1,
   "metadata": {
    "colab": {
     "base_uri": "https://localhost:8080/",
     "height": 351
    },
    "executionInfo": {
     "elapsed": 235,
     "status": "error",
     "timestamp": 1639021831221,
     "user": {
      "displayName": "Chenxi Di",
      "photoUrl": "https://lh3.googleusercontent.com/a-/AOh14GjARPyCn2vP-ScAbtJUrf3iNztg65e5NzLk_BzCZw=s64",
      "userId": "05882660250059264487"
     },
     "user_tz": 480
    },
    "id": "Bk9uS04aAokg",
    "outputId": "a4e1a817-0051-4443-9db7-28da71c13331"
   },
   "outputs": [],
   "source": [
    "# import Long Short Term Memory, Convolutional Neural Network and Random Forest model implementation\n",
    "from ensemble_lstm import AutoLSTM\n",
    "from ensemble_cnn import AutoCNN\n",
    "from ensemble_rf import AutoRF"
   ]
  },
  {
   "cell_type": "code",
   "execution_count": 2,
   "metadata": {
    "executionInfo": {
     "elapsed": 2600,
     "status": "ok",
     "timestamp": 1639021846365,
     "user": {
      "displayName": "Chenxi Di",
      "photoUrl": "https://lh3.googleusercontent.com/a-/AOh14GjARPyCn2vP-ScAbtJUrf3iNztg65e5NzLk_BzCZw=s64",
      "userId": "05882660250059264487"
     },
     "user_tz": 480
    },
    "id": "8Q34Ed_6Aokp"
   },
   "outputs": [],
   "source": [
    "# import necessary package\n",
    "import pandas as pd\n",
    "import numpy as np\n",
    "import matplotlib.pyplot as plt\n",
    "import tensorflow as tf\n",
    "from datetime import datetime\n",
    "from scipy.signal import savgol_filter\n",
    "from sklearn.metrics import r2_score, mean_squared_error\n",
    "import copy\n",
    "import os\n",
    "import datetime"
   ]
  },
  {
   "cell_type": "code",
   "execution_count": 3,
   "metadata": {
    "executionInfo": {
     "elapsed": 252,
     "status": "ok",
     "timestamp": 1639021849721,
     "user": {
      "displayName": "Chenxi Di",
      "photoUrl": "https://lh3.googleusercontent.com/a-/AOh14GjARPyCn2vP-ScAbtJUrf3iNztg65e5NzLk_BzCZw=s64",
      "userId": "05882660250059264487"
     },
     "user_tz": 480
    },
    "id": "UJ16GcZsAokq"
   },
   "outputs": [],
   "source": [
    "# suppress warnings\n",
    "import warnings\n",
    "warnings.filterwarnings('ignore')"
   ]
  },
  {
   "cell_type": "markdown",
   "metadata": {
    "id": "4kt8xW9MFmnm"
   },
   "source": [
    "## 1. Download and Load Data\n",
    "1.   Load feature data from various resources from 1969/8/1 to the most updated and transform it to be predictors\n",
    "    \n",
    "    a. Download diffusion index data from https://www.philadelphiafed.org/surveys-and-data/mbos-historical-data into current folder and name it as 'bos_difx.xlsx' \n",
    "    \n",
    "    b. Download GS10, M2, GovernmentBudgetBalance data from https://fred.stlouisfed.org/series/GS10, https://tradingeconomics.com/united-states/money-supply-m2, https://fred.stlouisfed.org/series/M318501Q027NBEAinto current folder and name them as 'GS10.xlsx', 'M2.xlsx', 'GovernmentBudgetBalance.xlsx' respectively \n",
    "    \n",
    "    c. Delete all preceding description and rename date column to 'Date'\n",
    "    \n",
    "2.   Load S&P 500 PE Ratio and Price from 1969/8/1 to the most updated and transform it into S&P 500 index as y prediction \n",
    "\n",
    "    a. Download S&P 500 PE Ratio and Price from https://www.multpl.com/s-p-500-earnings into current folder \n",
    "    \n",
    "    b. Calculate Earnings per share by dividing Price by PE Ratio \n",
    "    \n",
    "    c. Set SP500-index = (Original EPS/First Values in Series)*100 and name the file as 'S&P500-EPS.xlsx'\n",
    "    \n",
    "3.   Merge above data together\n"
   ]
  },
  {
   "cell_type": "code",
   "execution_count": 4,
   "metadata": {},
   "outputs": [],
   "source": [
    "# load both feature data and target variable and merge them into one dataframe, then output it into an excel file\n",
    "def load_data(feature_files = ['bos_difx.xlsx', 'GS10.xlsx', 'M2.xlsx', 'GovernmentBudgetBalance.xlsx'], target = 'S&P500-EPS.xlsx'):\n",
    "    \n",
    "    ''' \n",
    "    default use diffusion index, GS10, M2, GovernmentBudgetBalance as predictors\n",
    "    use SP500 index as target variables\n",
    "    for quarterly data, in this case, GovernmentBudgetBalance, we repeat the data to generate monthly data points\n",
    "    to align with others \n",
    "    '''\n",
    "    \n",
    "    curr_path = os.getcwd()\n",
    "    df_list = []\n",
    "    # Load feature data from various resources from 1969/8/1 to the most recent date\n",
    "    for file in feature_files:\n",
    "        input_path = os.path.join(curr_path,file)\n",
    "        df = pd.read_excel(\n",
    "            input_path,\n",
    "        )\n",
    "        if file == 'GovernmentBudgetBalance.xlsx':\n",
    "            df['Date'] = pd.to_datetime(df['Date']).dt.to_period('M')       \n",
    "            df = df.set_index('Date').resample('M').bfill()\n",
    "            df = df.reset_index()\n",
    "            df['Date'] = df['Date'].dt.strftime('%Y-%m-01')\n",
    "        df['Date'] = pd.to_datetime(df['Date'])\n",
    "        #df['Date'] = df['Date'].dt.strftime('%Y-%m')\n",
    "        df_list.append(df)\n",
    "    \n",
    "    # Load target data from 'S&P500-EPS.xlsx'\n",
    "    input_path = os.path.join(curr_path, target)\n",
    "    eps_df = pd.read_excel(\n",
    "        input_path,\n",
    "        header=None,\n",
    "        skiprows = 1,\n",
    "    )\n",
    "    eps_df.columns = ['Date', 'SP500-PE', 'SP500-Price', 'SP500-EPS', 'SP500-Index']\n",
    "    eps_df = eps_df.iloc[::-1]\n",
    "    eps_df['Date'] = pd.to_datetime(eps_df['Date'])\n",
    "    t = eps_df.drop(['SP500-PE', 'SP500-Price', 'SP500-EPS'],1)\n",
    "    \n",
    "    # left join features on the target table and rename them\n",
    "    for df in df_list:\n",
    "        t = pd.merge(t, df, on = 'Date', how=\"left\")\n",
    "    # rename columns and drop unneccesary columns\n",
    "    t = t.rename(columns = {'SP500-Index': 'SP500-EPS-Index', 'GAC': 'ActivityIndex', 'NOC': 'NewOrders', 'SHC': 'Shipments', 'UOC': 'UnfilledOrders',                                                                                                                                                 \n",
    "                            'DTC': 'DeliveryTime', 'IVC': 'Inventories', 'PPC': 'PricesPaid', 'NEC': 'Employment', 'AWC': 'AverageWorkweek', 'M2SL': 'M2', 'M318501Q027NBEA': 'GovernmentBudgetBalance'}) \n",
    "    data = t.drop(['DTF', 'IVF', 'PPF', 'PRF', 'NEF', 'AWF', 'CEF', 'GAF', 'NOF', 'SHF', 'UOF'],1)\n",
    "    \n",
    "    data.to_excel('data_1208.xlsx', index = False)\n"
   ]
  },
  {
   "cell_type": "code",
   "execution_count": 5,
   "metadata": {},
   "outputs": [],
   "source": [
    "# load data\n",
    "load_data()"
   ]
  },
  {
   "cell_type": "markdown",
   "metadata": {
    "id": "GSrrwlVFEnFL"
   },
   "source": [
    "## 2. Call and train the models\n",
    "Call the models imported previously and train the models ad-hoc with the dataset saved in the previous section."
   ]
  },
  {
   "cell_type": "code",
   "execution_count": 26,
   "metadata": {
    "id": "Al4oa1o_Aokq"
   },
   "outputs": [],
   "source": [
    "tf.get_logger().setLevel('INFO')\n",
    "\n",
    "# set random seed for reproductivity\n",
    "seed_value= 2\n",
    "tf.random.set_seed(seed_value)\n",
    "\n",
    "# set lags and leads for the rolling windows\n",
    "lags = [24]*24\n",
    "lags_cnn = [12]*12+[24]*12\n",
    "\n",
    "leads = range(1,24+1)"
   ]
  },
  {
   "cell_type": "code",
   "execution_count": 27,
   "metadata": {
    "id": "8NeMSetUAokr"
   },
   "outputs": [],
   "source": [
    "# initiate and train the CNN model\n",
    "cnn_model = AutoCNN(data_name='data_1208.xlsx', target_name='SP500-EPS-Index')\n",
    "cnn_model.run(use_target=True, lags=lags_cnn, leads=leads)\n",
    "\n",
    "# initiate and train the Random Forest model\n",
    "rf_model = AutoRF(data_name='data_1208.xlsx', target_name='SP500-EPS-Index')\n",
    "rf_model.run(lags=lags, leads=leads)\n",
    "\n",
    "# initiate and train the LSTM model\n",
    "lstm_model = AutoLSTM(data_name='data_1208.xlsx', target_name='SP500-EPS-Index')\n",
    "lstm_model.run(use_target=True, lags=lags, leads=leads)\n"
   ]
  },
  {
   "cell_type": "markdown",
   "metadata": {
    "id": "glmHqsK7HFZh"
   },
   "source": [
    "## 3. Predict and ensemble the results"
   ]
  },
  {
   "cell_type": "code",
   "execution_count": 28,
   "metadata": {
    "id": "e1eHiYgoAoks"
   },
   "outputs": [],
   "source": [
    "# retrieve the prediction results from the three models\n",
    "# apply the ensemble rule to the predictions\n",
    "def get_single_forecasting(last_month):\n",
    "    cnn_future, cnn_actual = cnn_model.get_predict(last_month)\n",
    "    lstm_future, lstm_actual = lstm_model.get_predict(last_month)\n",
    "    rf_future, rf_actual = rf_model.get_predict(last_month)\n",
    "\n",
    "    combined_df_future = pd.DataFrame({'SP500-EPS_CNN_Pred':cnn_future, 'SP500-EPS_LSTM_Pred':lstm_future, 'Period_RF_Pred':rf_future})\n",
    "    result_future = [(combined_df_future.iloc[0]['SP500-EPS_LSTM_Pred'] + combined_df_future.iloc[0]['SP500-EPS_CNN_Pred'])/2]\n",
    "\n",
    "    for index in range(1, len(combined_df_future)):\n",
    "\n",
    "        if combined_df_future.iloc[index]['Period_RF_Pred'] == 0:\n",
    "            if (combined_df_future.iloc[index]['SP500-EPS_CNN_Pred'] > result_future[index-1]) and (combined_df_future.iloc[index]['SP500-EPS_LSTM_Pred'] > result_future[index-1]):\n",
    "                    result_future.append(result_future[-1])\n",
    "            elif (combined_df_future.iloc[index]['SP500-EPS_CNN_Pred'] < result_future[index-1]) and (combined_df_future.iloc[index]['SP500-EPS_LSTM_Pred'] < result_future[index-1]):\n",
    "                    tmp = (combined_df_future.iloc[index]['SP500-EPS_LSTM_Pred'] + combined_df_future.iloc[index]['SP500-EPS_CNN_Pred'])/2\n",
    "                    result_future.append(tmp)\n",
    "            else:\n",
    "                result_future.append(min(combined_df_future.iloc[index]['SP500-EPS_CNN_Pred'], combined_df_future.iloc[index]['SP500-EPS_LSTM_Pred']))\n",
    "        else:\n",
    "            if (combined_df_future.iloc[index]['SP500-EPS_CNN_Pred'] > result_future[index-1]) and (combined_df_future.iloc[index]['SP500-EPS_LSTM_Pred'] > result_future[index-1]):\n",
    "                    tmp = (combined_df_future.iloc[index]['SP500-EPS_LSTM_Pred'] + combined_df_future.iloc[index]['SP500-EPS_CNN_Pred'])/2\n",
    "                    result_future.append(tmp)\n",
    "            elif (combined_df_future.iloc[index]['SP500-EPS_CNN_Pred'] < result_future[index-1]) and (combined_df_future.iloc[index]['SP500-EPS_LSTM_Pred'] < result_future[index-1]):\n",
    "                    result_future.append(result_future[-1])\n",
    "            else:\n",
    "                result_future.append(max(combined_df_future.iloc[index]['SP500-EPS_CNN_Pred'], combined_df_future.iloc[index]['SP500-EPS_LSTM_Pred']))\n",
    "\n",
    "    plt_date_start = np.array(last_month,dtype=np.datetime64) + 1\n",
    "    plt_date_end = np.array(last_month,dtype=np.datetime64) + 25\n",
    "    d = np.arange (plt_date_start, plt_date_end, np.timedelta64 (1,'M'), dtype='datetime64')\n",
    "    d = d.astype('datetime64[D]') \n",
    "    \n",
    "    plt.style.use('fivethirtyeight')\n",
    "    plt.figure(figsize=(15, 6))\n",
    "    plt.plot(d, result_future, label='predication')\n",
    "\n",
    "    plt.legend() \n",
    "    plt.title('S&P 500 EPS Index 24 Months Forecasting')\n",
    "    plt.show()\n",
    "\n",
    "    return result_future"
   ]
  },
  {
   "cell_type": "markdown",
   "metadata": {
    "id": "nmb0wu5xH26S"
   },
   "source": [
    "## 4. Visualize the final output"
   ]
  },
  {
   "cell_type": "code",
   "execution_count": 30,
   "metadata": {
    "id": "ZCNzFaa2Aokt",
    "outputId": "d80999fb-407c-4056-dc40-7086372d8862"
   },
   "outputs": [
    {
     "data": {
      "image/png": "[encoded data removed]",
      "text/plain": [
       "<Figure size 1080x432 with 1 Axes>"
      ]
     },
     "metadata": {},
     "output_type": "display_data"
    }
   ],
   "source": [
    "# plot the final output with predicitons from CNN and LSTM\n",
    "result_future = get_single_forecasting('2020-10')"
   ]
  },
  {
   "cell_type": "code",
   "execution_count": null,
   "metadata": {
    "id": "_TjjeIGnAokv"
   },
   "outputs": [],
   "source": []
  }
 ],
 "metadata": {
  "colab": {
   "collapsed_sections": [],
   "name": "Overall Market Earnings Growth Future Forecasting.ipynb",
   "provenance": []
  },
  "interpreter": {
   "hash": "b05bafdcb69b15fad07dc15ecf7ea0bc7df1cb96cd55d91cbd77ca8cdf481e89"
  },
  "kernelspec": {
   "display_name": "eods-f20",
   "language": "python",
   "name": "eods-f20"
  },
  "language_info": {
   "codemirror_mode": {
    "name": "ipython",
    "version": 3
   },
   "file_extension": ".py",
   "mimetype": "text/x-python",
   "name": "python",
   "nbconvert_exporter": "python",
   "pygments_lexer": "ipython3",
   "version": "3.8.5"
  }
 },
 "nbformat": 4,
 "nbformat_minor": 1
}
