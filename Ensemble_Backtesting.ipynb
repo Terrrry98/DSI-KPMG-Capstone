{
 "cells": [
  {
   "cell_type": "code",
   "execution_count": 1,
   "metadata": {},
   "outputs": [],
   "source": [
    "from ensemble_lstm import AutoLSTM\n",
    "from ensemble_cnn import AutoCNN\n",
    "from ensemble_rf import AutoRF"
   ]
  },
  {
   "cell_type": "code",
   "execution_count": 60,
   "metadata": {},
   "outputs": [],
   "source": [
    "import pandas as pd\n",
    "import numpy as np\n",
    "import matplotlib.pyplot as plt\n",
    "import tensorflow as tf\n",
    "\n",
    "from datetime import datetime\n",
    "\n",
    "from scipy.signal import savgol_filter\n",
    "\n",
    "from sklearn.metrics import r2_score, mean_squared_error\n",
    "import copy"
   ]
  },
  {
   "cell_type": "code",
   "execution_count": 3,
   "metadata": {},
   "outputs": [],
   "source": [
    "import warnings\n",
    "warnings.filterwarnings('ignore')"
   ]
  },
  {
   "cell_type": "code",
   "execution_count": 4,
   "metadata": {},
   "outputs": [],
   "source": [
    "tf.get_logger().setLevel('INFO')\n",
    "\n",
    "seed_value= 42\n",
    "tf.random.set_seed(seed_value)\n",
    "\n",
    "lags = [24]*24\n",
    "leads = range(1,24+1)"
   ]
  },
  {
   "cell_type": "code",
   "execution_count": 5,
   "metadata": {},
   "outputs": [],
   "source": [
    "cnn_model = AutoCNN(data_name='data_1107.xlsx', target_name='SP500-EPS-Index', drop_cols=[])\n",
    "cnn_model.run(use_target=True, lags=lags, leads=leads)\n",
    "cnn_p, cnn_t = cnn_model.get_backtesting()\n",
    "\n",
    "rf_model = AutoRF(data_name='data_1107.xlsx', target_name='SP500-EPS-Index', drop_cols=[])\n",
    "rf_model.run(lags=lags, leads=leads)\n",
    "rf_p, rf_t = rf_model.get_backtesting()\n",
    "\n",
    "lstm_model = AutoLSTM(data_name='data_1107.xlsx', target_name='SP500-EPS-Index', drop_cols=[])\n",
    "lstm_model.run(use_target=True, lags=lags, leads=leads)\n",
    "lstm_p, lstm_t = lstm_model.get_backtesting()\n"
   ]
  },
  {
   "cell_type": "code",
   "execution_count": 58,
   "metadata": {},
   "outputs": [],
   "source": [
    "result_list = []\n",
    "true_list = []\n",
    "cnt_list = []\n",
    "\n",
    "for i in range(len(leads)):\n",
    "\n",
    "    combined_df = pd.DataFrame({'SP500-EPS_CNN_Pred':cnn_p[i], 'SP500-EPS_LSTM_Pred':lstm_p[i], 'Period_RF_Pred':rf_p[i]})\n",
    "\n",
    "    result = [(combined_df.iloc[0]['SP500-EPS_LSTM_Pred'] + combined_df.iloc[0]['SP500-EPS_CNN_Pred'])/2]\n",
    "    cnt = 0\n",
    "\n",
    "    for index in range(1, len(combined_df)):\n",
    "        if combined_df.iloc[index]['Period_RF_Pred'] != combined_df.iloc[index-1]['Period_RF_Pred']:\n",
    "            cnt += 1\n",
    "        if combined_df.iloc[index]['Period_RF_Pred'] == 0:\n",
    "            if (combined_df.iloc[index]['SP500-EPS_CNN_Pred'] > result[index-1]) and (combined_df.iloc[index]['SP500-EPS_LSTM_Pred'] > result[index-1]):\n",
    "                    result.append(result[-1])\n",
    "            elif (combined_df.iloc[index]['SP500-EPS_CNN_Pred'] < result[index-1]) and (combined_df.iloc[index]['SP500-EPS_LSTM_Pred'] < result[index-1]):\n",
    "                    tmp = (combined_df.iloc[index]['SP500-EPS_LSTM_Pred'] + combined_df.iloc[index]['SP500-EPS_CNN_Pred'])/2\n",
    "                    result.append(tmp)\n",
    "            else:\n",
    "                result.append(min(combined_df.iloc[index]['SP500-EPS_CNN_Pred'], combined_df.iloc[index]['SP500-EPS_LSTM_Pred']))\n",
    "        else:\n",
    "            if (combined_df.iloc[index]['SP500-EPS_CNN_Pred'] > result[index-1]) and (combined_df.iloc[index]['SP500-EPS_LSTM_Pred'] > result[index-1]):\n",
    "                    tmp = (combined_df.iloc[index]['SP500-EPS_LSTM_Pred'] + combined_df.iloc[index]['SP500-EPS_CNN_Pred'])/2\n",
    "                    result.append(tmp)\n",
    "            elif (combined_df.iloc[index]['SP500-EPS_CNN_Pred'] < result[index-1]) and (combined_df.iloc[index]['SP500-EPS_LSTM_Pred'] < result[index-1]):\n",
    "                    result.append(result[-1])\n",
    "            else:\n",
    "                result.append(max(combined_df.iloc[index]['SP500-EPS_CNN_Pred'], combined_df.iloc[index]['SP500-EPS_LSTM_Pred']))\n",
    "    \n",
    "    result_list.append(result)\n",
    "    true_list.append(cnn_t[i])\n",
    "    cnt_list.append(cnt)"
   ]
  },
  {
   "cell_type": "code",
   "execution_count": 29,
   "metadata": {},
   "outputs": [
    {
     "ename": "TypeError",
     "evalue": "unsupported operand type(s) for +: 'NoneType' and 'float'",
     "output_type": "error",
     "traceback": [
      "\u001b[1;31m---------------------------------------------------------------------------\u001b[0m",
      "\u001b[1;31mTypeError\u001b[0m                                 Traceback (most recent call last)",
      "\u001b[1;32m<ipython-input-29-7178111562c7>\u001b[0m in \u001b[0;36m<module>\u001b[1;34m\u001b[0m\n\u001b[0;32m      4\u001b[0m \u001b[1;32mfor\u001b[0m \u001b[0mi\u001b[0m \u001b[1;32min\u001b[0m \u001b[0mrange\u001b[0m\u001b[1;33m(\u001b[0m\u001b[0mlen\u001b[0m\u001b[1;33m(\u001b[0m\u001b[0mleads\u001b[0m\u001b[1;33m)\u001b[0m\u001b[1;33m)\u001b[0m\u001b[1;33m:\u001b[0m\u001b[1;33m\u001b[0m\u001b[1;33m\u001b[0m\u001b[0m\n\u001b[0;32m      5\u001b[0m \u001b[1;33m\u001b[0m\u001b[0m\n\u001b[1;32m----> 6\u001b[1;33m     \u001b[0mpoly_fun\u001b[0m \u001b[1;33m=\u001b[0m \u001b[0mnp\u001b[0m\u001b[1;33m.\u001b[0m\u001b[0mpolyfit\u001b[0m\u001b[1;33m(\u001b[0m\u001b[0mlist\u001b[0m\u001b[1;33m(\u001b[0m\u001b[0mrange\u001b[0m\u001b[1;33m(\u001b[0m\u001b[0mlen\u001b[0m\u001b[1;33m(\u001b[0m\u001b[0mresult_list\u001b[0m\u001b[1;33m[\u001b[0m\u001b[0mi\u001b[0m\u001b[1;33m]\u001b[0m\u001b[1;33m)\u001b[0m\u001b[1;33m)\u001b[0m\u001b[1;33m)\u001b[0m\u001b[1;33m,\u001b[0m \u001b[0mresult_list\u001b[0m\u001b[1;33m[\u001b[0m\u001b[0mi\u001b[0m\u001b[1;33m]\u001b[0m\u001b[1;33m,\u001b[0m \u001b[0mcnt_list\u001b[0m\u001b[1;33m[\u001b[0m\u001b[0mi\u001b[0m\u001b[1;33m]\u001b[0m\u001b[1;33m+\u001b[0m\u001b[1;36m20\u001b[0m\u001b[1;33m,\u001b[0m \u001b[0mrcond\u001b[0m\u001b[1;33m=\u001b[0m\u001b[1;32mNone\u001b[0m\u001b[1;33m,\u001b[0m \u001b[0mfull\u001b[0m\u001b[1;33m=\u001b[0m\u001b[1;32mFalse\u001b[0m\u001b[1;33m,\u001b[0m \u001b[0mw\u001b[0m\u001b[1;33m=\u001b[0m\u001b[1;32mNone\u001b[0m\u001b[1;33m,\u001b[0m \u001b[0mcov\u001b[0m\u001b[1;33m=\u001b[0m\u001b[1;32mFalse\u001b[0m\u001b[1;33m)\u001b[0m\u001b[1;33m\u001b[0m\u001b[1;33m\u001b[0m\u001b[0m\n\u001b[0m\u001b[0;32m      7\u001b[0m     \u001b[1;31m#p = np.poly1d(poly_fun)\u001b[0m\u001b[1;33m\u001b[0m\u001b[1;33m\u001b[0m\u001b[1;33m\u001b[0m\u001b[0m\n\u001b[0;32m      8\u001b[0m     \u001b[1;31m#smooth = p(list(range(len(result_list[i]))))\u001b[0m\u001b[1;33m\u001b[0m\u001b[1;33m\u001b[0m\u001b[1;33m\u001b[0m\u001b[0m\n",
      "\u001b[1;32m<__array_function__ internals>\u001b[0m in \u001b[0;36mpolyfit\u001b[1;34m(*args, **kwargs)\u001b[0m\n",
      "\u001b[1;32m~\\anaconda3\\lib\\site-packages\\numpy\\lib\\polynomial.py\u001b[0m in \u001b[0;36mpolyfit\u001b[1;34m(x, y, deg, rcond, full, w, cov)\u001b[0m\n\u001b[0;32m    589\u001b[0m     \u001b[0morder\u001b[0m \u001b[1;33m=\u001b[0m \u001b[0mint\u001b[0m\u001b[1;33m(\u001b[0m\u001b[0mdeg\u001b[0m\u001b[1;33m)\u001b[0m \u001b[1;33m+\u001b[0m \u001b[1;36m1\u001b[0m\u001b[1;33m\u001b[0m\u001b[1;33m\u001b[0m\u001b[0m\n\u001b[0;32m    590\u001b[0m     \u001b[0mx\u001b[0m \u001b[1;33m=\u001b[0m \u001b[0mNX\u001b[0m\u001b[1;33m.\u001b[0m\u001b[0masarray\u001b[0m\u001b[1;33m(\u001b[0m\u001b[0mx\u001b[0m\u001b[1;33m)\u001b[0m \u001b[1;33m+\u001b[0m \u001b[1;36m0.0\u001b[0m\u001b[1;33m\u001b[0m\u001b[1;33m\u001b[0m\u001b[0m\n\u001b[1;32m--> 591\u001b[1;33m     \u001b[0my\u001b[0m \u001b[1;33m=\u001b[0m \u001b[0mNX\u001b[0m\u001b[1;33m.\u001b[0m\u001b[0masarray\u001b[0m\u001b[1;33m(\u001b[0m\u001b[0my\u001b[0m\u001b[1;33m)\u001b[0m \u001b[1;33m+\u001b[0m \u001b[1;36m0.0\u001b[0m\u001b[1;33m\u001b[0m\u001b[1;33m\u001b[0m\u001b[0m\n\u001b[0m\u001b[0;32m    592\u001b[0m \u001b[1;33m\u001b[0m\u001b[0m\n\u001b[0;32m    593\u001b[0m     \u001b[1;31m# check arguments.\u001b[0m\u001b[1;33m\u001b[0m\u001b[1;33m\u001b[0m\u001b[1;33m\u001b[0m\u001b[0m\n",
      "\u001b[1;31mTypeError\u001b[0m: unsupported operand type(s) for +: 'NoneType' and 'float'"
     ]
    }
   ],
   "source": [
    "d = np.arange ('1971-07', '2020-10', np.timedelta64 (1,'M'), dtype='datetime64')\n",
    "d = d.astype('datetime64[D]') \n",
    "\n",
    "for i in range(len(leads)):\n",
    "\n",
    "    poly_fun = np.polyfit(list(range(len(result_list[i]))), result_list[i], cnt_list[i]+20, rcond=None, full=False, w=None, cov=False)\n",
    "    #p = np.poly1d(poly_fun)\n",
    "    #smooth = p(list(range(len(result_list[i]))))\n",
    "\n",
    "    #r_square_s = r2_score(smooth, true_list[i])\n",
    "    r_square_ori = r2_score(result_list[i], true_list[i])\n",
    "    \n",
    "    #rmse_s = np.sqrt(mean_squared_error(smooth, true_list[i]))\n",
    "    rmse_ori = np.sqrt(mean_squared_error(result_list[i], true_list[i]))\n",
    "\n",
    "    #s1 = \"r2 of smoothed: \"+ str(np.round(r_square_s, 2)) + \"  r2 of original: \"+ str(np.round(r_square_ori, 2))\n",
    "    #s2 = \"rmse of smoothed: \"+ str(np.round(rmse_s, 2)) + \"  rmse of original: \"+ str(np.round(rmse_ori, 2))\n",
    "\n",
    "    d_i = d[i:]\n",
    "\n",
    "    plt.figure(figsize=(15, 6))\n",
    "\n",
    "    plt.plot(d_i, result_list[i], label='lead ' + str(i+1), alpha=0.5)\n",
    "    #plt.plot(d_i, smooth, label='smooth')\n",
    "    plt.plot(d_i, true_list[i], label='actual', linestyle='dashed')\n",
    "    #plt.title(s1 + \" \" + s2)\n",
    "    plt.legend()\n",
    "    plt.show()"
   ]
  },
  {
   "cell_type": "code",
   "execution_count": null,
   "metadata": {},
   "outputs": [],
   "source": [
    "d = np.arange ('1971-07', '2020-10', np.timedelta64 (1,'M'), dtype='datetime64')\n",
    "d = d.astype('datetime64[D]') \n",
    "\n",
    "\n",
    "for i in range(len(leads)):\n",
    "\n",
    "    poly_fun = np.polyfit(list(range(len(result_list[i]))), result_list[i], cnt_list[i]+20, rcond=None, full=False, w=None, cov=False)\n",
    "    p = np.poly1d(poly_fun)\n",
    "    smooth = p(list(range(len(result_list[i]))))\n",
    "\n",
    "    r_square_s = r2_score(smooth, true_list[i])\n",
    "    r_square_ori = r2_score(result_list[i], true_list[i])\n",
    "    \n",
    "    rmse_s = np.sqrt(mean_squared_error(smooth, true_list[i]))\n",
    "    rmse_ori = np.sqrt(mean_squared_error(result_list[i], true_list[i]))\n",
    "\n",
    "    s1 = \"r2 of smoothed: \"+ str(np.round(r_square_s, 2)) + \"  r2 of original: \"+ str(np.round(r_square_ori, 2))\n",
    "    s2 = \"rmse of smoothed: \"+ str(np.round(rmse_s, 2)) + \"  rmse of original: \"+ str(np.round(rmse_ori, 2))\n",
    "\n",
    "    d_i = d[i:]\n",
    "\n",
    "    plt.figure(figsize=(15, 6))\n",
    "\n",
    "    plt.plot(d_i, result_list[i], label='lead ' + str(i+1), alpha=0.5)\n",
    "    plt.plot(d_i, smooth, label='smooth')\n",
    "    plt.plot(d_i, true_list[i], label='actual', linestyle='dashed')\n",
    "    plt.title(s1 + \" \" + s2)\n",
    "    plt.legend()\n",
    "    plt.show()"
   ]
  },
  {
   "cell_type": "code",
   "execution_count": 75,
   "metadata": {},
   "outputs": [],
   "source": [
    "full_result_list = copy.deepcopy(result_list)\n",
    "actual = true_list[0]\n",
    "\n",
    "# insert none to first 23 lead\n",
    "for i in range(len(leads)):\n",
    "    for j in range(i):\n",
    "        full_result_list[i].insert(0, np.nan)\n",
    "\n",
    "np_full_result_list = np.array(full_result_list)\n",
    "mean = np.nanmean(np_full_result_list, axis=0)"
   ]
  },
  {
   "cell_type": "code",
   "execution_count": 80,
   "metadata": {},
   "outputs": [
    {
     "data": {
      "image/png": "[encoded data removed]",
      "text/plain": [
       "<Figure size 1080x432 with 1 Axes>"
      ]
     },
     "metadata": {
      "needs_background": "light"
     },
     "output_type": "display_data"
    }
   ],
   "source": [
    "d = np.arange ('1971-07', '2020-10', np.timedelta64 (1,'M'), dtype='datetime64')\n",
    "d = d.astype('datetime64[D]') \n",
    "\n",
    "r_square_ori = r2_score(mean, actual)\n",
    "\n",
    "s = 'r2 = ' + str(np.round(r_square_ori,2))\n",
    "\n",
    "plt.figure(figsize=(15, 6))\n",
    "plt.plot(d, mean, label='mean', alpha=0.5)\n",
    "plt.plot(d, actual, label='actual', linestyle='dashed')\n",
    "plt.title(s)\n",
    "plt.legend()\n",
    "plt.show()"
   ]
  },
  {
   "cell_type": "code",
   "execution_count": null,
   "metadata": {},
   "outputs": [],
   "source": []
  }
 ],
 "metadata": {
  "interpreter": {
   "hash": "b05bafdcb69b15fad07dc15ecf7ea0bc7df1cb96cd55d91cbd77ca8cdf481e89"
  },
  "kernelspec": {
   "display_name": "Python 3.8.5 64-bit ('base': conda)",
   "language": "python",
   "name": "python3"
  },
  "language_info": {
   "codemirror_mode": {
    "name": "ipython",
    "version": 3
   },
   "file_extension": ".py",
   "mimetype": "text/x-python",
   "name": "python",
   "nbconvert_exporter": "python",
   "pygments_lexer": "ipython3",
   "version": "3.8.5"
  },
  "orig_nbformat": 4
 },
 "nbformat": 4,
 "nbformat_minor": 2
}
