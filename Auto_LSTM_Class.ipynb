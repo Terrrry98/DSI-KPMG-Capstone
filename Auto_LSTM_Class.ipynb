{
 "cells": [
  {
   "cell_type": "code",
   "execution_count": 2,
   "metadata": {},
   "outputs": [],
   "source": [
    "import pandas as pd\n",
    "from pandas import concat\n",
    "import os\n",
    "import numpy as np\n",
    "import matplotlib.pyplot as plt\n",
    "from sklearn.preprocessing import StandardScaler, MinMaxScaler\n",
    "from sklearn.metrics import mean_squared_error\n",
    "from keras.models import Sequential\n",
    "from keras.layers import Dense, Dropout, Flatten, LSTM\n",
    "from keras.layers.convolutional import Conv2D, MaxPooling2D, AveragePooling2D\n",
    "from keras import backend as K\n",
    "\n"
   ]
  },
  {
   "cell_type": "code",
   "execution_count": 142,
   "metadata": {},
   "outputs": [],
   "source": [
    "class AutoLSTM():\n",
    "    \n",
    "    '''\n",
    "    LSTM model\n",
    "\n",
    "    Attributes\n",
    "    ----------\n",
    "    self.data_backup: dataframe, a backup copy of the input dataset\n",
    "    self.data: dataframe, the main dataset worked on\n",
    "    self.n: int, length (unit in months) of target to predict\n",
    "    self.df_result: dataframe, stores the predicted target and the true target\n",
    "    self.lag: int, number of past months used to predict the target\n",
    "    self.rmse: rounded RMSE of the prediction\n",
    "    self.target: str, name of target variable\n",
    "    self.model: record a CNN trained model\n",
    "    self.train_result: record model fit result loss\n",
    "    \n",
    "    Params\n",
    "    ----------\n",
    "    data_name: str, name of the dataset. Notice the input dataset must contain a column named 'Date'\n",
    "    target_name: str, name of target variable\n",
    "    drop_cols: list of strings, names of columns to drop\n",
    "    '''\n",
    "\n",
    "    def __init__(self, data_name, target_name, drop_cols=['Date']):   \n",
    "        #import data\n",
    "        curr_path = os.getcwd()\n",
    "        input_path = os.path.join(curr_path, data_name)\n",
    "        data = pd.read_excel(input_path, index_col=0)\n",
    "        \n",
    "        # set date as index\n",
    "        data.set_index(data.columns[0])\n",
    "\n",
    "        #drop columns and na\n",
    "        data.drop(drop_cols, axis=1, inplace=True)\n",
    "        data.dropna(inplace = True)\n",
    "\n",
    "\n",
    "        # move target column to first column\n",
    "        target_column = data.pop(target_name)\n",
    "        data.insert(0, target_name, target_column)\n",
    "\n",
    "        #set attributes\n",
    "        self.data = data\n",
    "        self.n = 0\n",
    "        self.df_result = 0\n",
    "        self.lags = 0\n",
    "        self.rmse = 0\n",
    "        self.target = target_name\n",
    "        self.n_features = len(data.columns) - 1\n",
    "        self.model = 0\n",
    "        self.train_result = 0\n",
    "\n",
    "    # helper funtion\n",
    "    def print_date_range(self):\n",
    "        #Print Range of Date column\n",
    "        print('Date Range: ', self.data_backup['Date'].iloc[0], '--', self.data_backup['Date'].iloc[-1])\n",
    "    \n",
    "\n",
    "    # convert series to supervised learning\n",
    "    # input:\n",
    "    # -- data: a dataframe with first column as target variable, all the following are predictors\n",
    "    # -- n_in: lags in time series \n",
    "    # -- n_out: step in time series\n",
    "    def series_to_supervised(self, data, n_in=1, n_out=1, dropnan=True):\n",
    "        n_vars = 1 if type(data) is list else data.shape[1]\n",
    "        df = pd.DataFrame(data)\n",
    "        cols, names = list(), list()\n",
    "\n",
    "        # input sequence (t-n, ... t-1)\n",
    "        for i in range(n_in, 0, -1):\n",
    "            cols.append(df.shift(i))\n",
    "            names += [('var%d(t-%d)' % (j+1, i)) for j in range(n_vars)]\n",
    "\n",
    "        # forecast sequence (t, t+1, ... t+n)\n",
    "        for i in range(0, n_out):\n",
    "            cols.append(df.shift(-i))\n",
    "            if i == 0:\n",
    "                names += [('var%d(t)' % (j+1)) for j in range(n_vars)]\n",
    "            else:\n",
    "                names += [('var%d(t+%d)' % (j+1, i)) for j in range(n_vars)]\n",
    "\n",
    "        # put it all together\n",
    "        agg = concat(cols, axis=1)\n",
    "        agg.columns = names\n",
    "\n",
    "        # drop rows with NaN values\n",
    "        if dropnan:\n",
    "            agg.dropna(inplace=True)\n",
    "        return agg\n",
    "    \n",
    "\n",
    "    def run(self, pred_begin_date, n, lags=3, leading=1): \n",
    "        ''' Run LSTM model and record results\n",
    "        \n",
    "        Params\n",
    "        ----------\n",
    "        pred_begin_date: date, the begin date of prediction\n",
    "        n: int, length of prediction (unit in months)      \n",
    "        lag: int, num of past months to consider\n",
    "        if_target: boolean, whether to include target as a predictor\n",
    "        '''\n",
    "        self.lags = lags\n",
    "        self.n = n\n",
    "\n",
    "        # normalize features\n",
    "\n",
    "        scaler = MinMaxScaler(feature_range=(0, 1))\n",
    "        scaled = scaler.fit_transform(self.data)\n",
    "\n",
    "        # restructure data using sliding window\n",
    "        reframed = self.series_to_supervised(scaled, self.lags, leading)\n",
    " \n",
    "        # drop columns we don't want to predict\n",
    "        reframed.drop(reframed.columns[range(reframed.shape[1] - self.n_features, reframed.shape[1])], axis=1, inplace=True)   \n",
    "        values = reframed.values\n",
    "        \n",
    "        # row index of where we want predict \n",
    "        test_date_begin = self.data.index.get_loc(pred_begin_date) - self.lags\n",
    "\n",
    "        # train test split\n",
    "        train = values[:test_date_begin, :]\n",
    "        test = values[test_date_begin: test_date_begin+self.n, :]\n",
    "\n",
    "        # split into input and outputs\n",
    "        train_X, train_y = train[:, :-1], train[:, -1]\n",
    "        test_X, test_y = test[:, :-1], test[:, -1]\n",
    "\n",
    "        # reshape input to be 3D [samples, timesteps, features]\n",
    "        train_X = train_X.reshape((train_X.shape[0], 1, train_X.shape[1]))\n",
    "        test_X = test_X.reshape((test_X.shape[0], 1, test_X.shape[1]))\n",
    "\n",
    "        # create LSTM network\n",
    "        model = Sequential()\n",
    "        model.add(LSTM(50, input_shape=(train_X.shape[1], train_X.shape[2])))\n",
    "        model.add(Dropout(0.1))\n",
    "        model.add(Dense(1))\n",
    "        \n",
    "        # helper function\n",
    "        def root_mean_squared_error(y_true, y_pred):\n",
    "            return K.sqrt(K.mean(K.square(y_pred - y_true), axis=-1))\n",
    "        model.compile(optimizer='adam', loss=root_mean_squared_error)\n",
    "        \n",
    "        # model fit\n",
    "        result = model.fit(train_X, train_y, verbose=0, validation_data=(test_X, test_y), epochs=50, batch_size=72)\n",
    "        self.model = model\n",
    "        self.train_result = result\n",
    "        \n",
    "        # get prediction on testing data\n",
    "        pred_y = self.model.predict(test_X)\n",
    "\n",
    "        # reverse standardization\n",
    "        # test_X = test_X.reshape((test_X.shape[0], 1, test_X.shape[1]))\n",
    "        # invert scaling for forecast\n",
    "        test_X = test_X.reshape((test_X.shape[0], test_X.shape[2]))\n",
    "        pred_y = pred_y.reshape((len(pred_y), 1))\n",
    "\n",
    "        inv_yhat = np.concatenate((pred_y, test_X[:, 1:self.n_features+1]), axis=1)\n",
    "        inv_yhat = scaler.inverse_transform(inv_yhat)\n",
    "        inv_yhat = inv_yhat[:,0]\n",
    "        # invert scaling for actual\n",
    "\n",
    "        test_y = test_y.reshape((len(test_y), 1))\n",
    "        inv_y = np.concatenate((test_y, test_X[:, 1:self.n_features+1]), axis=1)\n",
    "        inv_y = scaler.inverse_transform(inv_y)\n",
    "        inv_y = inv_y[:,0]\n",
    "        \n",
    "        # calculate RMSE\n",
    "        rmse = np.sqrt(mean_squared_error(inv_y, inv_yhat))\n",
    "        print('Test RMSE: %.3f' % rmse)\n",
    "\n",
    "        # store prediction results\n",
    "        df_result = pd.DataFrame(inv_yhat, columns=[self.target + '_pred'])\n",
    "        df_result[self.target] = inv_y\n",
    "\n",
    "        #modify date range\n",
    "        df_result['Date'] = self.data.index[test_date_begin + self.lags + leading - 1:  test_date_begin+ self.lags+ self.n + leading - 1]\n",
    "        df_result.set_index(['Date'],inplace=True)\n",
    "\n",
    "        self.df_result = df_result\n",
    "        self.rmse = round(rmse,2)"
   ]
  },
  {
   "cell_type": "code",
   "execution_count": 143,
   "metadata": {},
   "outputs": [
    {
     "name": "stdout",
     "output_type": "stream",
     "text": [
      "Test RMSE: 97.493\n"
     ]
    },
    {
     "data": {
      "text/plain": [
       "Text(0.5, 1.0, 'LSTM lag=15')"
      ]
     },
     "execution_count": 143,
     "metadata": {},
     "output_type": "execute_result"
    },
    {
     "data": {
      "image/png": "[encoded data removed]",
      "text/plain": [
       "<Figure size 432x288 with 1 Axes>"
      ]
     },
     "metadata": {
      "needs_background": "light"
     },
     "output_type": "display_data"
    }
   ],
   "source": [
    "#lstm_model = AutoLSTM(data_name='merged_data_1020.xlsx', target_name='SP500-EPS-Index', drop_cols=['SP500-Price','gdp','ManufacturingNewOrders','GS10','ConstructionSpending', 'CPIFABSL'])\n",
    "lstm_model = AutoLSTM(data_name='test.xlsx', target_name='SP500-EPS-Index', drop_cols=['GS10','M2','GovernmentBudgetBalance','CPIFABSL','EffectiveRate'\n",
    "])\n",
    "d = '2008-06-01'\n",
    "n = 24\n",
    "l = 1\n",
    "lstm_model.run(pred_begin_date=d, n=n, lags=l, leading=1)\n",
    "lstm_model.df_result.plot()\n",
    "plt.title('LSTM lag=15')"
   ]
  },
  {
   "cell_type": "code",
   "execution_count": 140,
   "metadata": {},
   "outputs": [
    {
     "name": "stdout",
     "output_type": "stream",
     "text": [
      "Test RMSE: 298.460\n"
     ]
    },
    {
     "data": {
      "text/plain": [
       "Text(0.5, 1.0, 'LSTM lag=15')"
      ]
     },
     "execution_count": 140,
     "metadata": {},
     "output_type": "execute_result"
    },
    {
     "data": {
      "image/png": "[encoded data removed]",
      "text/plain": [
       "<Figure size 432x288 with 1 Axes>"
      ]
     },
     "metadata": {
      "needs_background": "light"
     },
     "output_type": "display_data"
    }
   ],
   "source": [
    "#lstm_model = AutoLSTM(data_name='merged_data_1020.xlsx', target_name='SP500-EPS-Index', drop_cols=['SP500-Price','gdp','ManufacturingNewOrders','GS10','ConstructionSpending', 'CPIFABSL'])\n",
    "lstm_model = AutoLSTM(data_name='test.xlsx', target_name='SP500-EPS-Index', drop_cols=[])\n",
    "d = '2007-09-01'\n",
    "n = 24\n",
    "l = 1\n",
    "lstm_model.run(pred_begin_date=d, n=n, lags=l, leading=10)\n",
    "lstm_model.df_result.plot()\n",
    "plt.title('LSTM lag=15')"
   ]
  },
  {
   "cell_type": "code",
   "execution_count": 117,
   "metadata": {},
   "outputs": [
    {
     "data": {
      "text/plain": [
       "Index(['SP500-EPS-Index', 'ActivityIndex', 'NewOrders', 'Shipments',\n",
       "       'UnfilledOrders', 'DeliveryTime', 'Inventories', 'PricesPaid',\n",
       "       'PricesReceived', 'Employment', 'AverageWorkweek', 'GS10', 'M2',\n",
       "       'GovernmentBudgetBalance', 'CPIFABSL', 'EffectiveRate'],\n",
       "      dtype='object')"
      ]
     },
     "execution_count": 117,
     "metadata": {},
     "output_type": "execute_result"
    }
   ],
   "source": [
    "lstm_model.data.columns"
   ]
  },
  {
   "cell_type": "code",
   "execution_count": null,
   "metadata": {},
   "outputs": [],
   "source": []
  }
 ],
 "metadata": {
  "interpreter": {
   "hash": "b05bafdcb69b15fad07dc15ecf7ea0bc7df1cb96cd55d91cbd77ca8cdf481e89"
  },
  "kernelspec": {
   "display_name": "Python 3.8.5 64-bit ('base': conda)",
   "name": "python3"
  },
  "language_info": {
   "codemirror_mode": {
    "name": "ipython",
    "version": 3
   },
   "file_extension": ".py",
   "mimetype": "text/x-python",
   "name": "python",
   "nbconvert_exporter": "python",
   "pygments_lexer": "ipython3",
   "version": "3.8.5"
  },
  "orig_nbformat": 4
 },
 "nbformat": 4,
 "nbformat_minor": 2
}
