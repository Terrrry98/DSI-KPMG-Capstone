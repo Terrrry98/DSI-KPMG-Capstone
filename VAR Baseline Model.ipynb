{
 "cells": [
  {
   "cell_type": "code",
   "execution_count": 1,
   "metadata": {},
   "outputs": [],
   "source": [
    "import pandas as pd\n",
    "from statsmodels.tsa.stattools import adfuller\n",
    "import os\n",
    "from statsmodels.tsa.api import VAR\n",
    "from statsmodels.stats.stattools import durbin_watson\n",
    "from sklearn.metrics import mean_squared_error\n",
    "from statsmodels.tsa.stattools import grangercausalitytests\n",
    "import numpy as np"
   ]
  },
  {
   "cell_type": "code",
   "execution_count": 2,
   "metadata": {},
   "outputs": [],
   "source": [
    "curr_path = os.getcwd()\n",
    "input_path = os.path.join(curr_path,'cleaned_data.xlsx')\n",
    "\n",
    "data = pd.read_excel(\n",
    "    input_path,\n",
    "    engine='openpyxl',\n",
    ")\n",
    "\n",
    "data.dropna(inplace=True)\n",
    "data.drop(['Date','IsExpanding'], axis=1, inplace=True)\n",
    "n = 12\n",
    "df_train, df_test = data[0:-n], data[-n:]"
   ]
  },
  {
   "cell_type": "code",
   "execution_count": 3,
   "metadata": {},
   "outputs": [
    {
     "name": "stdout",
     "output_type": "stream",
     "text": [
      "SP500-EPS-Index ADF Test\n",
      "not stationary\n",
      "\n",
      "SP500-Price ADF Test\n",
      "not stationary\n",
      "\n",
      "UnemploymentRate ADF Test\n",
      "stationary\n",
      "\n",
      "IndustrialProduction ADF Test\n",
      "not stationary\n",
      "\n",
      "HousingSales ADF Test\n",
      "not stationary\n",
      "\n",
      "USDollarIndex ADF Test\n",
      "not stationary\n",
      "\n",
      "GS10 ADF Test\n",
      "not stationary\n",
      "\n",
      "VolumeOfTotalRetailTradeSales ADF Test\n",
      "stationary\n",
      "\n"
     ]
    }
   ],
   "source": [
    "# Apply ADF test\n",
    "for col in df_train.columns:\n",
    "    print(col + ' ADF Test')\n",
    "    result = adfuller(df_train[col].values)\n",
    "    if result[1] < 0.05:\n",
    "        print('stationary\\n')\n",
    "    else:\n",
    "        print('not stationary\\n')"
   ]
  },
  {
   "cell_type": "code",
   "execution_count": 4,
   "metadata": {},
   "outputs": [
    {
     "name": "stdout",
     "output_type": "stream",
     "text": [
      "SP500-EPS-Index ADF Test\n",
      "stationary\n",
      "\n",
      "SP500-Price ADF Test\n",
      "stationary\n",
      "\n",
      "UnemploymentRate ADF Test\n",
      "stationary\n",
      "\n",
      "IndustrialProduction ADF Test\n",
      "stationary\n",
      "\n",
      "HousingSales ADF Test\n",
      "stationary\n",
      "\n",
      "USDollarIndex ADF Test\n",
      "stationary\n",
      "\n",
      "GS10 ADF Test\n",
      "stationary\n",
      "\n",
      "VolumeOfTotalRetailTradeSales ADF Test\n",
      "stationary\n",
      "\n"
     ]
    }
   ],
   "source": [
    "# apply difference method to df_train\n",
    "df_train_trans = df_train.diff().dropna()\n",
    "\n",
    "for col in df_train_trans.columns:\n",
    "    print(col + ' ADF Test')\n",
    "    result = adfuller(df_train_trans[col].values)\n",
    "    if result[1] < 0.05:\n",
    "        print('stationary\\n')\n",
    "    else:\n",
    "        print('not stationary\\n')"
   ]
  },
  {
   "cell_type": "code",
   "execution_count": 5,
   "metadata": {},
   "outputs": [
    {
     "name": "stdout",
     "output_type": "stream",
     "text": [
      "Lag Order = 1\n",
      "AIC :  22.920971740022683 \n",
      "\n",
      "Lag Order = 2\n",
      "AIC :  22.765612046278246 \n",
      "\n",
      "Lag Order = 3\n",
      "AIC :  22.38875141264802 \n",
      "\n"
     ]
    },
    {
     "name": "stderr",
     "output_type": "stream",
     "text": [
      "C:\\Users\\yuxin\\anaconda3\\lib\\site-packages\\statsmodels\\tsa\\base\\tsa_model.py:213: ValueWarning: An unsupported index was provided and will be ignored when e.g. forecasting.\n",
      "  warnings.warn('An unsupported index was provided and will be'\n"
     ]
    },
    {
     "name": "stdout",
     "output_type": "stream",
     "text": [
      "Lag Order = 4\n",
      "AIC :  22.38504327712637 \n",
      "\n",
      "Lag Order = 5\n",
      "AIC :  22.38993647696972 \n",
      "\n",
      "Lag Order = 6\n",
      "AIC :  22.344649118733482 \n",
      "\n",
      "Lag Order = 7\n",
      "AIC :  22.441615379196218 \n",
      "\n",
      "Lag Order = 8\n",
      "AIC :  22.515774709370778 \n",
      "\n",
      "Lag Order = 9\n",
      "AIC :  22.49442929796127 \n",
      "\n",
      "Lag Order = 10\n",
      "AIC :  22.53272900971058 \n",
      "\n",
      "Lag Order = 11\n",
      "AIC :  22.515716009985162 \n",
      "\n",
      "Lag Order = 12\n",
      "AIC :  22.463422959964333 \n",
      "\n",
      "Lag Order = 13\n",
      "AIC :  22.454131119556262 \n",
      "\n",
      "Lag Order = 14\n",
      "AIC :  22.48327246733426 \n",
      "\n",
      "Lag Order = 15\n",
      "AIC :  22.526467795322734 \n",
      "\n"
     ]
    }
   ],
   "source": [
    "# Use AIC to find Lag Order\n",
    "model = VAR(df_train_trans)\n",
    "for i in range(1, 16):\n",
    "    result = model.fit(i)\n",
    "    print('Lag Order =', i)\n",
    "    print('AIC : ', result.aic, '\\n')"
   ]
  },
  {
   "cell_type": "code",
   "execution_count": 6,
   "metadata": {},
   "outputs": [
    {
     "data": {
      "text/html": [
       "<div>\n",
       "<style scoped>\n",
       "    .dataframe tbody tr th:only-of-type {\n",
       "        vertical-align: middle;\n",
       "    }\n",
       "\n",
       "    .dataframe tbody tr th {\n",
       "        vertical-align: top;\n",
       "    }\n",
       "\n",
       "    .dataframe thead th {\n",
       "        text-align: right;\n",
       "    }\n",
       "</style>\n",
       "<table border=\"1\" class=\"dataframe\">\n",
       "  <thead>\n",
       "    <tr style=\"text-align: right;\">\n",
       "      <th></th>\n",
       "      <th>SP500-EPS-Index_x</th>\n",
       "      <th>SP500-Price_x</th>\n",
       "      <th>UnemploymentRate_x</th>\n",
       "      <th>IndustrialProduction_x</th>\n",
       "      <th>HousingSales_x</th>\n",
       "      <th>USDollarIndex_x</th>\n",
       "      <th>GS10_x</th>\n",
       "      <th>VolumeOfTotalRetailTradeSales_x</th>\n",
       "    </tr>\n",
       "  </thead>\n",
       "  <tbody>\n",
       "    <tr>\n",
       "      <th>SP500-EPS-Index_y</th>\n",
       "      <td>1.0000</td>\n",
       "      <td>0.0078</td>\n",
       "      <td>0.2558</td>\n",
       "      <td>0.0000</td>\n",
       "      <td>0.0542</td>\n",
       "      <td>0.0069</td>\n",
       "      <td>0.2174</td>\n",
       "      <td>0.0010</td>\n",
       "    </tr>\n",
       "    <tr>\n",
       "      <th>SP500-Price_y</th>\n",
       "      <td>0.0000</td>\n",
       "      <td>1.0000</td>\n",
       "      <td>0.0045</td>\n",
       "      <td>0.0000</td>\n",
       "      <td>0.0000</td>\n",
       "      <td>0.5604</td>\n",
       "      <td>0.2341</td>\n",
       "      <td>0.0005</td>\n",
       "    </tr>\n",
       "    <tr>\n",
       "      <th>UnemploymentRate_y</th>\n",
       "      <td>0.0000</td>\n",
       "      <td>0.0019</td>\n",
       "      <td>1.0000</td>\n",
       "      <td>0.0000</td>\n",
       "      <td>0.1151</td>\n",
       "      <td>0.0264</td>\n",
       "      <td>0.0037</td>\n",
       "      <td>0.0000</td>\n",
       "    </tr>\n",
       "    <tr>\n",
       "      <th>IndustrialProduction_y</th>\n",
       "      <td>0.0000</td>\n",
       "      <td>0.0000</td>\n",
       "      <td>0.0000</td>\n",
       "      <td>1.0000</td>\n",
       "      <td>0.0287</td>\n",
       "      <td>0.0735</td>\n",
       "      <td>0.0000</td>\n",
       "      <td>0.0000</td>\n",
       "    </tr>\n",
       "    <tr>\n",
       "      <th>HousingSales_y</th>\n",
       "      <td>0.0002</td>\n",
       "      <td>0.0001</td>\n",
       "      <td>0.0352</td>\n",
       "      <td>0.0051</td>\n",
       "      <td>1.0000</td>\n",
       "      <td>0.4086</td>\n",
       "      <td>0.2766</td>\n",
       "      <td>0.3933</td>\n",
       "    </tr>\n",
       "    <tr>\n",
       "      <th>USDollarIndex_y</th>\n",
       "      <td>0.2256</td>\n",
       "      <td>0.1265</td>\n",
       "      <td>0.0136</td>\n",
       "      <td>0.1855</td>\n",
       "      <td>0.0138</td>\n",
       "      <td>1.0000</td>\n",
       "      <td>0.1285</td>\n",
       "      <td>0.3082</td>\n",
       "    </tr>\n",
       "    <tr>\n",
       "      <th>GS10_y</th>\n",
       "      <td>0.0191</td>\n",
       "      <td>0.0120</td>\n",
       "      <td>0.0707</td>\n",
       "      <td>0.3062</td>\n",
       "      <td>0.2156</td>\n",
       "      <td>0.0085</td>\n",
       "      <td>1.0000</td>\n",
       "      <td>0.0022</td>\n",
       "    </tr>\n",
       "    <tr>\n",
       "      <th>VolumeOfTotalRetailTradeSales_y</th>\n",
       "      <td>0.3062</td>\n",
       "      <td>0.0124</td>\n",
       "      <td>0.0001</td>\n",
       "      <td>0.0000</td>\n",
       "      <td>0.1998</td>\n",
       "      <td>0.1508</td>\n",
       "      <td>0.0110</td>\n",
       "      <td>1.0000</td>\n",
       "    </tr>\n",
       "  </tbody>\n",
       "</table>\n",
       "</div>"
      ],
      "text/plain": [
       "                                 SP500-EPS-Index_x  SP500-Price_x  \\\n",
       "SP500-EPS-Index_y                           1.0000         0.0078   \n",
       "SP500-Price_y                               0.0000         1.0000   \n",
       "UnemploymentRate_y                          0.0000         0.0019   \n",
       "IndustrialProduction_y                      0.0000         0.0000   \n",
       "HousingSales_y                              0.0002         0.0001   \n",
       "USDollarIndex_y                             0.2256         0.1265   \n",
       "GS10_y                                      0.0191         0.0120   \n",
       "VolumeOfTotalRetailTradeSales_y             0.3062         0.0124   \n",
       "\n",
       "                                 UnemploymentRate_x  IndustrialProduction_x  \\\n",
       "SP500-EPS-Index_y                            0.2558                  0.0000   \n",
       "SP500-Price_y                                0.0045                  0.0000   \n",
       "UnemploymentRate_y                           1.0000                  0.0000   \n",
       "IndustrialProduction_y                       0.0000                  1.0000   \n",
       "HousingSales_y                               0.0352                  0.0051   \n",
       "USDollarIndex_y                              0.0136                  0.1855   \n",
       "GS10_y                                       0.0707                  0.3062   \n",
       "VolumeOfTotalRetailTradeSales_y              0.0001                  0.0000   \n",
       "\n",
       "                                 HousingSales_x  USDollarIndex_x  GS10_x  \\\n",
       "SP500-EPS-Index_y                        0.0542           0.0069  0.2174   \n",
       "SP500-Price_y                            0.0000           0.5604  0.2341   \n",
       "UnemploymentRate_y                       0.1151           0.0264  0.0037   \n",
       "IndustrialProduction_y                   0.0287           0.0735  0.0000   \n",
       "HousingSales_y                           1.0000           0.4086  0.2766   \n",
       "USDollarIndex_y                          0.0138           1.0000  0.1285   \n",
       "GS10_y                                   0.2156           0.0085  1.0000   \n",
       "VolumeOfTotalRetailTradeSales_y          0.1998           0.1508  0.0110   \n",
       "\n",
       "                                 VolumeOfTotalRetailTradeSales_x  \n",
       "SP500-EPS-Index_y                                         0.0010  \n",
       "SP500-Price_y                                             0.0005  \n",
       "UnemploymentRate_y                                        0.0000  \n",
       "IndustrialProduction_y                                    0.0000  \n",
       "HousingSales_y                                            0.3933  \n",
       "USDollarIndex_y                                           0.3082  \n",
       "GS10_y                                                    0.0022  \n",
       "VolumeOfTotalRetailTradeSales_y                           1.0000  "
      ]
     },
     "execution_count": 6,
     "metadata": {},
     "output_type": "execute_result"
    }
   ],
   "source": [
    "# Model Fitting and Granger Causality Test\n",
    "results = model.fit(maxlags=6, ic='aic')\n",
    "\n",
    "# Function borrowed from \n",
    "# https://stackoverflow.com/questions/58005681/is-it-possible-to-run-a-vector-autoregression-analysis-on-a-large-gdp-data-with\n",
    "def grangers_causation_matrix(data, variables, maxlag, test='ssr_chi2test', verbose=False):    \n",
    "   \n",
    "    df = pd.DataFrame(np.zeros((len(variables), len(variables))), columns=variables, index=variables)\n",
    "    for c in df.columns:\n",
    "        for r in df.index:\n",
    "            test_result = grangercausalitytests(data[[r, c]], maxlag=maxlag, verbose=False)\n",
    "            p_values = [round(test_result[i+1][0][test][1],4) for i in range(maxlag)]\n",
    "            if verbose: print(f'Y = {r}, X = {c}, P Values = {p_values}')\n",
    "            min_p_value = np.min(p_values)\n",
    "            df.loc[r, c] = min_p_value\n",
    "    df.columns = [var + '_x' for var in variables]\n",
    "    df.index = [var + '_y' for var in variables]\n",
    "    return df\n",
    "\n",
    "grangers_causation_matrix(df_train_trans, variables = df_train_trans.columns, maxlag = 6)"
   ]
  },
  {
   "cell_type": "code",
   "execution_count": 7,
   "metadata": {},
   "outputs": [
    {
     "name": "stderr",
     "output_type": "stream",
     "text": [
      "C:\\Users\\yuxin\\anaconda3\\lib\\site-packages\\statsmodels\\tsa\\base\\tsa_model.py:213: ValueWarning: An unsupported index was provided and will be ignored when e.g. forecasting.\n",
      "  warnings.warn('An unsupported index was provided and will be'\n"
     ]
    },
    {
     "name": "stdout",
     "output_type": "stream",
     "text": [
      "Lag Order = 1\n",
      "AIC :  29.176473446385888 \n",
      "\n",
      "Lag Order = 2\n",
      "AIC :  29.065933677655124 \n",
      "\n",
      "Lag Order = 3\n",
      "AIC :  28.68885383595255 \n",
      "\n",
      "Lag Order = 4\n",
      "AIC :  28.6368298756119 \n",
      "\n",
      "Lag Order = 5\n",
      "AIC :  28.641139327827403 \n",
      "\n",
      "Lag Order = 6\n",
      "AIC :  28.577899653232507 \n",
      "\n",
      "Lag Order = 7\n",
      "AIC :  28.625296434128867 \n",
      "\n",
      "Lag Order = 8\n",
      "AIC :  28.65373488038812 \n",
      "\n",
      "Lag Order = 9\n",
      "AIC :  28.655376160159577 \n",
      "\n",
      "Lag Order = 10\n",
      "AIC :  28.633016229703802 \n",
      "\n",
      "Lag Order = 11\n",
      "AIC :  28.594185866215547 \n",
      "\n",
      "Lag Order = 12\n",
      "AIC :  28.52919119668513 \n",
      "\n",
      "Lag Order = 13\n",
      "AIC :  28.480876980634083 \n",
      "\n",
      "Lag Order = 14\n",
      "AIC :  28.52910288718971 \n",
      "\n",
      "Lag Order = 15\n",
      "AIC :  28.565021952840393 \n",
      "\n"
     ]
    }
   ],
   "source": [
    "# Drop predictors that failed the Test\n",
    "df_train_trans = df_train_trans.drop(['UnemploymentRate','GS10'], axis=1)\n",
    "\n",
    "model = VAR(df_train_trans)\n",
    "for i in range(1, 16):\n",
    "    result = model.fit(i)\n",
    "    print('Lag Order =', i)\n",
    "    print('AIC : ', result.aic, '\\n')"
   ]
  },
  {
   "cell_type": "code",
   "execution_count": 8,
   "metadata": {},
   "outputs": [
    {
     "name": "stdout",
     "output_type": "stream",
     "text": [
      "SP500-EPS-Index : 1.95\n",
      "SP500-Price : 2.0\n",
      "IndustrialProduction : 2.0\n",
      "HousingSales : 2.0\n",
      "USDollarIndex : 2.0\n",
      "VolumeOfTotalRetailTradeSales : 2.0\n"
     ]
    }
   ],
   "source": [
    "# maxlags changed to 13\n",
    "results = model.fit(maxlags=13, ic='aic')\n",
    "\n",
    "# detect autocorrelation in residuals\n",
    "dw_output = durbin_watson(results.resid)\n",
    "for col, val in zip(df_train_trans.columns, dw_output):\n",
    "    print(col, ':', round(val, 2))"
   ]
  },
  {
   "cell_type": "code",
   "execution_count": 9,
   "metadata": {},
   "outputs": [
    {
     "data": {
      "text/html": [
       "<div>\n",
       "<style scoped>\n",
       "    .dataframe tbody tr th:only-of-type {\n",
       "        vertical-align: middle;\n",
       "    }\n",
       "\n",
       "    .dataframe tbody tr th {\n",
       "        vertical-align: top;\n",
       "    }\n",
       "\n",
       "    .dataframe thead th {\n",
       "        text-align: right;\n",
       "    }\n",
       "</style>\n",
       "<table border=\"1\" class=\"dataframe\">\n",
       "  <thead>\n",
       "    <tr style=\"text-align: right;\">\n",
       "      <th></th>\n",
       "      <th>SP500-EPS-Index_x</th>\n",
       "      <th>SP500-Price_x</th>\n",
       "      <th>IndustrialProduction_x</th>\n",
       "      <th>HousingSales_x</th>\n",
       "      <th>USDollarIndex_x</th>\n",
       "      <th>VolumeOfTotalRetailTradeSales_x</th>\n",
       "    </tr>\n",
       "  </thead>\n",
       "  <tbody>\n",
       "    <tr>\n",
       "      <th>SP500-EPS-Index_y</th>\n",
       "      <td>1.0000</td>\n",
       "      <td>0.0000</td>\n",
       "      <td>0.0000</td>\n",
       "      <td>0.0008</td>\n",
       "      <td>0.0024</td>\n",
       "      <td>0.0000</td>\n",
       "    </tr>\n",
       "    <tr>\n",
       "      <th>SP500-Price_y</th>\n",
       "      <td>0.0000</td>\n",
       "      <td>1.0000</td>\n",
       "      <td>0.0000</td>\n",
       "      <td>0.0000</td>\n",
       "      <td>0.3364</td>\n",
       "      <td>0.0005</td>\n",
       "    </tr>\n",
       "    <tr>\n",
       "      <th>IndustrialProduction_y</th>\n",
       "      <td>0.0000</td>\n",
       "      <td>0.0000</td>\n",
       "      <td>1.0000</td>\n",
       "      <td>0.0287</td>\n",
       "      <td>0.0735</td>\n",
       "      <td>0.0000</td>\n",
       "    </tr>\n",
       "    <tr>\n",
       "      <th>HousingSales_y</th>\n",
       "      <td>0.0000</td>\n",
       "      <td>0.0001</td>\n",
       "      <td>0.0051</td>\n",
       "      <td>1.0000</td>\n",
       "      <td>0.4086</td>\n",
       "      <td>0.3933</td>\n",
       "    </tr>\n",
       "    <tr>\n",
       "      <th>USDollarIndex_y</th>\n",
       "      <td>0.1871</td>\n",
       "      <td>0.0983</td>\n",
       "      <td>0.1855</td>\n",
       "      <td>0.0138</td>\n",
       "      <td>1.0000</td>\n",
       "      <td>0.3082</td>\n",
       "    </tr>\n",
       "    <tr>\n",
       "      <th>VolumeOfTotalRetailTradeSales_y</th>\n",
       "      <td>0.0239</td>\n",
       "      <td>0.0124</td>\n",
       "      <td>0.0000</td>\n",
       "      <td>0.1270</td>\n",
       "      <td>0.1508</td>\n",
       "      <td>1.0000</td>\n",
       "    </tr>\n",
       "  </tbody>\n",
       "</table>\n",
       "</div>"
      ],
      "text/plain": [
       "                                 SP500-EPS-Index_x  SP500-Price_x  \\\n",
       "SP500-EPS-Index_y                           1.0000         0.0000   \n",
       "SP500-Price_y                               0.0000         1.0000   \n",
       "IndustrialProduction_y                      0.0000         0.0000   \n",
       "HousingSales_y                              0.0000         0.0001   \n",
       "USDollarIndex_y                             0.1871         0.0983   \n",
       "VolumeOfTotalRetailTradeSales_y             0.0239         0.0124   \n",
       "\n",
       "                                 IndustrialProduction_x  HousingSales_x  \\\n",
       "SP500-EPS-Index_y                                0.0000          0.0008   \n",
       "SP500-Price_y                                    0.0000          0.0000   \n",
       "IndustrialProduction_y                           1.0000          0.0287   \n",
       "HousingSales_y                                   0.0051          1.0000   \n",
       "USDollarIndex_y                                  0.1855          0.0138   \n",
       "VolumeOfTotalRetailTradeSales_y                  0.0000          0.1270   \n",
       "\n",
       "                                 USDollarIndex_x  \\\n",
       "SP500-EPS-Index_y                         0.0024   \n",
       "SP500-Price_y                             0.3364   \n",
       "IndustrialProduction_y                    0.0735   \n",
       "HousingSales_y                            0.4086   \n",
       "USDollarIndex_y                           1.0000   \n",
       "VolumeOfTotalRetailTradeSales_y           0.1508   \n",
       "\n",
       "                                 VolumeOfTotalRetailTradeSales_x  \n",
       "SP500-EPS-Index_y                                         0.0000  \n",
       "SP500-Price_y                                             0.0005  \n",
       "IndustrialProduction_y                                    0.0000  \n",
       "HousingSales_y                                            0.3933  \n",
       "USDollarIndex_y                                           0.3082  \n",
       "VolumeOfTotalRetailTradeSales_y                           1.0000  "
      ]
     },
     "execution_count": 9,
     "metadata": {},
     "output_type": "execute_result"
    }
   ],
   "source": [
    "# Granger Causality Check\n",
    "grangers_causation_matrix(df_train_trans, variables = df_train_trans.columns, maxlag = 13)"
   ]
  },
  {
   "cell_type": "code",
   "execution_count": 10,
   "metadata": {},
   "outputs": [
    {
     "name": "stdout",
     "output_type": "stream",
     "text": [
      "RMSE:  24.47\n"
     ]
    }
   ],
   "source": [
    "# Prediction\n",
    "df_test_trans = data.diff().dropna()[-n:]\n",
    "\n",
    "lag = results.k_ar\n",
    "data_pred = results.forecast(y=df_train_trans.values[-lag:], steps=n)\n",
    "df_forecast = (pd.DataFrame(data_pred, index=df_test.index, columns=df_train_trans.columns + '_pred'))\n",
    "df_result = pd.concat([df_forecast['SP500-EPS-Index_pred'], df_test_trans['SP500-EPS-Index'].dropna()], axis=1)\n",
    "\n",
    "rmse = mean_squared_error(df_result['SP500-EPS-Index_pred'], df_result['SP500-EPS-Index'], squared=False)\n",
    "print('RMSE: ', round(rmse,2))"
   ]
  },
  {
   "cell_type": "code",
   "execution_count": 11,
   "metadata": {},
   "outputs": [
    {
     "data": {
      "text/plain": [
       "<matplotlib.axes._subplots.AxesSubplot at 0x2266db8c4c0>"
      ]
     },
     "execution_count": 11,
     "metadata": {},
     "output_type": "execute_result"
    },
    {
     "data": {
      "image/png": "[encoded data removed]",
      "text/plain": [
       "<Figure size 432x288 with 1 Axes>"
      ]
     },
     "metadata": {
      "needs_background": "light"
     },
     "output_type": "display_data"
    }
   ],
   "source": [
    "df_result.plot()"
   ]
  },
  {
   "cell_type": "code",
   "execution_count": 12,
   "metadata": {},
   "outputs": [
    {
     "name": "stdout",
     "output_type": "stream",
     "text": [
      "RMSE:  101.75\n"
     ]
    }
   ],
   "source": [
    "# Detransformation\n",
    "df_result['SP500-EPS-Index_pred'] = df_train['SP500-EPS-Index'].iloc[-1] + df_result['SP500-EPS-Index_pred'].cumsum()\n",
    "df_result['SP500-EPS-Index'] = df_train['SP500-EPS-Index'].iloc[-1] + df_result['SP500-EPS-Index'].cumsum()\n",
    "\n",
    "rmse2 = mean_squared_error(df_result['SP500-EPS-Index_pred'], df_result['SP500-EPS-Index'], squared=False)\n",
    "print('RMSE: ', round(rmse2,2))"
   ]
  },
  {
   "cell_type": "code",
   "execution_count": 13,
   "metadata": {},
   "outputs": [
    {
     "data": {
      "text/plain": [
       "<matplotlib.axes._subplots.AxesSubplot at 0x2266dc468b0>"
      ]
     },
     "execution_count": 13,
     "metadata": {},
     "output_type": "execute_result"
    },
    {
     "data": {
      "image/png": "[encoded data removed]",
      "text/plain": [
       "<Figure size 432x288 with 1 Axes>"
      ]
     },
     "metadata": {
      "needs_background": "light"
     },
     "output_type": "display_data"
    }
   ],
   "source": [
    "df_result.plot()"
   ]
  }
 ],
 "metadata": {
  "kernelspec": {
   "display_name": "Python 3",
   "language": "python",
   "name": "python3"
  },
  "language_info": {
   "codemirror_mode": {
    "name": "ipython",
    "version": 3
   },
   "file_extension": ".py",
   "mimetype": "text/x-python",
   "name": "python",
   "nbconvert_exporter": "python",
   "pygments_lexer": "ipython3",
   "version": "3.8.3"
  }
 },
 "nbformat": 4,
 "nbformat_minor": 4
}
