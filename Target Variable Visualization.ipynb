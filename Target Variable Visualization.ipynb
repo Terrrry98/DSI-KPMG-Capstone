{
 "cells": [
  {
   "cell_type": "code",
   "execution_count": 1,
   "metadata": {},
   "outputs": [],
   "source": [
    "import pandas as pd\n",
    "import numpy as np\n",
    "import seaborn as sns\n",
    "import matplotlib.pylab as plt\n",
    "from scipy.stats import pearsonr\n",
    "from scipy import stats\n",
    "import warnings\n",
    "warnings.filterwarnings('ignore')"
   ]
  },
  {
   "cell_type": "markdown",
   "metadata": {},
   "source": [
    "## Load Data"
   ]
  },
  {
   "cell_type": "code",
   "execution_count": 32,
   "metadata": {},
   "outputs": [],
   "source": [
    "import os \n",
    "import openpyxl\n",
    "\n",
    "curr_path = os.getcwd()\n",
    "input_path = os.path.join(curr_path,'S&P500-EPS.xlsx')\n",
    "df = pd.read_excel(\n",
    "    input_path,\n",
    "    engine='openpyxl',\n",
    "    header=None,\n",
    "    skiprows = 1\n",
    ")\n",
    "\n",
    "df.columns = ['Date', 'SP500-PE', 'SP500-Price', 'SP500-EPS', 'SP500-Index']\n",
    "df.dropna(axis=0, how='any', inplace=True)"
   ]
  },
  {
   "cell_type": "code",
   "execution_count": 33,
   "metadata": {},
   "outputs": [
    {
     "data": {
      "text/html": [
       "<div>\n",
       "<style scoped>\n",
       "    .dataframe tbody tr th:only-of-type {\n",
       "        vertical-align: middle;\n",
       "    }\n",
       "\n",
       "    .dataframe tbody tr th {\n",
       "        vertical-align: top;\n",
       "    }\n",
       "\n",
       "    .dataframe thead th {\n",
       "        text-align: right;\n",
       "    }\n",
       "</style>\n",
       "<table border=\"1\" class=\"dataframe\">\n",
       "  <thead>\n",
       "    <tr style=\"text-align: right;\">\n",
       "      <th></th>\n",
       "      <th>Date</th>\n",
       "      <th>SP500-PE</th>\n",
       "      <th>SP500-Price</th>\n",
       "      <th>SP500-EPS</th>\n",
       "      <th>SP500-Index</th>\n",
       "    </tr>\n",
       "  </thead>\n",
       "  <tbody>\n",
       "    <tr>\n",
       "      <th>0</th>\n",
       "      <td>2021-03-01</td>\n",
       "      <td>41.54</td>\n",
       "      <td>3910.51</td>\n",
       "      <td>94.138421</td>\n",
       "      <td>1603.291856</td>\n",
       "    </tr>\n",
       "    <tr>\n",
       "      <th>1</th>\n",
       "      <td>2021-02-01</td>\n",
       "      <td>41.26</td>\n",
       "      <td>3883.43</td>\n",
       "      <td>94.120940</td>\n",
       "      <td>1602.994143</td>\n",
       "    </tr>\n",
       "    <tr>\n",
       "      <th>2</th>\n",
       "      <td>2021-01-01</td>\n",
       "      <td>40.30</td>\n",
       "      <td>3793.75</td>\n",
       "      <td>94.137717</td>\n",
       "      <td>1603.279871</td>\n",
       "    </tr>\n",
       "    <tr>\n",
       "      <th>3</th>\n",
       "      <td>2020-12-01</td>\n",
       "      <td>39.26</td>\n",
       "      <td>3695.31</td>\n",
       "      <td>94.124045</td>\n",
       "      <td>1603.047015</td>\n",
       "    </tr>\n",
       "    <tr>\n",
       "      <th>4</th>\n",
       "      <td>2020-11-01</td>\n",
       "      <td>37.16</td>\n",
       "      <td>3548.99</td>\n",
       "      <td>95.505651</td>\n",
       "      <td>1626.577454</td>\n",
       "    </tr>\n",
       "    <tr>\n",
       "      <th>...</th>\n",
       "      <td>...</td>\n",
       "      <td>...</td>\n",
       "      <td>...</td>\n",
       "      <td>...</td>\n",
       "      <td>...</td>\n",
       "    </tr>\n",
       "    <tr>\n",
       "      <th>615</th>\n",
       "      <td>1969-12-01</td>\n",
       "      <td>15.76</td>\n",
       "      <td>91.11</td>\n",
       "      <td>5.781091</td>\n",
       "      <td>98.459021</td>\n",
       "    </tr>\n",
       "    <tr>\n",
       "      <th>616</th>\n",
       "      <td>1969-11-01</td>\n",
       "      <td>16.54</td>\n",
       "      <td>96.21</td>\n",
       "      <td>5.816808</td>\n",
       "      <td>99.067314</td>\n",
       "    </tr>\n",
       "    <tr>\n",
       "      <th>617</th>\n",
       "      <td>1969-10-01</td>\n",
       "      <td>16.32</td>\n",
       "      <td>95.52</td>\n",
       "      <td>5.852941</td>\n",
       "      <td>99.682710</td>\n",
       "    </tr>\n",
       "    <tr>\n",
       "      <th>618</th>\n",
       "      <td>1969-09-01</td>\n",
       "      <td>16.05</td>\n",
       "      <td>94.51</td>\n",
       "      <td>5.888474</td>\n",
       "      <td>100.287869</td>\n",
       "    </tr>\n",
       "    <tr>\n",
       "      <th>619</th>\n",
       "      <td>1969-08-01</td>\n",
       "      <td>16.04</td>\n",
       "      <td>94.18</td>\n",
       "      <td>5.871571</td>\n",
       "      <td>100.000000</td>\n",
       "    </tr>\n",
       "  </tbody>\n",
       "</table>\n",
       "<p>620 rows × 5 columns</p>\n",
       "</div>"
      ],
      "text/plain": [
       "          Date  SP500-PE  SP500-Price  SP500-EPS  SP500-Index\n",
       "0   2021-03-01     41.54      3910.51  94.138421  1603.291856\n",
       "1   2021-02-01     41.26      3883.43  94.120940  1602.994143\n",
       "2   2021-01-01     40.30      3793.75  94.137717  1603.279871\n",
       "3   2020-12-01     39.26      3695.31  94.124045  1603.047015\n",
       "4   2020-11-01     37.16      3548.99  95.505651  1626.577454\n",
       "..         ...       ...          ...        ...          ...\n",
       "615 1969-12-01     15.76        91.11   5.781091    98.459021\n",
       "616 1969-11-01     16.54        96.21   5.816808    99.067314\n",
       "617 1969-10-01     16.32        95.52   5.852941    99.682710\n",
       "618 1969-09-01     16.05        94.51   5.888474   100.287869\n",
       "619 1969-08-01     16.04        94.18   5.871571   100.000000\n",
       "\n",
       "[620 rows x 5 columns]"
      ]
     },
     "execution_count": 33,
     "metadata": {},
     "output_type": "execute_result"
    }
   ],
   "source": [
    "df"
   ]
  },
  {
   "cell_type": "markdown",
   "metadata": {},
   "source": [
    "## Find Peak and Trough"
   ]
  },
  {
   "cell_type": "code",
   "execution_count": null,
   "metadata": {},
   "outputs": [],
   "source": [
    "# find the local min and local max\n",
    "from scipy.signal import argrelextrema\n",
    "ilocs_min = argrelextrema(df['SP500-Index'].values, np.less_equal, mode = 'wrap', order = 12)[0]\n",
    "ilocs_max = argrelextrema(df['SP500-Index'].values, np.greater_equal, mode = 'wrap', order = 12)[0]"
   ]
  },
  {
   "cell_type": "code",
   "execution_count": 66,
   "metadata": {},
   "outputs": [
    {
     "data": {
      "image/png": "[encoded data removed]",
      "text/plain": [
       "<Figure size 1080x360 with 1 Axes>"
      ]
     },
     "metadata": {
      "needs_background": "light"
     },
     "output_type": "display_data"
    }
   ],
   "source": [
    "# plot \n",
    "y = df['SP500-Index']\n",
    "x = df['Date']\n",
    "plt.figure(figsize=(15,5))\n",
    "plt.plot(x, y)\n",
    "plt.scatter(df.iloc[ilocs_min]['Date'], df.iloc[ilocs_min]['SP500-Index'], color = 'red')\n",
    "plt.scatter(df.iloc[ilocs_max]['Date'], df.iloc[ilocs_max]['SP500-Index'], color ='green')\n",
    "plt.xlabel('Date')\n",
    "plt.ylabel('Index')\n",
    "plt.title('XX')\n",
    "plt.show()\n",
    "#sns.lineplot(df['Date'], df['SP500-Index'])"
   ]
  },
  {
   "cell_type": "code",
   "execution_count": 67,
   "metadata": {},
   "outputs": [],
   "source": [
    "# get the anormal event date\n",
    "peak_date = df.iloc[ilocs_min]['Date']\n",
    "trough_date = df.iloc[ilocs_max]['Date']"
   ]
  },
  {
   "cell_type": "markdown",
   "metadata": {},
   "source": [
    "## Find Cycle(Short term contraction, Long term growth, irregular)"
   ]
  },
  {
   "cell_type": "code",
   "execution_count": 70,
   "metadata": {},
   "outputs": [],
   "source": [
    "import pandas as pd\n",
    "from cydets.algorithm import detect_cycles\n",
    "\n",
    "# create sample data\n",
    "#series = pd.Series([0, 1, 0, 0.5, 0, 1, 0, 0.5, 0, 1, 0])\n",
    "\n",
    "# detect cycles\n",
    "cycles = detect_cycles(df['SP500-Index'])"
   ]
  },
  {
   "cell_type": "code",
   "execution_count": 74,
   "metadata": {},
   "outputs": [
    {
     "data": {
      "text/html": [
       "<div>\n",
       "<style scoped>\n",
       "    .dataframe tbody tr th:only-of-type {\n",
       "        vertical-align: middle;\n",
       "    }\n",
       "\n",
       "    .dataframe tbody tr th {\n",
       "        vertical-align: top;\n",
       "    }\n",
       "\n",
       "    .dataframe thead th {\n",
       "        text-align: right;\n",
       "    }\n",
       "</style>\n",
       "<table border=\"1\" class=\"dataframe\">\n",
       "  <thead>\n",
       "    <tr style=\"text-align: right;\">\n",
       "      <th></th>\n",
       "      <th>t_start</th>\n",
       "      <th>t_end</th>\n",
       "      <th>t_minimum</th>\n",
       "      <th>doc</th>\n",
       "      <th>duration</th>\n",
       "    </tr>\n",
       "  </thead>\n",
       "  <tbody>\n",
       "    <tr>\n",
       "      <th>3</th>\n",
       "      <td>21</td>\n",
       "      <td>78</td>\n",
       "      <td>60</td>\n",
       "      <td>0.145333</td>\n",
       "      <td>57</td>\n",
       "    </tr>\n",
       "    <tr>\n",
       "      <th>7</th>\n",
       "      <td>112</td>\n",
       "      <td>165</td>\n",
       "      <td>144</td>\n",
       "      <td>0.581167</td>\n",
       "      <td>53</td>\n",
       "    </tr>\n",
       "    <tr>\n",
       "      <th>9</th>\n",
       "      <td>165</td>\n",
       "      <td>246</td>\n",
       "      <td>231</td>\n",
       "      <td>0.215935</td>\n",
       "      <td>81</td>\n",
       "    </tr>\n",
       "    <tr>\n",
       "      <th>14</th>\n",
       "      <td>306</td>\n",
       "      <td>381</td>\n",
       "      <td>351</td>\n",
       "      <td>0.068804</td>\n",
       "      <td>75</td>\n",
       "    </tr>\n",
       "  </tbody>\n",
       "</table>\n",
       "</div>"
      ],
      "text/plain": [
       "    t_start  t_end  t_minimum       doc  duration\n",
       "3        21     78         60  0.145333        57\n",
       "7       112    165        144  0.581167        53\n",
       "9       165    246        231  0.215935        81\n",
       "14      306    381        351  0.068804        75"
      ]
     },
     "execution_count": 74,
     "metadata": {},
     "output_type": "execute_result"
    }
   ],
   "source": [
    "cycles.loc[cycles['doc'] >= 0.05]"
   ]
  }
 ],
 "metadata": {
  "kernelspec": {
   "display_name": "eods-f20",
   "language": "python",
   "name": "eods-f20"
  },
  "language_info": {
   "codemirror_mode": {
    "name": "ipython",
    "version": 3
   },
   "file_extension": ".py",
   "mimetype": "text/x-python",
   "name": "python",
   "nbconvert_exporter": "python",
   "pygments_lexer": "ipython3",
   "version": "3.8.5"
  }
 },
 "nbformat": 4,
 "nbformat_minor": 4
}
