{
 "cells": [
  {
   "cell_type": "code",
   "execution_count": 1,
   "metadata": {},
   "outputs": [],
   "source": [
    "import pandas as pd\n",
    "import os\n",
    "import numpy as np\n",
    "import matplotlib.pyplot as plt\n",
    "from sklearn.preprocessing import StandardScaler"
   ]
  },
  {
   "cell_type": "code",
   "execution_count": 2,
   "metadata": {},
   "outputs": [],
   "source": [
    "from keras.models import Sequential\n",
    "from keras.layers import Dense, Dropout, Flatten\n",
    "from keras.layers.convolutional import Conv2D, MaxPooling2D, AveragePooling2D"
   ]
  },
  {
   "cell_type": "code",
   "execution_count": 3,
   "metadata": {},
   "outputs": [],
   "source": [
    "curr_path = os.getcwd()\n",
    "input_path = os.path.join(curr_path,'merged_data_1020.xlsx')\n",
    "\n",
    "data = pd.read_excel(\n",
    "    input_path,\n",
    "    engine='openpyxl',\n",
    ")\n",
    "data.drop(['ManufacturingNewOrders','ConstructionSpending'], axis=1, inplace=True)\n",
    "data.dropna(inplace = True)"
   ]
  },
  {
   "cell_type": "code",
   "execution_count": 4,
   "metadata": {},
   "outputs": [],
   "source": [
    "withouty = data.iloc[:, 2:]\n",
    "withouty\n",
    "normalizeddata = (withouty - withouty.mean()) / withouty.std()\n",
    "normalizeddata['SP500-EPS-Index'] = data['SP500-EPS-Index']"
   ]
  },
  {
   "cell_type": "code",
   "execution_count": 5,
   "metadata": {},
   "outputs": [
    {
     "data": {
      "text/html": [
       "<div>\n",
       "<style scoped>\n",
       "    .dataframe tbody tr th:only-of-type {\n",
       "        vertical-align: middle;\n",
       "    }\n",
       "\n",
       "    .dataframe tbody tr th {\n",
       "        vertical-align: top;\n",
       "    }\n",
       "\n",
       "    .dataframe thead th {\n",
       "        text-align: right;\n",
       "    }\n",
       "</style>\n",
       "<table border=\"1\" class=\"dataframe\">\n",
       "  <thead>\n",
       "    <tr style=\"text-align: right;\">\n",
       "      <th></th>\n",
       "      <th>Date</th>\n",
       "      <th>SP500-Price</th>\n",
       "      <th>SP500-EPS-Index</th>\n",
       "      <th>gdp</th>\n",
       "      <th>IndustrialProduction</th>\n",
       "      <th>GS10</th>\n",
       "      <th>CPIFABSL</th>\n",
       "      <th>MedianUsualWeeklyRealEarnings</th>\n",
       "      <th>PCE</th>\n",
       "      <th>PPI</th>\n",
       "      <th>VolumeOfTotalRetailTradeSales-GR</th>\n",
       "      <th>HousingSales</th>\n",
       "      <th>UnemploymentRate</th>\n",
       "      <th>EffectiveRate</th>\n",
       "      <th>M2</th>\n",
       "      <th>GovernmentBudgetBalance</th>\n",
       "    </tr>\n",
       "  </thead>\n",
       "  <tbody>\n",
       "    <tr>\n",
       "      <th>114</th>\n",
       "      <td>1979-02-01</td>\n",
       "      <td>98.23</td>\n",
       "      <td>221.000849</td>\n",
       "      <td>2591.247</td>\n",
       "      <td>47.5167</td>\n",
       "      <td>9.10</td>\n",
       "      <td>77.700</td>\n",
       "      <td>335.0</td>\n",
       "      <td>1517.8</td>\n",
       "      <td>74.9</td>\n",
       "      <td>57.855746</td>\n",
       "      <td>61200</td>\n",
       "      <td>5.9</td>\n",
       "      <td>10.06</td>\n",
       "      <td>1369.3</td>\n",
       "      <td>21.379</td>\n",
       "    </tr>\n",
       "    <tr>\n",
       "      <th>115</th>\n",
       "      <td>1979-03-01</td>\n",
       "      <td>100.10</td>\n",
       "      <td>226.404356</td>\n",
       "      <td>2591.247</td>\n",
       "      <td>47.7473</td>\n",
       "      <td>9.12</td>\n",
       "      <td>78.400</td>\n",
       "      <td>335.0</td>\n",
       "      <td>1531.2</td>\n",
       "      <td>75.8</td>\n",
       "      <td>58.420256</td>\n",
       "      <td>60400</td>\n",
       "      <td>5.8</td>\n",
       "      <td>10.09</td>\n",
       "      <td>1384.0</td>\n",
       "      <td>21.379</td>\n",
       "    </tr>\n",
       "    <tr>\n",
       "      <th>116</th>\n",
       "      <td>1979-04-01</td>\n",
       "      <td>102.10</td>\n",
       "      <td>230.316190</td>\n",
       "      <td>2591.247</td>\n",
       "      <td>46.9632</td>\n",
       "      <td>9.18</td>\n",
       "      <td>78.900</td>\n",
       "      <td>335.0</td>\n",
       "      <td>1538.4</td>\n",
       "      <td>76.9</td>\n",
       "      <td>57.656483</td>\n",
       "      <td>62600</td>\n",
       "      <td>5.8</td>\n",
       "      <td>10.01</td>\n",
       "      <td>1408.4</td>\n",
       "      <td>21.379</td>\n",
       "    </tr>\n",
       "    <tr>\n",
       "      <th>117</th>\n",
       "      <td>1979-05-01</td>\n",
       "      <td>99.73</td>\n",
       "      <td>234.279069</td>\n",
       "      <td>2667.565</td>\n",
       "      <td>47.5953</td>\n",
       "      <td>9.25</td>\n",
       "      <td>79.700</td>\n",
       "      <td>330.0</td>\n",
       "      <td>1558.8</td>\n",
       "      <td>77.5</td>\n",
       "      <td>57.579018</td>\n",
       "      <td>62800</td>\n",
       "      <td>5.6</td>\n",
       "      <td>10.24</td>\n",
       "      <td>1402.7</td>\n",
       "      <td>-4.482</td>\n",
       "    </tr>\n",
       "    <tr>\n",
       "      <th>118</th>\n",
       "      <td>1979-06-01</td>\n",
       "      <td>101.70</td>\n",
       "      <td>238.249622</td>\n",
       "      <td>2667.565</td>\n",
       "      <td>47.6561</td>\n",
       "      <td>8.91</td>\n",
       "      <td>80.000</td>\n",
       "      <td>330.0</td>\n",
       "      <td>1575.7</td>\n",
       "      <td>78.0</td>\n",
       "      <td>57.371615</td>\n",
       "      <td>64200</td>\n",
       "      <td>5.7</td>\n",
       "      <td>10.29</td>\n",
       "      <td>1422.5</td>\n",
       "      <td>-4.482</td>\n",
       "    </tr>\n",
       "    <tr>\n",
       "      <th>...</th>\n",
       "      <td>...</td>\n",
       "      <td>...</td>\n",
       "      <td>...</td>\n",
       "      <td>...</td>\n",
       "      <td>...</td>\n",
       "      <td>...</td>\n",
       "      <td>...</td>\n",
       "      <td>...</td>\n",
       "      <td>...</td>\n",
       "      <td>...</td>\n",
       "      <td>...</td>\n",
       "      <td>...</td>\n",
       "      <td>...</td>\n",
       "      <td>...</td>\n",
       "      <td>...</td>\n",
       "      <td>...</td>\n",
       "    </tr>\n",
       "    <tr>\n",
       "      <th>598</th>\n",
       "      <td>2019-06-01</td>\n",
       "      <td>2890.17</td>\n",
       "      <td>2303.374446</td>\n",
       "      <td>21505.012</td>\n",
       "      <td>99.6115</td>\n",
       "      <td>2.07</td>\n",
       "      <td>257.707</td>\n",
       "      <td>360.0</td>\n",
       "      <td>14425.7</td>\n",
       "      <td>200.3</td>\n",
       "      <td>106.099185</td>\n",
       "      <td>311800</td>\n",
       "      <td>3.6</td>\n",
       "      <td>2.38</td>\n",
       "      <td>14753.8</td>\n",
       "      <td>-237.915</td>\n",
       "    </tr>\n",
       "    <tr>\n",
       "      <th>599</th>\n",
       "      <td>2019-07-01</td>\n",
       "      <td>2996.11</td>\n",
       "      <td>2290.278233</td>\n",
       "      <td>21505.012</td>\n",
       "      <td>99.2139</td>\n",
       "      <td>2.06</td>\n",
       "      <td>257.998</td>\n",
       "      <td>360.0</td>\n",
       "      <td>14487.4</td>\n",
       "      <td>200.7</td>\n",
       "      <td>106.615519</td>\n",
       "      <td>308300</td>\n",
       "      <td>3.6</td>\n",
       "      <td>2.40</td>\n",
       "      <td>14833.1</td>\n",
       "      <td>-237.915</td>\n",
       "    </tr>\n",
       "    <tr>\n",
       "      <th>600</th>\n",
       "      <td>2019-08-01</td>\n",
       "      <td>2897.50</td>\n",
       "      <td>2277.247380</td>\n",
       "      <td>21694.458</td>\n",
       "      <td>99.7598</td>\n",
       "      <td>1.63</td>\n",
       "      <td>258.158</td>\n",
       "      <td>362.0</td>\n",
       "      <td>14536.4</td>\n",
       "      <td>199.2</td>\n",
       "      <td>107.118994</td>\n",
       "      <td>327000</td>\n",
       "      <td>3.7</td>\n",
       "      <td>2.13</td>\n",
       "      <td>14914.7</td>\n",
       "      <td>-356.353</td>\n",
       "    </tr>\n",
       "    <tr>\n",
       "      <th>601</th>\n",
       "      <td>2019-09-01</td>\n",
       "      <td>2982.16</td>\n",
       "      <td>2263.360675</td>\n",
       "      <td>21694.458</td>\n",
       "      <td>99.1341</td>\n",
       "      <td>1.70</td>\n",
       "      <td>258.740</td>\n",
       "      <td>362.0</td>\n",
       "      <td>14564.7</td>\n",
       "      <td>198.4</td>\n",
       "      <td>106.090787</td>\n",
       "      <td>315700</td>\n",
       "      <td>3.5</td>\n",
       "      <td>2.04</td>\n",
       "      <td>15005.6</td>\n",
       "      <td>-356.353</td>\n",
       "    </tr>\n",
       "    <tr>\n",
       "      <th>602</th>\n",
       "      <td>2019-10-01</td>\n",
       "      <td>2977.68</td>\n",
       "      <td>2300.976121</td>\n",
       "      <td>21694.458</td>\n",
       "      <td>98.4399</td>\n",
       "      <td>1.71</td>\n",
       "      <td>259.216</td>\n",
       "      <td>362.0</td>\n",
       "      <td>14607.9</td>\n",
       "      <td>198.6</td>\n",
       "      <td>106.354099</td>\n",
       "      <td>322400</td>\n",
       "      <td>3.6</td>\n",
       "      <td>1.83</td>\n",
       "      <td>15131.7</td>\n",
       "      <td>-356.353</td>\n",
       "    </tr>\n",
       "  </tbody>\n",
       "</table>\n",
       "<p>489 rows × 16 columns</p>\n",
       "</div>"
      ],
      "text/plain": [
       "          Date  SP500-Price  SP500-EPS-Index        gdp  IndustrialProduction  \\\n",
       "114 1979-02-01        98.23       221.000849   2591.247               47.5167   \n",
       "115 1979-03-01       100.10       226.404356   2591.247               47.7473   \n",
       "116 1979-04-01       102.10       230.316190   2591.247               46.9632   \n",
       "117 1979-05-01        99.73       234.279069   2667.565               47.5953   \n",
       "118 1979-06-01       101.70       238.249622   2667.565               47.6561   \n",
       "..         ...          ...              ...        ...                   ...   \n",
       "598 2019-06-01      2890.17      2303.374446  21505.012               99.6115   \n",
       "599 2019-07-01      2996.11      2290.278233  21505.012               99.2139   \n",
       "600 2019-08-01      2897.50      2277.247380  21694.458               99.7598   \n",
       "601 2019-09-01      2982.16      2263.360675  21694.458               99.1341   \n",
       "602 2019-10-01      2977.68      2300.976121  21694.458               98.4399   \n",
       "\n",
       "     GS10  CPIFABSL  MedianUsualWeeklyRealEarnings      PCE    PPI  \\\n",
       "114  9.10    77.700                          335.0   1517.8   74.9   \n",
       "115  9.12    78.400                          335.0   1531.2   75.8   \n",
       "116  9.18    78.900                          335.0   1538.4   76.9   \n",
       "117  9.25    79.700                          330.0   1558.8   77.5   \n",
       "118  8.91    80.000                          330.0   1575.7   78.0   \n",
       "..    ...       ...                            ...      ...    ...   \n",
       "598  2.07   257.707                          360.0  14425.7  200.3   \n",
       "599  2.06   257.998                          360.0  14487.4  200.7   \n",
       "600  1.63   258.158                          362.0  14536.4  199.2   \n",
       "601  1.70   258.740                          362.0  14564.7  198.4   \n",
       "602  1.71   259.216                          362.0  14607.9  198.6   \n",
       "\n",
       "     VolumeOfTotalRetailTradeSales-GR  HousingSales  UnemploymentRate  \\\n",
       "114                         57.855746         61200               5.9   \n",
       "115                         58.420256         60400               5.8   \n",
       "116                         57.656483         62600               5.8   \n",
       "117                         57.579018         62800               5.6   \n",
       "118                         57.371615         64200               5.7   \n",
       "..                                ...           ...               ...   \n",
       "598                        106.099185        311800               3.6   \n",
       "599                        106.615519        308300               3.6   \n",
       "600                        107.118994        327000               3.7   \n",
       "601                        106.090787        315700               3.5   \n",
       "602                        106.354099        322400               3.6   \n",
       "\n",
       "     EffectiveRate       M2  GovernmentBudgetBalance  \n",
       "114          10.06   1369.3                   21.379  \n",
       "115          10.09   1384.0                   21.379  \n",
       "116          10.01   1408.4                   21.379  \n",
       "117          10.24   1402.7                   -4.482  \n",
       "118          10.29   1422.5                   -4.482  \n",
       "..             ...      ...                      ...  \n",
       "598           2.38  14753.8                 -237.915  \n",
       "599           2.40  14833.1                 -237.915  \n",
       "600           2.13  14914.7                 -356.353  \n",
       "601           2.04  15005.6                 -356.353  \n",
       "602           1.83  15131.7                 -356.353  \n",
       "\n",
       "[489 rows x 16 columns]"
      ]
     },
     "execution_count": 5,
     "metadata": {},
     "output_type": "execute_result"
    }
   ],
   "source": [
    "data"
   ]
  },
  {
   "cell_type": "code",
   "execution_count": 6,
   "metadata": {},
   "outputs": [],
   "source": [
    "# a helper function concats data among lagged window (length=lags) with the target\n",
    "# e.g, for input dat with var = [date, X, y], lags = 2, \n",
    "#  the returned dataset will have colunn names [date_2, X_2, y_2, date_1, X_1, y_1, date, X, y] with length - 2\n",
    "\n",
    "def flatten_data(dat, lags = 3):\n",
    "    new_data = dat.copy(deep=False)\n",
    "\n",
    "    # add variables you don't want to include below\n",
    "    dropped_col = ['gdp']\n",
    "    for i in range(dat.shape[1]):\n",
    "        new_data.columns.values[i] = new_data.columns.values[i] + '_'  + str(0)\n",
    "    \n",
    "    #new_data.drop(dropped_col, axis=1, inplace=True)\n",
    "    \n",
    "    for n in range(lags):\n",
    "        fill_data = dat.shift(periods = n+1)\n",
    "        fill_data = fill_data.iloc[n+1: , :]\n",
    "        new_data = new_data.iloc[1:, :]\n",
    "        new_data = pd.concat([fill_data, new_data], axis=1)\n",
    "        \n",
    "        # rename added columns\n",
    "        for i in range(dat.shape[1]):\n",
    "            new_data.columns.values[i] = dat.columns.values[i][:-2] + '_'  + str(n+1)\n",
    "        new_dropped_col=[]\n",
    "        for i in range(len(dropped_col)):\n",
    "            name = dropped_col[i]+'_'+str(n+1)\n",
    "            new_dropped_col.append(name)\n",
    "        new_data.drop(new_dropped_col, axis=1, inplace=True)\n",
    "            \n",
    "    return new_data"
   ]
  },
  {
   "cell_type": "code",
   "execution_count": 7,
   "metadata": {},
   "outputs": [],
   "source": [
    "lags=15\n",
    "flatterned = flatten_data(normalizeddata, lags = lags)"
   ]
  },
  {
   "cell_type": "code",
   "execution_count": 8,
   "metadata": {},
   "outputs": [],
   "source": [
    "flatterned.drop(['gdp_0'], axis = 1, inplace = True)"
   ]
  },
  {
   "cell_type": "code",
   "execution_count": 9,
   "metadata": {},
   "outputs": [],
   "source": [
    "flatterned.shape\n",
    "n_features = int(flatterned.shape[1]/(lags+1))"
   ]
  },
  {
   "cell_type": "code",
   "execution_count": 10,
   "metadata": {},
   "outputs": [],
   "source": [
    "# train ratio = 0.8\n",
    "def train_test_split(data, ratio):\n",
    "    n = len(data)\n",
    "    train_idx = round(n*ratio) +1\n",
    "    test_idx = round(n*ratio) + 1\n",
    "    train = data[:train_idx]\n",
    "    test = data[test_idx:]\n",
    "    # find train_y, train_x and test_y, test_x\n",
    "    train_y = train['SP500-EPS-Index_0']\n",
    "    train_x = train.loc[:, data.columns[:int(n_features*lags)]]\n",
    "    test_y = test['SP500-EPS-Index_0']\n",
    "    test_x = test.loc[:, data.columns[:int(n_features*lags)]]\n",
    "    return train_y, test_y, train_x, test_x"
   ]
  },
  {
   "cell_type": "code",
   "execution_count": 11,
   "metadata": {},
   "outputs": [],
   "source": [
    "train_y, test_y, train_x, test_x = train_test_split(flatterned, 0.97)"
   ]
  },
  {
   "cell_type": "code",
   "execution_count": 12,
   "metadata": {},
   "outputs": [],
   "source": [
    "# reshape data and normalize data\n",
    "train_x = np.array(train_x).reshape(len(train_x), lags, n_features, 1)\n",
    "test_x = np.array(test_x).reshape(len(test_x), lags, n_features, 1)"
   ]
  },
  {
   "cell_type": "code",
   "execution_count": 13,
   "metadata": {},
   "outputs": [
    {
     "name": "stdout",
     "output_type": "stream",
     "text": [
      "Model: \"sequential\"\n",
      "_________________________________________________________________\n",
      "Layer (type)                 Output Shape              Param #   \n",
      "=================================================================\n",
      "conv2d (Conv2D)              (None, 14, 12, 32)        160       \n",
      "_________________________________________________________________\n",
      "flatten (Flatten)            (None, 5376)              0         \n",
      "_________________________________________________________________\n",
      "dense (Dense)                (None, 45)                241965    \n",
      "_________________________________________________________________\n",
      "dense_1 (Dense)              (None, 1)                 46        \n",
      "=================================================================\n",
      "Total params: 242,171\n",
      "Trainable params: 242,171\n",
      "Non-trainable params: 0\n",
      "_________________________________________________________________\n"
     ]
    }
   ],
   "source": [
    "from keras import backend as K\n",
    "\n",
    "def root_mean_squared_error(y_true, y_pred):\n",
    "        return K.sqrt(K.mean(K.square(y_pred - y_true), axis=-1)) \n",
    "\n",
    "# build CNN model\n",
    "model = Sequential()\n",
    "model.add(Conv2D(filters = 32, \n",
    "                 input_shape = ((lags,n_features,1)),\n",
    "                 data_format = 'channels_last',\n",
    "                 kernel_size=(2,2), \n",
    "                 strides=(1,1),   \n",
    "                 activation='relu'))\n",
    "#model.add(MaxPooling2D(pool_size=(2, 1)))\n",
    "#model.add(AveragePooling2D(pool_size=(2,1)))\n",
    "model.add(Flatten())\n",
    "model.add(Dense(45, activation='relu'))\n",
    "model.add(Dense(1))\n",
    "\n",
    "model.compile(optimizer='adam', loss=root_mean_squared_error)\n",
    "model.summary()"
   ]
  },
  {
   "cell_type": "code",
   "execution_count": 14,
   "metadata": {},
   "outputs": [
    {
     "name": "stdout",
     "output_type": "stream",
     "text": [
      "Epoch 1/20\n",
      "15/15 [==============================] - 0s 6ms/step - loss: 321.3477 - val_loss: 81.5321\n",
      "Epoch 2/20\n",
      "15/15 [==============================] - 0s 2ms/step - loss: 113.3270 - val_loss: 139.4693\n",
      "Epoch 3/20\n",
      "15/15 [==============================] - 0s 2ms/step - loss: 93.5881 - val_loss: 64.6661\n",
      "Epoch 4/20\n",
      "15/15 [==============================] - 0s 2ms/step - loss: 83.3672 - val_loss: 71.7643\n",
      "Epoch 5/20\n",
      "15/15 [==============================] - 0s 2ms/step - loss: 71.5713 - val_loss: 80.4455\n",
      "Epoch 6/20\n",
      "15/15 [==============================] - 0s 2ms/step - loss: 62.7998 - val_loss: 72.9734\n",
      "Epoch 7/20\n",
      "15/15 [==============================] - 0s 2ms/step - loss: 50.4673 - val_loss: 32.3793\n",
      "Epoch 8/20\n",
      "15/15 [==============================] - 0s 2ms/step - loss: 43.8224 - val_loss: 23.6281\n",
      "Epoch 9/20\n",
      "15/15 [==============================] - 0s 2ms/step - loss: 40.1733 - val_loss: 31.7895\n",
      "Epoch 10/20\n",
      "15/15 [==============================] - 0s 2ms/step - loss: 39.8049 - val_loss: 79.3228\n",
      "Epoch 11/20\n",
      "15/15 [==============================] - 0s 2ms/step - loss: 42.7512 - val_loss: 82.0491\n",
      "Epoch 12/20\n",
      "15/15 [==============================] - 0s 2ms/step - loss: 35.4619 - val_loss: 49.6051\n",
      "Epoch 13/20\n",
      "15/15 [==============================] - 0s 2ms/step - loss: 39.7799 - val_loss: 37.1316\n",
      "Epoch 14/20\n",
      "15/15 [==============================] - 0s 2ms/step - loss: 29.2639 - val_loss: 44.5127\n",
      "Epoch 15/20\n",
      "15/15 [==============================] - 0s 2ms/step - loss: 30.6888 - val_loss: 27.1798\n",
      "Epoch 16/20\n",
      "15/15 [==============================] - 0s 2ms/step - loss: 28.6074 - val_loss: 20.7157\n",
      "Epoch 17/20\n",
      "15/15 [==============================] - 0s 2ms/step - loss: 32.6326 - val_loss: 75.4690\n",
      "Epoch 18/20\n",
      "15/15 [==============================] - 0s 2ms/step - loss: 25.5247 - val_loss: 54.7977\n",
      "Epoch 19/20\n",
      "15/15 [==============================] - 0s 2ms/step - loss: 22.5574 - val_loss: 20.2680\n",
      "Epoch 20/20\n",
      "15/15 [==============================] - 0s 2ms/step - loss: 21.8914 - val_loss: 19.5587\n"
     ]
    }
   ],
   "source": [
    "result = model.fit(train_x, train_y, verbose=1, validation_data=(test_x, test_y), epochs=20)"
   ]
  },
  {
   "cell_type": "code",
   "execution_count": 15,
   "metadata": {},
   "outputs": [
    {
     "data": {
      "text/plain": [
       "<matplotlib.legend.Legend at 0x1e8205de970>"
      ]
     },
     "execution_count": 15,
     "metadata": {},
     "output_type": "execute_result"
    },
    {
     "data": {
      "image/png": "[encoded data removed]",
      "text/plain": [
       "<Figure size 432x288 with 1 Axes>"
      ]
     },
     "metadata": {
      "needs_background": "light"
     },
     "output_type": "display_data"
    }
   ],
   "source": [
    "plt.plot(result.history['loss'])\n",
    "plt.plot(result.history['val_loss'])\n",
    "plt.title('model loss')\n",
    "plt.ylabel('loss')\n",
    "plt.xlabel('epoch')\n",
    "plt.legend(['train', 'test'], loc='upper right')\n"
   ]
  },
  {
   "cell_type": "code",
   "execution_count": 16,
   "metadata": {},
   "outputs": [
    {
     "data": {
      "text/plain": [
       "<matplotlib.legend.Legend at 0x1e8216a8d30>"
      ]
     },
     "execution_count": 16,
     "metadata": {},
     "output_type": "execute_result"
    },
    {
     "data": {
      "image/png": "[encoded data removed]",
      "text/plain": [
       "<Figure size 432x288 with 1 Axes>"
      ]
     },
     "metadata": {
      "needs_background": "light"
     },
     "output_type": "display_data"
    }
   ],
   "source": [
    "f, ax = plt.subplots()\n",
    "ax.plot(test_y.values)\n",
    "ax.plot(model.predict(test_x))\n",
    "ax.set_ylabel('index')\n",
    "ax.set_xlabel('Date')\n",
    "ax.legend(['true_y', 'pred_y'], loc='upper right')"
   ]
  },
  {
   "cell_type": "code",
   "execution_count": 17,
   "metadata": {},
   "outputs": [
    {
     "data": {
      "text/plain": [
       "21.401846175803975"
      ]
     },
     "execution_count": 17,
     "metadata": {},
     "output_type": "execute_result"
    }
   ],
   "source": [
    "from sklearn.metrics import mean_squared_error\n",
    "mean_squared_error(model.predict(test_x), test_y.values, squared=False)"
   ]
  }
 ],
 "metadata": {
  "kernelspec": {
   "display_name": "Python 3",
   "language": "python",
   "name": "python3"
  },
  "language_info": {
   "codemirror_mode": {
    "name": "ipython",
    "version": 3
   },
   "file_extension": ".py",
   "mimetype": "text/x-python",
   "name": "python",
   "nbconvert_exporter": "python",
   "pygments_lexer": "ipython3",
   "version": "3.8.8"
  }
 },
 "nbformat": 4,
 "nbformat_minor": 4
}
